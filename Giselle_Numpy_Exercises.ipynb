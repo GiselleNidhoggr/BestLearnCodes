{
  "nbformat": 4,
  "nbformat_minor": 0,
  "metadata": {
    "kernelspec": {
      "display_name": "Python 3",
      "language": "python",
      "name": "python3"
    },
    "language_info": {
      "codemirror_mode": {
        "name": "ipython",
        "version": 3
      },
      "file_extension": ".py",
      "mimetype": "text/x-python",
      "name": "python",
      "nbconvert_exporter": "python",
      "pygments_lexer": "ipython3",
      "version": "3.9.5"
    },
    "colab": {
      "name": "Giselle - Numpy Exercises.ipynb",
      "provenance": [],
      "collapsed_sections": [
        "dsioWNoB8OBa"
      ],
      "toc_visible": true,
      "include_colab_link": true
    }
  },
  "cells": [
    {
      "cell_type": "markdown",
      "metadata": {
        "id": "view-in-github",
        "colab_type": "text"
      },
      "source": [
        "<a href=\"https://colab.research.google.com/github/GiselleNidhoggr/BestLearnCodes/blob/main/Giselle_Numpy_Exercises.ipynb\" target=\"_parent\"><img src=\"https://colab.research.google.com/assets/colab-badge.svg\" alt=\"Open In Colab\"/></a>"
      ]
    },
    {
      "cell_type": "markdown",
      "source": [
        "#Atividades - Python para Data Science - FIT\n",
        "\n",
        "Instrutor:  ```adson.nogueira@fit-tecnologia.org.br```\n",
        "\n",
        "Aluna:  ```Giselle de Oliveira Almeida```\n"
      ],
      "metadata": {
        "id": "I85Pai6-G2bf"
      }
    },
    {
      "cell_type": "markdown",
      "metadata": {
        "id": "dsioWNoB8OBa"
      },
      "source": [
        "## Exercícios Dia Um\n"
      ]
    },
    {
      "cell_type": "markdown",
      "metadata": {
        "id": "j7RBHIKZ8OBd"
      },
      "source": [
        "1. Importe NumPy como `np`"
      ]
    },
    {
      "cell_type": "code",
      "metadata": {
        "id": "pZZAuydA8OBe"
      },
      "source": [
        "import numpy as np"
      ],
      "execution_count": null,
      "outputs": []
    },
    {
      "cell_type": "markdown",
      "metadata": {
        "id": "U2lOHOGk8OBe"
      },
      "source": [
        "2. Crie um array com 10 zeros "
      ]
    },
    {
      "cell_type": "code",
      "metadata": {
        "id": "lt0X0zjC8OBf"
      },
      "source": [
        "array=np.zeros(10)\n",
        "array"
      ],
      "execution_count": null,
      "outputs": []
    },
    {
      "cell_type": "code",
      "source": [
        "type(array)"
      ],
      "metadata": {
        "id": "_3wDQF40RyPj"
      },
      "execution_count": null,
      "outputs": []
    },
    {
      "cell_type": "markdown",
      "metadata": {
        "id": "D3WPRZjD8OBf"
      },
      "source": [
        "3. Crie um array com 10 'uns'"
      ]
    },
    {
      "cell_type": "code",
      "metadata": {
        "id": "kIaVTDIJ8OBf"
      },
      "source": [
        "array_ones=np.ones(10)\n",
        "array_ones"
      ],
      "execution_count": null,
      "outputs": []
    },
    {
      "cell_type": "markdown",
      "metadata": {
        "id": "hfUNBDMS8OBf"
      },
      "source": [
        "4. Crie um array com 10 'cincos'"
      ]
    },
    {
      "cell_type": "code",
      "metadata": {
        "id": "zuJwnHU88OBf"
      },
      "source": [
        "array_five=array_ones*5\n",
        "array_five"
      ],
      "execution_count": null,
      "outputs": []
    },
    {
      "cell_type": "markdown",
      "metadata": {
        "id": "GHpsFznz8OBg"
      },
      "source": [
        "5. Crie um vetor de números inteiros de 10 ate 50"
      ]
    },
    {
      "cell_type": "code",
      "source": [
        "np.arange(10,51,10) #com número inteiro"
      ],
      "metadata": {
        "id": "9QprcZTiLjjT"
      },
      "execution_count": null,
      "outputs": []
    },
    {
      "cell_type": "code",
      "source": [
        "#float\n",
        "#np.linspace(10,50,5)"
      ],
      "metadata": {
        "id": "JtYXi5aiMCV4"
      },
      "execution_count": null,
      "outputs": []
    },
    {
      "cell_type": "markdown",
      "metadata": {
        "id": "0HU-l-B78OBg"
      },
      "source": [
        "6. Crie um vetor com o numeros pares de 10 até 50"
      ]
    },
    {
      "cell_type": "code",
      "metadata": {
        "id": "A0cJ3iDu8OBg"
      },
      "source": [
        "np.arange(10,51,2)"
      ],
      "execution_count": null,
      "outputs": []
    },
    {
      "cell_type": "markdown",
      "metadata": {
        "id": "34mFZYeg8OBh"
      },
      "source": [
        "7. Crie uma matriz $3 \\times 3$ com os valores de 0 até 8"
      ]
    },
    {
      "cell_type": "code",
      "metadata": {
        "id": "2uHccDMO8OBh"
      },
      "source": [
        "#matriz=[[0,1,2],[3,4,5],[6,7,8]]\n",
        "matriz=np.array([[0,1,2],[3,4,5],[6,7,8]])\n",
        "print(matriz)"
      ],
      "execution_count": null,
      "outputs": []
    },
    {
      "cell_type": "markdown",
      "metadata": {
        "id": "NjZGjPmK8OBh"
      },
      "source": [
        "8. Crie uma matriz identidade $7 \\times 7$"
      ]
    },
    {
      "cell_type": "code",
      "metadata": {
        "id": "CgAzDBXo8OBh"
      },
      "source": [
        "np.eye(7)"
      ],
      "execution_count": null,
      "outputs": []
    },
    {
      "cell_type": "markdown",
      "metadata": {
        "id": "9wzjB5is8OBh"
      },
      "source": [
        "9. Use numpy para gerar um número aleatório entre 0 e 1"
      ]
    },
    {
      "cell_type": "code",
      "metadata": {
        "id": "zkRYOppS8OBh"
      },
      "source": [
        "#np.random.randint(0,2) #gera um número INTEIRO aleatório entre 0 e 1\n",
        "np.random.rand(1) #gera um número FLOAT aleatório entre 0 e 1"
      ],
      "execution_count": null,
      "outputs": []
    },
    {
      "cell_type": "markdown",
      "metadata": {
        "id": "O1m4fdu08OBi"
      },
      "source": [
        "10. Use o numpy para gerar 25 números aleatório de distribuição normal padrão (gaussiana com média $\\mu = 0$ e desvio padrão $\\sigma = 1$)"
      ]
    },
    {
      "cell_type": "code",
      "metadata": {
        "id": "nQlo9JN18OBi"
      },
      "source": [
        "0 + 1 * np.random.randn(5, 5) #método 1, matriz 5x5"
      ],
      "execution_count": null,
      "outputs": []
    },
    {
      "cell_type": "code",
      "source": [
        "np.random.randn(25) #método 2, matriz linear. Pode ser aplicado reshape"
      ],
      "metadata": {
        "id": "WYRiusT0ADgN"
      },
      "execution_count": null,
      "outputs": []
    },
    {
      "cell_type": "markdown",
      "metadata": {
        "id": "sZADK-Fk8OBi"
      },
      "source": [
        "11. Crie a matrix abaixo\n",
        "\n",
        "```python\n",
        "array([[0.01, 0.02, 0.03, 0.04, 0.05, 0.06, 0.07, 0.08, 0.09, 0.1 ],\n",
        "       [0.11, 0.12, 0.13, 0.14, 0.15, 0.16, 0.17, 0.18, 0.19, 0.2 ],\n",
        "       [0.21, 0.22, 0.23, 0.24, 0.25, 0.26, 0.27, 0.28, 0.29, 0.3 ],\n",
        "       [0.31, 0.32, 0.33, 0.34, 0.35, 0.36, 0.37, 0.38, 0.39, 0.4 ],\n",
        "       [0.41, 0.42, 0.43, 0.44, 0.45, 0.46, 0.47, 0.48, 0.49, 0.5 ],\n",
        "       [0.51, 0.52, 0.53, 0.54, 0.55, 0.56, 0.57, 0.58, 0.59, 0.6 ],\n",
        "       [0.61, 0.62, 0.63, 0.64, 0.65, 0.66, 0.67, 0.68, 0.69, 0.7 ],\n",
        "       [0.71, 0.72, 0.73, 0.74, 0.75, 0.76, 0.77, 0.78, 0.79, 0.8 ],\n",
        "       [0.81, 0.82, 0.83, 0.84, 0.85, 0.86, 0.87, 0.88, 0.89, 0.9 ],\n",
        "       [0.91, 0.92, 0.93, 0.94, 0.95, 0.96, 0.97, 0.98, 0.99, 1.  ]])\n",
        "```"
      ]
    },
    {
      "cell_type": "code",
      "source": [
        "#método 1\n",
        "matriz1=np.arange(0.01,1.01,0.01)\n",
        "matriz1=matriz1.reshape(10,10)\n",
        "print(matriz1)"
      ],
      "metadata": {
        "id": "WQ865WUwXjVg"
      },
      "execution_count": null,
      "outputs": []
    },
    {
      "cell_type": "code",
      "source": [
        "#método 2\n",
        "b= np.linspace(0.01, 1.00, 100)\n",
        "b=b.reshape(10,10)\n",
        "b=b.round(2)\n",
        "print(b)"
      ],
      "metadata": {
        "id": "BsQJG_48asHa"
      },
      "execution_count": null,
      "outputs": []
    },
    {
      "cell_type": "markdown",
      "metadata": {
        "id": "vmBTpxpK8OBj"
      },
      "source": [
        "12. Crie um array de 20 elementos igualmente espaçados entre 0 e 1:"
      ]
    },
    {
      "cell_type": "code",
      "metadata": {
        "id": "P-YRP_4c8OBj"
      },
      "source": [
        "b= np.linspace(0, 1, 20)\n",
        "b=b.reshape(4,5) #pra ficar bonito\n",
        "print(b)"
      ],
      "execution_count": null,
      "outputs": []
    },
    {
      "cell_type": "markdown",
      "metadata": {
        "id": "eVcKiaBz8OBj"
      },
      "source": [
        "13. Dada a matrix abaixo,\n",
        "\n",
        "```python\n",
        "array([[ 1,  2,  3,  4,  5],\n",
        "       [ 6,  7,  8,  9, 10],\n",
        "       [11, 12, 13, 14, 15],\n",
        "       [16, 17, 18, 19, 20],\n",
        "       [21, 22, 23, 24, 25]])\n",
        "```\n",
        "\n",
        "obtenha as seguintes matrizes por indexação e se necessário, reshape:\n"
      ]
    },
    {
      "cell_type": "markdown",
      "source": [
        "```python\n",
        "array([[ 1,  2,  3,  4,  5],\n",
        "       [ 6,  7,  8,  9, 10],\n",
        "       [11, 12, 13, 14, 15],\n",
        "       [16, 17, 18, 19, 20],\n",
        "       [21, 22, 23, 24, 25]])\n",
        "```"
      ],
      "metadata": {
        "id": "WVlKOBHHEmhN"
      }
    },
    {
      "cell_type": "code",
      "metadata": {
        "id": "XXcVgq8i8OBj"
      },
      "source": [
        "c= np.linspace(1,25, 25)\n",
        "c=c.reshape(5,5) #pra ficar bonito\n",
        "print(c)"
      ],
      "execution_count": null,
      "outputs": []
    },
    {
      "cell_type": "markdown",
      "source": [
        "* \n",
        "```python\n",
        "array([[12, 13, 14, 15],\n",
        "       [17, 18, 19, 20],\n",
        "       [22, 23, 24, 25]])\n",
        "```\n"
      ],
      "metadata": {
        "id": "cha5aQK7Ex6h"
      }
    },
    {
      "cell_type": "code",
      "source": [
        "c[2:5,1:]"
      ],
      "metadata": {
        "id": "6NXpnxYVF8Xk"
      },
      "execution_count": null,
      "outputs": []
    },
    {
      "cell_type": "markdown",
      "source": [
        "* \n",
        "```python\n",
        "array([[ 2],\n",
        "       [ 7],\n",
        "       [12]])\n",
        "```\n"
      ],
      "metadata": {
        "id": "zXKmmyCeEzXi"
      }
    },
    {
      "cell_type": "code",
      "source": [
        "c[:3,1]"
      ],
      "metadata": {
        "id": "5k8egWY-GlAe"
      },
      "execution_count": null,
      "outputs": []
    },
    {
      "cell_type": "markdown",
      "source": [
        "\n",
        "* \n",
        "```python\n",
        "array([21, 22, 23, 24, 25])\n",
        "```\n"
      ],
      "metadata": {
        "id": "u-0Xi6h5FIRK"
      }
    },
    {
      "cell_type": "code",
      "source": [
        "c[4]"
      ],
      "metadata": {
        "id": "HM7k_LkxCSYi"
      },
      "execution_count": null,
      "outputs": []
    },
    {
      "cell_type": "markdown",
      "source": [
        "* \n",
        "```python\n",
        "array([[16, 17, 18, 19, 20],\n",
        "       [21, 22, 23, 24, 25]])\n",
        "```"
      ],
      "metadata": {
        "id": "c-xfx0UCFmxW"
      }
    },
    {
      "cell_type": "code",
      "source": [
        "c[3:5,:]"
      ],
      "metadata": {
        "id": "riW3hDWXHbuL"
      },
      "execution_count": null,
      "outputs": []
    },
    {
      "cell_type": "markdown",
      "metadata": {
        "id": "cu-fCr-R8OBk"
      },
      "source": [
        "14. Some todos os valores da matriz"
      ]
    },
    {
      "cell_type": "code",
      "metadata": {
        "id": "Akq-o2O08OBk"
      },
      "source": [
        "c.sum()"
      ],
      "execution_count": null,
      "outputs": []
    },
    {
      "cell_type": "markdown",
      "metadata": {
        "id": "bb6UZR728OBk"
      },
      "source": [
        "15. Some todas as colunas da matriz"
      ]
    },
    {
      "cell_type": "code",
      "metadata": {
        "id": "kr6KfNfX8OBk"
      },
      "source": [
        "c.sum(axis=0)"
      ],
      "execution_count": null,
      "outputs": []
    },
    {
      "cell_type": "markdown",
      "metadata": {
        "id": "xdx3HTqc8OBk"
      },
      "source": [
        "16. Calcule o desvio padrão por coluna"
      ]
    },
    {
      "cell_type": "code",
      "metadata": {
        "id": "boAPIUZb8OBl"
      },
      "source": [
        "c.std(axis=0)"
      ],
      "execution_count": null,
      "outputs": []
    },
    {
      "cell_type": "markdown",
      "source": [
        ""
      ],
      "metadata": {
        "id": "cspGEwJiJrgk"
      }
    },
    {
      "cell_type": "markdown",
      "metadata": {
        "id": "5dGWT9PnnGDd"
      },
      "source": [
        "## Exercícios Dia Dois\n",
        "\n",
        "Nestes exercícios vamos utilizar os dados de salários da cidade de São Francisco, [SF Salaries Dataset](https://www.kaggle.com/kaggle/sf-salaries) do site do [Kaggle](https://www.kaggle.com). "
      ]
    },
    {
      "cell_type": "code",
      "source": [
        "from google.colab import drive\n",
        "drive.mount('/content/drive')"
      ],
      "metadata": {
        "id": "0zeAV179Jdkj"
      },
      "execution_count": null,
      "outputs": []
    },
    {
      "cell_type": "markdown",
      "metadata": {
        "id": "dp2ZjetcnGDf"
      },
      "source": [
        "1. Importe pandas como pd."
      ]
    },
    {
      "cell_type": "code",
      "metadata": {
        "id": "8qy_sdlWnGDf"
      },
      "source": [
        "import pandas as pd"
      ],
      "execution_count": null,
      "outputs": []
    },
    {
      "cell_type": "markdown",
      "metadata": {
        "id": "AtN0MGranGDg"
      },
      "source": [
        "2. Leia o arquivo Salaries.csv e salve as informações no DataFrame sal."
      ]
    },
    {
      "cell_type": "code",
      "metadata": {
        "id": "doxHxUm5nGDg"
      },
      "source": [
        "sal=pd.read_csv('/content/drive/MyDrive/Arquivos para Python/Salaries.csv')"
      ],
      "execution_count": null,
      "outputs": []
    },
    {
      "cell_type": "markdown",
      "metadata": {
        "id": "D9TFfrjSnGDh"
      },
      "source": [
        "3. Verifique os primeiros registros de sal."
      ]
    },
    {
      "cell_type": "code",
      "metadata": {
        "id": "joEvFY0inGDh"
      },
      "source": [
        "sal.head()"
      ],
      "execution_count": null,
      "outputs": []
    },
    {
      "cell_type": "markdown",
      "metadata": {
        "id": "V8dpGS-knGDh"
      },
      "source": [
        "4. Use o método `info()` para descobrir o número de registros."
      ]
    },
    {
      "cell_type": "code",
      "metadata": {
        "id": "GhGMU4QZnGDh"
      },
      "source": [
        "sal.info()"
      ],
      "execution_count": null,
      "outputs": []
    },
    {
      "cell_type": "markdown",
      "metadata": {
        "id": "nLPwywgCnGDh"
      },
      "source": [
        "5. Qual é a média de BasePay?"
      ]
    },
    {
      "cell_type": "code",
      "source": [
        "sal['BasePay'].mean()"
      ],
      "metadata": {
        "id": "s4Xgqit5JGAZ"
      },
      "execution_count": null,
      "outputs": []
    },
    {
      "cell_type": "markdown",
      "metadata": {
        "id": "Y6O_XhSanGDi"
      },
      "source": [
        "6. Qual é o maior salário em OvertimePay no dataset?"
      ]
    },
    {
      "cell_type": "code",
      "source": [
        "sal['OvertimePay'].max()"
      ],
      "metadata": {
        "id": "1ZX6FmBEDu1P"
      },
      "execution_count": null,
      "outputs": []
    },
    {
      "cell_type": "markdown",
      "metadata": {
        "id": "wN2syhB7nGDi"
      },
      "source": [
        "7. Qual a profissão (JobTitle) de Courtney T Mcelrath?"
      ]
    },
    {
      "cell_type": "code",
      "metadata": {
        "id": "9WDAvU_ZnGDi"
      },
      "source": [
        "sal[sal['EmployeeName'] == 'JOSEPH DRISCOLL']['JobTitle']"
      ],
      "execution_count": null,
      "outputs": []
    },
    {
      "cell_type": "markdown",
      "metadata": {
        "id": "gRqneCywnGDi"
      },
      "source": [
        "8. Quanto ela recebe incluindo os benefícios (TotalPayBenefits)?"
      ]
    },
    {
      "cell_type": "code",
      "metadata": {
        "id": "f0U-pTrcnGDj"
      },
      "source": [
        "sal[sal['EmployeeName'] == 'JOSEPH DRISCOLL']['TotalPayBenefits']"
      ],
      "execution_count": null,
      "outputs": []
    },
    {
      "cell_type": "markdown",
      "metadata": {
        "id": "zrgcjNJvnGDj"
      },
      "source": [
        "9. Qual a pessoa mais bem paga incluindo os benefícios?"
      ]
    },
    {
      "cell_type": "code",
      "metadata": {
        "id": "64L7sBM_nGDj"
      },
      "source": [
        "sal[sal['TotalPayBenefits'] == sal['TotalPayBenefits'].max()]['EmployeeName']"
      ],
      "execution_count": null,
      "outputs": []
    },
    {
      "cell_type": "markdown",
      "metadata": {
        "id": "hdir7hednGDj"
      },
      "source": [
        "10. Qual a pessoa com o pior pagamento incluindo os benefícios?"
      ]
    },
    {
      "cell_type": "code",
      "metadata": {
        "id": "Asz_sEE5nGDj"
      },
      "source": [
        "sal[sal['TotalPayBenefits'] == sal['TotalPayBenefits'].min()]['EmployeeName']"
      ],
      "execution_count": null,
      "outputs": []
    },
    {
      "cell_type": "markdown",
      "metadata": {
        "id": "FWe8VxSgnGDj"
      },
      "source": [
        "11. Qual e média da base salárial (BasePay) de todos os funcionários no período de 2011-2014?"
      ]
    },
    {
      "cell_type": "code",
      "source": [
        "sal.groupby('Year')['BasePay'].mean()"
      ],
      "metadata": {
        "id": "nV8bLFQMJI0y"
      },
      "execution_count": null,
      "outputs": []
    },
    {
      "cell_type": "markdown",
      "metadata": {
        "id": "IvMneXDPnGDk"
      },
      "source": [
        "12. Quantas profissões diferente há nessa base de dados?"
      ]
    },
    {
      "cell_type": "code",
      "metadata": {
        "scrolled": true,
        "id": "Te-ZoPthnGDk"
      },
      "source": [
        "sal['JobTitle'].nunique() #profissões por tipo único"
      ],
      "execution_count": null,
      "outputs": []
    },
    {
      "cell_type": "markdown",
      "metadata": {
        "id": "bgGfndbInGDk"
      },
      "source": [
        "13. Quais são as 5 profissões mais comuns?"
      ]
    },
    {
      "cell_type": "code",
      "metadata": {
        "scrolled": true,
        "id": "vUvwEs88nGDk"
      },
      "source": [
        "sal['JobTitle'].value_counts().head(5) #profissões mais comuns (conta todos os valores da profissão)"
      ],
      "execution_count": null,
      "outputs": []
    },
    {
      "cell_type": "markdown",
      "metadata": {
        "id": "mcK8ll1PnGDl"
      },
      "source": [
        "14. Quantas profissões tinham apenas uma pessoa no ano de 2014?"
      ]
    },
    {
      "cell_type": "code",
      "metadata": {
        "id": "Sw_Cv1A3nGDl"
      },
      "source": [
        "sum(sal[sal['Year'] == 2014]['JobTitle'].value_counts()==1)"
      ],
      "execution_count": null,
      "outputs": []
    },
    {
      "cell_type": "markdown",
      "metadata": {
        "id": "eRcYZT49nGDl"
      },
      "source": [
        "15. Quantas pessoas tem a palavra 'Chief' na sua profissão (jobTitle)?"
      ]
    },
    {
      "cell_type": "code",
      "source": [
        "#'adson' in 'adson nogueira alves' DICA\n",
        "\n",
        "sum(sal['JobTitle'].apply(lambda s : 'chief' in str(s).lower().split()))"
      ],
      "metadata": {
        "id": "dZmwP-PVeWKl"
      },
      "execution_count": null,
      "outputs": []
    },
    {
      "cell_type": "markdown",
      "metadata": {
        "id": "czYLvSsvnGDl"
      },
      "source": [
        "16. Há correlação (correlation) entre o tamanho do nome da profissão e o salário?"
      ]
    },
    {
      "cell_type": "code",
      "source": [
        "#df[['TotalPayBenefits', 'JobTitle']].corr() FALHOU"
      ],
      "metadata": {
        "id": "K3HOQL0eqps6"
      },
      "execution_count": null,
      "outputs": []
    },
    {
      "cell_type": "code",
      "source": [
        "df['title_len'] = df['JobTitle'].apply(len)"
      ],
      "metadata": {
        "id": "yX209WSgHt89"
      },
      "execution_count": null,
      "outputs": []
    },
    {
      "cell_type": "code",
      "source": [
        "df[['TotalPayBenefits', 'title_len']].corr() #AGORA FOI"
      ],
      "metadata": {
        "id": "9hyYo_4TIFmK"
      },
      "execution_count": null,
      "outputs": []
    }
  ]
}