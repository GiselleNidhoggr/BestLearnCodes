{
  "nbformat": 4,
  "nbformat_minor": 0,
  "metadata": {
    "kernelspec": {
      "display_name": "Python 3",
      "language": "python",
      "name": "python3"
    },
    "language_info": {
      "codemirror_mode": {
        "name": "ipython",
        "version": 3
      },
      "file_extension": ".py",
      "mimetype": "text/x-python",
      "name": "python",
      "nbconvert_exporter": "python",
      "pygments_lexer": "ipython3",
      "version": "3.8.8"
    },
    "colab": {
      "name": "Giselle - Matemática com Numpy - Aula 1.ipynb",
      "provenance": [],
      "toc_visible": true,
      "include_colab_link": true
    }
  },
  "cells": [
    {
      "cell_type": "markdown",
      "metadata": {
        "id": "view-in-github",
        "colab_type": "text"
      },
      "source": [
        "<a href=\"https://colab.research.google.com/github/GiselleNidhoggr/BestLearnCodes/blob/main/Giselle_Matem%C3%A1tica_com_Numpy_Aula_1.ipynb\" target=\"_parent\"><img src=\"https://colab.research.google.com/assets/colab-badge.svg\" alt=\"Open In Colab\"/></a>"
      ]
    },
    {
      "cell_type": "markdown",
      "metadata": {
        "id": "WOLotu1CR5kz"
      },
      "source": [
        "**Álgebra Linear**\n",
        "\n",
        "*(Escalares, vetores, matrizes e tensores)*\n",
        "\n",
        "Nesta aula cobriremos os fundamentos da álgebra linear utilizando a biblioteca NumPy, o pacote fundamental para computação científica com Python.\n"
      ]
    },
    {
      "cell_type": "markdown",
      "source": [
        "![image.png](data:image/png;base64,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)"
      ],
      "metadata": {
        "id": "IDp86NaTvgV-"
      }
    },
    {
      "cell_type": "code",
      "metadata": {
        "id": "E0q5puHeR5k3"
      },
      "source": [
        "# Importar a biblioteca NumPy \n",
        "import numpy as np"
      ],
      "execution_count": 1,
      "outputs": []
    },
    {
      "cell_type": "markdown",
      "metadata": {
        "id": "-0WY3a1kR5k7"
      },
      "source": [
        "**Definindo vetor - np.array**"
      ]
    },
    {
      "cell_type": "code",
      "source": [
        "v = np.array([1, 2, 3, 4])\n",
        "\n",
        "print(v)"
      ],
      "metadata": {
        "id": "jM7cBa03Lplt",
        "colab": {
          "base_uri": "https://localhost:8080/"
        },
        "outputId": "66b13b77-51a0-4494-f0fb-3e33079f5c6f"
      },
      "execution_count": 2,
      "outputs": [
        {
          "output_type": "stream",
          "name": "stdout",
          "text": [
            "[1 2 3 4]\n"
          ]
        }
      ]
    },
    {
      "cell_type": "markdown",
      "source": [
        "**Métodos úteis da np.array**"
      ],
      "metadata": {
        "id": "tTNpCxr5IUTv"
      }
    },
    {
      "cell_type": "code",
      "source": [
        "x = np.array([1, 2, 3, 4, 5])\n",
        "\n",
        "print(\"Soma\", x.sum()) \n",
        "\n",
        "print(\"Mínimo\", x.min()) \n",
        "\n",
        "print(\"Máximo\", x.max()) \n",
        "\n",
        "print(\"Média:\", x.mean())\n",
        "\n",
        "print(\"Desvio Padrão:\", x.std())"
      ],
      "metadata": {
        "id": "muSSBGwGIVCp",
        "colab": {
          "base_uri": "https://localhost:8080/"
        },
        "outputId": "6364bcbd-cfee-4e5e-cd82-4819c11bc802"
      },
      "execution_count": 3,
      "outputs": [
        {
          "output_type": "stream",
          "name": "stdout",
          "text": [
            "Soma 15\n",
            "Mínimo 1\n",
            "Máximo 5\n",
            "Média: 3.0\n",
            "Desvio Padrão: 1.4142135623730951\n"
          ]
        }
      ]
    },
    {
      "cell_type": "code",
      "source": [
        "valores = np.array([6.5, 8.0, 7.5, 4.5, 9.0, 6.5, 6.0])\n",
        "\n",
        "resultado = valores >= 7.0  #resultado é um vetor - booleano\n",
        "print(resultado)\n",
        "\n",
        "contagem = sum(valores >= 7.0)  #contagem dos valores que atendem a condição\n",
        "print(contagem)"
      ],
      "metadata": {
        "id": "FijmWGpsoLuv",
        "colab": {
          "base_uri": "https://localhost:8080/"
        },
        "outputId": "94114dd0-5c83-42fe-fd11-1237d857a96a"
      },
      "execution_count": 4,
      "outputs": [
        {
          "output_type": "stream",
          "name": "stdout",
          "text": [
            "[False  True  True False  True False False]\n",
            "3\n"
          ]
        }
      ]
    },
    {
      "cell_type": "markdown",
      "metadata": {
        "id": "HdnP-LZQR5k9"
      },
      "source": [
        "**Tamanho do vetor**"
      ]
    },
    {
      "cell_type": "code",
      "metadata": {
        "id": "Ek2vFBbAR5k-",
        "colab": {
          "base_uri": "https://localhost:8080/"
        },
        "outputId": "0234253e-e507-4337-e4d0-379550a07d11"
      },
      "source": [
        "x = np.array([1, 2, 3, 4, 5])\n",
        "\n",
        "print('Tamanho do vetor:', x.size)"
      ],
      "execution_count": 5,
      "outputs": [
        {
          "output_type": "stream",
          "name": "stdout",
          "text": [
            "Tamanho do vetor: 5\n"
          ]
        }
      ]
    },
    {
      "cell_type": "markdown",
      "metadata": {
        "id": "B2A8B0olR5k_"
      },
      "source": [
        "**Definindo uma matriz, usa-se colchetes e vírgulas para separar as linhas**"
      ]
    },
    {
      "cell_type": "code",
      "metadata": {
        "id": "CbJUc2l9R5k_",
        "colab": {
          "base_uri": "https://localhost:8080/"
        },
        "outputId": "35015c8e-b81f-4a26-a3bb-e2af45f84c1e"
      },
      "source": [
        "x = np.array([[1,2,3],[4,5,6],[7,8,9]])\n",
        "x"
      ],
      "execution_count": 6,
      "outputs": [
        {
          "output_type": "execute_result",
          "data": {
            "text/plain": [
              "array([[1, 2, 3],\n",
              "       [4, 5, 6],\n",
              "       [7, 8, 9]])"
            ]
          },
          "metadata": {},
          "execution_count": 6
        }
      ]
    },
    {
      "cell_type": "code",
      "metadata": {
        "id": "CY4l_Q-CR5lA",
        "colab": {
          "base_uri": "https://localhost:8080/"
        },
        "outputId": "02085e50-58e0-444f-e77a-ae12da42b994"
      },
      "source": [
        "print('Dimensões matriciais (linha, coluna):', x.shape)\n",
        "print('Elementos da matriz:', x.size)"
      ],
      "execution_count": 7,
      "outputs": [
        {
          "output_type": "stream",
          "name": "stdout",
          "text": [
            "Dimensões matriciais (linha, coluna): (3, 3)\n",
            "Elementos da matriz: 9\n"
          ]
        }
      ]
    },
    {
      "cell_type": "markdown",
      "source": [
        "**Matriz preenchida com 1**"
      ],
      "metadata": {
        "id": "1dcIhvC_Ovhc"
      }
    },
    {
      "cell_type": "code",
      "source": [
        "x = np.ones([3,3]) # L X C\n",
        "print(x)"
      ],
      "metadata": {
        "id": "HSAxoJ5ZOnxq",
        "colab": {
          "base_uri": "https://localhost:8080/"
        },
        "outputId": "dee58340-f745-4338-86ad-9d219665f8aa"
      },
      "execution_count": 8,
      "outputs": [
        {
          "output_type": "stream",
          "name": "stdout",
          "text": [
            "[[1. 1. 1.]\n",
            " [1. 1. 1.]\n",
            " [1. 1. 1.]]\n"
          ]
        }
      ]
    },
    {
      "cell_type": "code",
      "metadata": {
        "id": "9PVp6c6iR5lC",
        "colab": {
          "base_uri": "https://localhost:8080/"
        },
        "outputId": "73de3a85-a216-41d3-c40f-3773d203bc97"
      },
      "source": [
        "x = np.ones([5, 4], dtype=int) # tipo inteiro\n",
        "x"
      ],
      "execution_count": 9,
      "outputs": [
        {
          "output_type": "execute_result",
          "data": {
            "text/plain": [
              "array([[1, 1, 1, 1],\n",
              "       [1, 1, 1, 1],\n",
              "       [1, 1, 1, 1],\n",
              "       [1, 1, 1, 1],\n",
              "       [1, 1, 1, 1]])"
            ]
          },
          "metadata": {},
          "execution_count": 9
        }
      ]
    },
    {
      "cell_type": "code",
      "metadata": {
        "id": "KW1o2xF1R5lC",
        "colab": {
          "base_uri": "https://localhost:8080/"
        },
        "outputId": "12c8a792-6236-4cbe-e20f-f620c66910fb"
      },
      "source": [
        "print('Dimensões matriciais:',x.shape)\n",
        "print('Tamanho da matriz:', x.size)\n",
        "print('Tipo de dados:', x.dtype)"
      ],
      "execution_count": 10,
      "outputs": [
        {
          "output_type": "stream",
          "name": "stdout",
          "text": [
            "Dimensões matriciais: (5, 4)\n",
            "Tamanho da matriz: 20\n",
            "Tipo de dados: int64\n"
          ]
        }
      ]
    },
    {
      "cell_type": "markdown",
      "source": [
        "**Redimensionando**"
      ],
      "metadata": {
        "id": "17vZ2BtYy5kN"
      }
    },
    {
      "cell_type": "code",
      "source": [
        "vetor = np.arange(15)\n",
        "print(vetor)\n",
        "\n",
        "matriz = vetor.reshape(3,5) \n",
        "print(matriz)\n"
      ],
      "metadata": {
        "id": "bcY-8Ek0xm8B",
        "colab": {
          "base_uri": "https://localhost:8080/"
        },
        "outputId": "932a6c31-d192-4872-e9af-802944de3343"
      },
      "execution_count": 11,
      "outputs": [
        {
          "output_type": "stream",
          "name": "stdout",
          "text": [
            "[ 0  1  2  3  4  5  6  7  8  9 10 11 12 13 14]\n",
            "[[ 0  1  2  3  4]\n",
            " [ 5  6  7  8  9]\n",
            " [10 11 12 13 14]]\n"
          ]
        }
      ]
    },
    {
      "cell_type": "markdown",
      "metadata": {
        "id": "y6RhIz1pR5lQ"
      },
      "source": [
        "**Tensores com dimensões superiores**\n",
        "\n",
        "*Embora seja muito difícil visualizar dimensões mais altas, o NumPy pode lidar com matrizes que tenham qualquer dimensão.* "
      ]
    },
    {
      "cell_type": "markdown",
      "source": [
        "![image.png](data:image/png;base64,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)"
      ],
      "metadata": {
        "id": "Seo4LnozK1IL"
      }
    },
    {
      "cell_type": "code",
      "metadata": {
        "id": "kmfAhIJAR5lE",
        "colab": {
          "base_uri": "https://localhost:8080/"
        },
        "outputId": "f756f331-d8a6-4b13-e383-a65067dd59aa"
      },
      "source": [
        "x = np.ones([10,3,3]) #np.one preencher com número 1\n",
        "x"
      ],
      "execution_count": 12,
      "outputs": [
        {
          "output_type": "execute_result",
          "data": {
            "text/plain": [
              "array([[[1., 1., 1.],\n",
              "        [1., 1., 1.],\n",
              "        [1., 1., 1.]],\n",
              "\n",
              "       [[1., 1., 1.],\n",
              "        [1., 1., 1.],\n",
              "        [1., 1., 1.]],\n",
              "\n",
              "       [[1., 1., 1.],\n",
              "        [1., 1., 1.],\n",
              "        [1., 1., 1.]],\n",
              "\n",
              "       [[1., 1., 1.],\n",
              "        [1., 1., 1.],\n",
              "        [1., 1., 1.]],\n",
              "\n",
              "       [[1., 1., 1.],\n",
              "        [1., 1., 1.],\n",
              "        [1., 1., 1.]],\n",
              "\n",
              "       [[1., 1., 1.],\n",
              "        [1., 1., 1.],\n",
              "        [1., 1., 1.]],\n",
              "\n",
              "       [[1., 1., 1.],\n",
              "        [1., 1., 1.],\n",
              "        [1., 1., 1.]],\n",
              "\n",
              "       [[1., 1., 1.],\n",
              "        [1., 1., 1.],\n",
              "        [1., 1., 1.]],\n",
              "\n",
              "       [[1., 1., 1.],\n",
              "        [1., 1., 1.],\n",
              "        [1., 1., 1.]],\n",
              "\n",
              "       [[1., 1., 1.],\n",
              "        [1., 1., 1.],\n",
              "        [1., 1., 1.]]])"
            ]
          },
          "metadata": {},
          "execution_count": 12
        }
      ]
    },
    {
      "cell_type": "code",
      "metadata": {
        "id": "8jGrfwaIR5lF",
        "colab": {
          "base_uri": "https://localhost:8080/"
        },
        "outputId": "6e60f826-4767-498f-d847-ffca4231250a"
      },
      "source": [
        "print('Dimensões matriciais:', x.shape)\n",
        "print('Tamanho da matriz:', x.size)"
      ],
      "execution_count": 13,
      "outputs": [
        {
          "output_type": "stream",
          "name": "stdout",
          "text": [
            "Dimensões matriciais: (10, 3, 3)\n",
            "Tamanho da matriz: 90\n"
          ]
        }
      ]
    },
    {
      "cell_type": "code",
      "metadata": {
        "id": "2pMci1UWR5lQ"
      },
      "source": [
        "A = np.ones([3,3,3,3,3,3,3,3,3,3])"
      ],
      "execution_count": 14,
      "outputs": []
    },
    {
      "cell_type": "code",
      "metadata": {
        "id": "Wj9jbgJ9R5lQ",
        "colab": {
          "base_uri": "https://localhost:8080/"
        },
        "outputId": "ffb4e95f-37af-4fa3-c79c-9f927653aec9"
      },
      "source": [
        "print(A.shape)\n",
        "print(A.size)"
      ],
      "execution_count": 15,
      "outputs": [
        {
          "output_type": "stream",
          "name": "stdout",
          "text": [
            "(3, 3, 3, 3, 3, 3, 3, 3, 3, 3)\n",
            "59049\n"
          ]
        }
      ]
    },
    {
      "cell_type": "markdown",
      "source": [
        "**Transposição de matriz**"
      ],
      "metadata": {
        "id": "Y55YmkKCYxOF"
      }
    },
    {
      "cell_type": "code",
      "metadata": {
        "id": "nA-yEbtHR5lO",
        "colab": {
          "base_uri": "https://localhost:8080/"
        },
        "outputId": "28d3ce14-1984-4d8c-f584-3e354e082c7b"
      },
      "source": [
        "A = np.array(range(9))\n",
        "A = A.reshape(3,3)\n",
        "print(A)"
      ],
      "execution_count": 16,
      "outputs": [
        {
          "output_type": "stream",
          "name": "stdout",
          "text": [
            "[[0 1 2]\n",
            " [3 4 5]\n",
            " [6 7 8]]\n"
          ]
        }
      ]
    },
    {
      "cell_type": "code",
      "metadata": {
        "id": "gS60bqOiR5lO",
        "colab": {
          "base_uri": "https://localhost:8080/"
        },
        "outputId": "eac24358-bf23-4f8d-c6ea-78ce660d2490"
      },
      "source": [
        "# Transposta \n",
        "B = A.T\n",
        "print(B)"
      ],
      "execution_count": 17,
      "outputs": [
        {
          "output_type": "stream",
          "name": "stdout",
          "text": [
            "[[0 3 6]\n",
            " [1 4 7]\n",
            " [2 5 8]]\n"
          ]
        }
      ]
    },
    {
      "cell_type": "code",
      "metadata": {
        "id": "Ie2nEsOdR5lP",
        "colab": {
          "base_uri": "https://localhost:8080/"
        },
        "outputId": "dd581bc8-6b78-436c-e328-16faaaa95684"
      },
      "source": [
        "# Crie um vetor de coluna tomando a transposta\n",
        "B = A.T\n",
        "print(B)"
      ],
      "execution_count": 18,
      "outputs": [
        {
          "output_type": "stream",
          "name": "stdout",
          "text": [
            "[[0 3 6]\n",
            " [1 4 7]\n",
            " [2 5 8]]\n"
          ]
        }
      ]
    },
    {
      "cell_type": "markdown",
      "metadata": {
        "id": "FSxiAwh3R5lG"
      },
      "source": [
        "**Indexação**\n",
        "\n",
        "*Convenções de indexação do NumPy usando as células*"
      ]
    },
    {
      "cell_type": "code",
      "metadata": {
        "id": "76dptHgZR5lG",
        "colab": {
          "base_uri": "https://localhost:8080/"
        },
        "outputId": "1fda1f5b-cb63-4760-84b0-1afc354b877c"
      },
      "source": [
        "A = np.ones((5,5), dtype = int)\n",
        "print(A)"
      ],
      "execution_count": 19,
      "outputs": [
        {
          "output_type": "stream",
          "name": "stdout",
          "text": [
            "[[1 1 1 1 1]\n",
            " [1 1 1 1 1]\n",
            " [1 1 1 1 1]\n",
            " [1 1 1 1 1]\n",
            " [1 1 1 1 1]]\n"
          ]
        }
      ]
    },
    {
      "cell_type": "code",
      "metadata": {
        "id": "HQ4GOEM4R5lH",
        "colab": {
          "base_uri": "https://localhost:8080/"
        },
        "outputId": "a6f48961-d710-4fc5-8447-6b04502617ce"
      },
      "source": [
        "# Exemplo posição - linha 0, coluna 1\n",
        "\n",
        "A[0,1] = 2\n",
        "print(A)"
      ],
      "execution_count": 20,
      "outputs": [
        {
          "output_type": "stream",
          "name": "stdout",
          "text": [
            "[[1 2 1 1 1]\n",
            " [1 1 1 1 1]\n",
            " [1 1 1 1 1]\n",
            " [1 1 1 1 1]\n",
            " [1 1 1 1 1]]\n"
          ]
        }
      ]
    },
    {
      "cell_type": "code",
      "metadata": {
        "id": "aWB61lnMR5lI",
        "colab": {
          "base_uri": "https://localhost:8080/"
        },
        "outputId": "effd66ec-3e63-42c4-feee-6079e89b12b6"
      },
      "source": [
        "# Observação! NumPy usando linhas e colunas, a convenção atribui linhas ou colunas inteiras usando dois pontos (:)\n",
        "A[:,0] = 3\n",
        "print(A)\n",
        "\n"
      ],
      "execution_count": 21,
      "outputs": [
        {
          "output_type": "stream",
          "name": "stdout",
          "text": [
            "[[3 2 1 1 1]\n",
            " [3 1 1 1 1]\n",
            " [3 1 1 1 1]\n",
            " [3 1 1 1 1]\n",
            " [3 1 1 1 1]]\n"
          ]
        }
      ]
    },
    {
      "cell_type": "code",
      "metadata": {
        "id": "Hi0QtuJWR5lJ",
        "colab": {
          "base_uri": "https://localhost:8080/"
        },
        "outputId": "3acf5255-05f4-4a6a-d1e9-f7b5bc52141f"
      },
      "source": [
        "# índice em dimensões maiores \n",
        "A = np.ones((5,5,5), dtype = int)\n",
        "\n",
        "# atribuir à primeira linha um novo valor\n",
        "A[:,0,0] = 6\n",
        "print(A)"
      ],
      "execution_count": 22,
      "outputs": [
        {
          "output_type": "stream",
          "name": "stdout",
          "text": [
            "[[[6 1 1 1 1]\n",
            "  [1 1 1 1 1]\n",
            "  [1 1 1 1 1]\n",
            "  [1 1 1 1 1]\n",
            "  [1 1 1 1 1]]\n",
            "\n",
            " [[6 1 1 1 1]\n",
            "  [1 1 1 1 1]\n",
            "  [1 1 1 1 1]\n",
            "  [1 1 1 1 1]\n",
            "  [1 1 1 1 1]]\n",
            "\n",
            " [[6 1 1 1 1]\n",
            "  [1 1 1 1 1]\n",
            "  [1 1 1 1 1]\n",
            "  [1 1 1 1 1]\n",
            "  [1 1 1 1 1]]\n",
            "\n",
            " [[6 1 1 1 1]\n",
            "  [1 1 1 1 1]\n",
            "  [1 1 1 1 1]\n",
            "  [1 1 1 1 1]\n",
            "  [1 1 1 1 1]]\n",
            "\n",
            " [[6 1 1 1 1]\n",
            "  [1 1 1 1 1]\n",
            "  [1 1 1 1 1]\n",
            "  [1 1 1 1 1]\n",
            "  [1 1 1 1 1]]]\n"
          ]
        }
      ]
    },
    {
      "cell_type": "markdown",
      "metadata": {
        "id": "Ndv76eWTR5lK"
      },
      "source": [
        "**Operações entre matrizes**"
      ]
    },
    {
      "cell_type": "code",
      "metadata": {
        "id": "NwB_4E7kR5lK"
      },
      "source": [
        "A = np.array([[1,2],[3,4]])\n",
        "B = np.ones([2,2], dtype = int)"
      ],
      "execution_count": 23,
      "outputs": []
    },
    {
      "cell_type": "code",
      "metadata": {
        "id": "mnna8k8DR5lL",
        "colab": {
          "base_uri": "https://localhost:8080/"
        },
        "outputId": "218274a3-0675-4447-c809-b3e33993c1f3"
      },
      "source": [
        "print(A)"
      ],
      "execution_count": 24,
      "outputs": [
        {
          "output_type": "stream",
          "name": "stdout",
          "text": [
            "[[1 2]\n",
            " [3 4]]\n"
          ]
        }
      ]
    },
    {
      "cell_type": "code",
      "metadata": {
        "id": "NrqTgOPXR5lM",
        "colab": {
          "base_uri": "https://localhost:8080/"
        },
        "outputId": "51d161b5-401f-49aa-d4f9-f998dac17b0d"
      },
      "source": [
        "print(B)"
      ],
      "execution_count": 25,
      "outputs": [
        {
          "output_type": "stream",
          "name": "stdout",
          "text": [
            "[[1 1]\n",
            " [1 1]]\n"
          ]
        }
      ]
    },
    {
      "cell_type": "code",
      "metadata": {
        "id": "ZKoFw6IXR5lM",
        "colab": {
          "base_uri": "https://localhost:8080/"
        },
        "outputId": "cd356658-fec0-4850-eec9-0a2555ee862b"
      },
      "source": [
        "# Soma \n",
        "C = A + B \n",
        "print(C)"
      ],
      "execution_count": 26,
      "outputs": [
        {
          "output_type": "stream",
          "name": "stdout",
          "text": [
            "[[2 3]\n",
            " [4 5]]\n"
          ]
        }
      ]
    },
    {
      "cell_type": "code",
      "metadata": {
        "id": "PUZz2jPQ4Jkl",
        "colab": {
          "base_uri": "https://localhost:8080/"
        },
        "outputId": "a0d18809-e00e-4ee1-eb46-b90600e7fc10"
      },
      "source": [
        "# Soma com número \n",
        "num = 1\n",
        "C = A + num\n",
        "print(C)"
      ],
      "execution_count": 27,
      "outputs": [
        {
          "output_type": "stream",
          "name": "stdout",
          "text": [
            "[[2 3]\n",
            " [4 5]]\n"
          ]
        }
      ]
    },
    {
      "cell_type": "code",
      "metadata": {
        "id": "chHtbw-hR5lN",
        "colab": {
          "base_uri": "https://localhost:8080/"
        },
        "outputId": "3cc5924c-1a0c-4cda-c719-951bd33a7c7b"
      },
      "source": [
        "# Subtração \n",
        "C = A - B\n",
        "print(C)"
      ],
      "execution_count": 28,
      "outputs": [
        {
          "output_type": "stream",
          "name": "stdout",
          "text": [
            "[[0 1]\n",
            " [2 3]]\n"
          ]
        }
      ]
    },
    {
      "cell_type": "code",
      "metadata": {
        "id": "8BEWbnm05b1O",
        "colab": {
          "base_uri": "https://localhost:8080/"
        },
        "outputId": "de58348f-632c-467c-8fd4-ed299650e709"
      },
      "source": [
        "# Subtração com número\n",
        "num = 1\n",
        "\n",
        "C = A - num\n",
        "print(C)"
      ],
      "execution_count": 29,
      "outputs": [
        {
          "output_type": "stream",
          "name": "stdout",
          "text": [
            "[[0 1]\n",
            " [2 3]]\n"
          ]
        }
      ]
    },
    {
      "cell_type": "code",
      "metadata": {
        "id": "sub1-yWOR5lN",
        "colab": {
          "base_uri": "https://localhost:8080/"
        },
        "outputId": "b2f6d40a-6b2f-41b9-ccbc-ff3b454453ee"
      },
      "source": [
        "# multiplicação da matrizes (executa a multiplicação por elementos)\n",
        "C = A * B \n",
        "print(C)"
      ],
      "execution_count": 30,
      "outputs": [
        {
          "output_type": "stream",
          "name": "stdout",
          "text": [
            "[[1 2]\n",
            " [3 4]]\n"
          ]
        }
      ]
    },
    {
      "cell_type": "code",
      "source": [
        "# multiplicação da matrizes (executa a multiplicação de matrizes)\n",
        "C = np.dot(A, B)\n",
        "print(C) "
      ],
      "metadata": {
        "id": "DEdK-yfbs7hW",
        "colab": {
          "base_uri": "https://localhost:8080/"
        },
        "outputId": "a23ad791-9d3c-4cc2-d874-1dd61601434a"
      },
      "execution_count": 31,
      "outputs": [
        {
          "output_type": "stream",
          "name": "stdout",
          "text": [
            "[[3 3]\n",
            " [7 7]]\n"
          ]
        }
      ]
    },
    {
      "cell_type": "code",
      "metadata": {
        "id": "Wolhyp86zNS0",
        "colab": {
          "base_uri": "https://localhost:8080/"
        },
        "outputId": "4af9c87a-ae7a-4fe0-96d5-e17001d1847f"
      },
      "source": [
        "# divisao\n",
        "C = B / A \n",
        "print(C)"
      ],
      "execution_count": 32,
      "outputs": [
        {
          "output_type": "stream",
          "name": "stdout",
          "text": [
            "[[1.         0.5       ]\n",
            " [0.33333333 0.25      ]]\n"
          ]
        }
      ]
    },
    {
      "cell_type": "code",
      "source": [
        "# Axis\n",
        "a = np.arange(9).reshape(3, 3) \n",
        "\n",
        "print(a)\n",
        "\n",
        "print('Soma colunas', a.sum(axis=0)) \n",
        "print('Soma linhas', a.sum(axis=1)) \n",
        "\n",
        "print('Média colunas', a.mean(axis=0)) \n",
        "print('Média linhas', a.mean(axis=1)) \n"
      ],
      "metadata": {
        "id": "0bPP2KNbzr_n",
        "colab": {
          "base_uri": "https://localhost:8080/"
        },
        "outputId": "8711a348-5e73-48d0-e20b-60e7dfbca831"
      },
      "execution_count": 33,
      "outputs": [
        {
          "output_type": "stream",
          "name": "stdout",
          "text": [
            "[[0 1 2]\n",
            " [3 4 5]\n",
            " [6 7 8]]\n",
            "Soma colunas [ 9 12 15]\n",
            "Soma linhas [ 3 12 21]\n",
            "Média colunas [3. 4. 5.]\n",
            "Média linhas [1. 4. 7.]\n"
          ]
        }
      ]
    },
    {
      "cell_type": "markdown",
      "metadata": {
        "id": "CEM0BuoUR5lR"
      },
      "source": [
        "**Exemplos**"
      ]
    },
    {
      "cell_type": "markdown",
      "metadata": {
        "id": "A_ckxVeYR5lR"
      },
      "source": [
        "Construa e encontre as dimensões das matrizes a seguir:\n",
        "\n",
        "\n",
        "$$X  = \\begin{bmatrix}\n",
        "1 & 0 & 0 \\\\\n",
        "0 & 1 & 0 \\\\\n",
        "0 & 0 & 1\n",
        "\\end{bmatrix}$$"
      ]
    },
    {
      "cell_type": "code",
      "metadata": {
        "id": "eCjLBq76R5lR",
        "colab": {
          "base_uri": "https://localhost:8080/"
        },
        "outputId": "ac2ebe32-6320-4339-9fc0-a8cf52d793f0"
      },
      "source": [
        "X = np.array([[1, 0, 0], [0, 1, 0], [0, 0, 1]])\n",
        "\n",
        "dimensoes = X.shape\n",
        "print('Dimensões matriciais:', dimensoes)"
      ],
      "execution_count": 34,
      "outputs": [
        {
          "output_type": "stream",
          "name": "stdout",
          "text": [
            "Dimensões matriciais: (3, 3)\n"
          ]
        }
      ]
    },
    {
      "cell_type": "markdown",
      "metadata": {
        "id": "rONcE6yyR5lS"
      },
      "source": [
        "a)\n",
        "\n",
        "$$A  = \\begin{bmatrix}\n",
        "1 & -1 & 1\n",
        "\\end{bmatrix}$$"
      ]
    },
    {
      "cell_type": "code",
      "metadata": {
        "id": "bXYnJMtuR5lS",
        "colab": {
          "base_uri": "https://localhost:8080/"
        },
        "outputId": "8c9b3b97-49a4-4b82-a03c-99b5b282ff76"
      },
      "source": [
        "A = np.array([[1, -1, 1]])\n",
        "\n",
        "dimensoes = A.shape\n",
        "print('Dimensões matriciais:', dimensoes)"
      ],
      "execution_count": 35,
      "outputs": [
        {
          "output_type": "stream",
          "name": "stdout",
          "text": [
            "Dimensões matriciais: (1, 3)\n"
          ]
        }
      ]
    },
    {
      "cell_type": "markdown",
      "metadata": {
        "id": "N0ID0F7ER5lS"
      },
      "source": [
        "b)\n",
        "\n",
        "$$B  = \\begin{bmatrix}\n",
        "2 & 1 & 1 \\\\\n",
        "1 & 2 & -5\n",
        "\\end{bmatrix}$$"
      ]
    },
    {
      "cell_type": "code",
      "metadata": {
        "id": "zxYyq_aZR5lT",
        "colab": {
          "base_uri": "https://localhost:8080/"
        },
        "outputId": "10a35809-6fd9-4cd1-d4d8-9b730596df1d"
      },
      "source": [
        "B = np.array([[2, 1, 1],[1, 2, -5]])\n",
        "\n",
        "dimensoes = B.shape\n",
        "print('Dimensões matriciais:', dimensoes)"
      ],
      "execution_count": 36,
      "outputs": [
        {
          "output_type": "stream",
          "name": "stdout",
          "text": [
            "Dimensões matriciais: (2, 3)\n"
          ]
        }
      ]
    },
    {
      "cell_type": "markdown",
      "metadata": {
        "id": "jaCReyRkR5lT"
      },
      "source": [
        "c)\n",
        "\n",
        "$$C  = \\begin{bmatrix}\n",
        "1 & 4 \\\\\n",
        "2 & 4\n",
        "\\end{bmatrix}$$"
      ]
    },
    {
      "cell_type": "code",
      "metadata": {
        "id": "k_l8MIzNR5lT",
        "colab": {
          "base_uri": "https://localhost:8080/"
        },
        "outputId": "3866aa7a-ff35-4b0a-efbc-2a29f5780ded"
      },
      "source": [
        "C = np.array([[1, 4],[2, 4]])\n",
        "\n",
        "dimensoes = C.shape\n",
        "print('Dimensões matriciais:', dimensoes)"
      ],
      "execution_count": 37,
      "outputs": [
        {
          "output_type": "stream",
          "name": "stdout",
          "text": [
            "Dimensões matriciais: (2, 2)\n"
          ]
        }
      ]
    },
    {
      "cell_type": "markdown",
      "metadata": {
        "id": "xJbjOa6rR5lU"
      },
      "source": [
        "Construa e transponha as matrizes a seguir:\n",
        "\n",
        "a)\n",
        "\n",
        "$$A  = \\begin{bmatrix}\n",
        "6 & 1 & 3 & 2 \\\\\n",
        "1 & 5 & 2 & 1 \\\\\n",
        "7 & 0 & 2 & 1 \\\\\n",
        "1 & 2 & 3 & 4 \\\\\n",
        "\\end{bmatrix}$$\n"
      ]
    },
    {
      "cell_type": "code",
      "metadata": {
        "id": "39hU-XYJR5lU",
        "colab": {
          "base_uri": "https://localhost:8080/"
        },
        "outputId": "7c22bdfe-e67a-4079-d17e-1ecf7d4971b2"
      },
      "source": [
        "A = np.array([[6, 1, 3, 2], [1, 5, 2, 1], [7, 0, 2, 1], [1, 2, 3, 4]])\n",
        "\n",
        "A = A.T\n",
        "print('Matriz transposta: \\n', A)"
      ],
      "execution_count": 38,
      "outputs": [
        {
          "output_type": "stream",
          "name": "stdout",
          "text": [
            "Matriz transposta: \n",
            " [[6 1 7 1]\n",
            " [1 5 0 2]\n",
            " [3 2 2 3]\n",
            " [2 1 1 4]]\n"
          ]
        }
      ]
    },
    {
      "cell_type": "markdown",
      "metadata": {
        "id": "gBegVWAuR5lU"
      },
      "source": [
        "b)\n",
        "\n",
        "$$B  = \\begin{bmatrix}\n",
        "2 & 1 & 1 \\\\\n",
        "1 & 3 & 2 \\\\\n",
        "\\end{bmatrix}$$"
      ]
    },
    {
      "cell_type": "code",
      "metadata": {
        "id": "RIpGl7-OR5lU",
        "colab": {
          "base_uri": "https://localhost:8080/"
        },
        "outputId": "d414d363-8a8e-4b62-ef0f-8b80b8fa7c18"
      },
      "source": [
        "B = np.array([[2, 1, 1], [1, 3, 2]])\n",
        "\n",
        "B = B.T\n",
        "print('Matriz transposta: \\n', B)"
      ],
      "execution_count": 39,
      "outputs": [
        {
          "output_type": "stream",
          "name": "stdout",
          "text": [
            "Matriz transposta: \n",
            " [[2 1]\n",
            " [1 3]\n",
            " [1 2]]\n"
          ]
        }
      ]
    },
    {
      "cell_type": "code",
      "source": [
        "B = np.array([[5, 0, 0], [0, 1, 0], [0, 0, -4]])\n",
        "\n",
        "print(B)\n",
        "print(B.T)"
      ],
      "metadata": {
        "id": "PefYpCAEm3Kb",
        "colab": {
          "base_uri": "https://localhost:8080/"
        },
        "outputId": "7de2a3af-9500-4a91-d4a3-f6de2db1b072"
      },
      "execution_count": 40,
      "outputs": [
        {
          "output_type": "stream",
          "name": "stdout",
          "text": [
            "[[ 5  0  0]\n",
            " [ 0  1  0]\n",
            " [ 0  0 -4]]\n",
            "[[ 5  0  0]\n",
            " [ 0  1  0]\n",
            " [ 0  0 -4]]\n"
          ]
        }
      ]
    },
    {
      "cell_type": "markdown",
      "source": [
        "**Mais algumas informações sobre matrizes**"
      ],
      "metadata": {
        "id": "TnmDyWiDkxLF"
      }
    },
    {
      "cell_type": "markdown",
      "metadata": {
        "tags": [],
        "id": "_3Q_tvPNR5lV"
      },
      "source": [
        " Matriz identidade é uma matriz cujos elementos da diagonal principal são todos iguais a 1\n",
        "\n",
        "$$A = \\begin{bmatrix}\n",
        "1 & 2 & 1 \\\\\n",
        "2 & 1 & 2 \\\\\n",
        "1 & 2 & 1 \\\\\n",
        "\\end{bmatrix}$$"
      ]
    },
    {
      "cell_type": "markdown",
      "metadata": {
        "id": "4Cj_JmBwR5lW"
      },
      "source": [
        "Matriz simétrica é uma matriz que é igual à sua transposta"
      ]
    },
    {
      "cell_type": "markdown",
      "metadata": {
        "id": "oMlCTxSXR5lW"
      },
      "source": [
        "$$B\n",
        "= \\begin{bmatrix}\n",
        "5 & 0 & 0 \\\\\n",
        "0 & 1 & 0 \\\\\n",
        "0 & 0 & -4 \\\\\n",
        "\\end{bmatrix}$$"
      ]
    },
    {
      "cell_type": "markdown",
      "source": [
        "Distância euclidiana -  (distância entre vetores)\n",
        "\n",
        "![image.png](data:image/png;base64,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)"
      ],
      "metadata": {
        "id": "2yxgHTy6iIXj"
      }
    },
    {
      "cell_type": "code",
      "source": [
        "v1 = np.array([1,4])    \n",
        "\n",
        "v2 = np.array([4,2])   "
      ],
      "metadata": {
        "id": "zZdap2GyiVcq"
      },
      "execution_count": 41,
      "outputs": []
    },
    {
      "cell_type": "code",
      "source": [
        "distancia = np.sqrt(sum((v1 - v2) ** 2)) \n",
        "\n",
        "print(distancia)"
      ],
      "metadata": {
        "id": "nGu8F81QjDQY",
        "colab": {
          "base_uri": "https://localhost:8080/"
        },
        "outputId": "9a45f2d6-fbec-451e-afc0-10082d856339"
      },
      "execution_count": 42,
      "outputs": [
        {
          "output_type": "stream",
          "name": "stdout",
          "text": [
            "3.605551275463989\n"
          ]
        }
      ]
    },
    {
      "cell_type": "markdown",
      "source": [
        "**Alguns recursos úteis**"
      ],
      "metadata": {
        "id": "ljd6RuvrLNFj"
      }
    },
    {
      "cell_type": "code",
      "source": [
        "import numpy as np \n",
        "\n",
        "#Encontrar o valor mais frequente\n",
        "\n",
        "x = np.array([1,2,3,4,5,1,2,1,1,1]) \n",
        "print(\"Vetor:\") \n",
        "print(x) \n",
        "  \n",
        "print(\"Valores mais frequentes encontrados:\") \n",
        "print(np.bincount(x).argmax())"
      ],
      "metadata": {
        "id": "sCmIH76mLXDR",
        "colab": {
          "base_uri": "https://localhost:8080/"
        },
        "outputId": "adf201b9-07c7-407e-a42a-7c84cd798022"
      },
      "execution_count": 43,
      "outputs": [
        {
          "output_type": "stream",
          "name": "stdout",
          "text": [
            "Vetor:\n",
            "[1 2 3 4 5 1 2 1 1 1]\n",
            "Valores mais frequentes encontrados:\n",
            "1\n"
          ]
        }
      ]
    },
    {
      "cell_type": "code",
      "source": [
        "#comparando igualdade de duas matrizes\n",
        "  \n",
        "matriz1 = np.array([[1, 2], [3, 4]]) \n",
        "matriz2 = np.array([[1, 2], [3, 4]]) \n",
        "  \n",
        "compara = matriz1 == matriz2\n",
        "  \n",
        "print(compara.all()) "
      ],
      "metadata": {
        "id": "N1hb9RonLo5w",
        "colab": {
          "base_uri": "https://localhost:8080/"
        },
        "outputId": "2b9a6d69-ac3c-4cb9-ef87-9b147f897d0b"
      },
      "execution_count": 44,
      "outputs": [
        {
          "output_type": "stream",
          "name": "stdout",
          "text": [
            "True\n"
          ]
        }
      ]
    },
    {
      "cell_type": "code",
      "source": [
        "#substitui valores a partir de uma condição\n",
        "\n",
        "n_arr = np.array([75.42, 42.48, 60.32]) \n",
        "print(\"Vetor:\") \n",
        "print(n_arr) \n",
        "  \n",
        "print(\"\\n Substitua todos os elementos do vetor que são maiores que 50. por 15.50\") \n",
        "n_arr[n_arr > 50.] = 15.50\n",
        "  \n",
        "print(\"Nova matriz :\\n\") \n",
        "print(n_arr) "
      ],
      "metadata": {
        "id": "qARfTub5MY51",
        "colab": {
          "base_uri": "https://localhost:8080/"
        },
        "outputId": "b5c76579-df5e-436a-92cf-83a73145eb81"
      },
      "execution_count": 45,
      "outputs": [
        {
          "output_type": "stream",
          "name": "stdout",
          "text": [
            "Vetor:\n",
            "[75.42 42.48 60.32]\n",
            "\n",
            " Substitua todos os elementos do vetor que são maiores que 50. por 15.50\n",
            "Nova matriz :\n",
            "\n",
            "[15.5  42.48 15.5 ]\n"
          ]
        }
      ]
    },
    {
      "cell_type": "markdown",
      "source": [
        "**Exercícios para entrega na plataforma item 2.6**\n",
        "\n",
        "`Criar todas as matrizes preenchidas com 1 (ones)`\n",
        "\n",
        "1) Matriz com as dimensões (8, 7) - preencher com o número 9 toda a coluna 3. Realizar a transposição da matriz.\n",
        "\n",
        "\n"
      ],
      "metadata": {
        "id": "hC7lvl7difzh"
      }
    },
    {
      "cell_type": "code",
      "source": [
        "x1 = np.ones([8,7]) # L X C\n",
        "x1[:,2] = 9\n",
        "print(x1)"
      ],
      "metadata": {
        "id": "mjKgIixRilsg",
        "colab": {
          "base_uri": "https://localhost:8080/"
        },
        "outputId": "f7dc6efc-c1de-4495-9c9d-e5e2d67671a9"
      },
      "execution_count": 52,
      "outputs": [
        {
          "output_type": "stream",
          "name": "stdout",
          "text": [
            "[[1. 1. 9. 1. 1. 1. 1.]\n",
            " [1. 1. 9. 1. 1. 1. 1.]\n",
            " [1. 1. 9. 1. 1. 1. 1.]\n",
            " [1. 1. 9. 1. 1. 1. 1.]\n",
            " [1. 1. 9. 1. 1. 1. 1.]\n",
            " [1. 1. 9. 1. 1. 1. 1.]\n",
            " [1. 1. 9. 1. 1. 1. 1.]\n",
            " [1. 1. 9. 1. 1. 1. 1.]]\n"
          ]
        }
      ]
    },
    {
      "cell_type": "markdown",
      "source": [
        "\n",
        "2) Matriz com as dimensões (10, 5) - preencher com 0 nas posições: [Linha 3, coluna 4] e [Linha 5, coluna 5]\n",
        "\n"
      ],
      "metadata": {
        "id": "CTGsEt1osN6o"
      }
    },
    {
      "cell_type": "code",
      "source": [
        "x2 = np.ones([10,5]) # L X C\n",
        "x2[[4,3],[4,3]] = 0\n",
        "#x2[2,3] = 0\n",
        "#x2[4,4] = 0\n",
        "print(x2)"
      ],
      "metadata": {
        "colab": {
          "base_uri": "https://localhost:8080/"
        },
        "id": "5Ha-VAdwrk94",
        "outputId": "70d72a44-f403-44a0-d0bb-687cc515e3a5"
      },
      "execution_count": 70,
      "outputs": [
        {
          "output_type": "stream",
          "name": "stdout",
          "text": [
            "[[1. 1. 1. 1. 1.]\n",
            " [1. 1. 1. 1. 1.]\n",
            " [1. 1. 1. 1. 1.]\n",
            " [1. 1. 1. 0. 1.]\n",
            " [1. 1. 1. 1. 0.]\n",
            " [1. 1. 1. 1. 1.]\n",
            " [1. 1. 1. 1. 1.]\n",
            " [1. 1. 1. 1. 1.]\n",
            " [1. 1. 1. 1. 1.]\n",
            " [1. 1. 1. 1. 1.]]\n"
          ]
        }
      ]
    },
    {
      "cell_type": "code",
      "source": [
        "#Transposição\n",
        "t=x2.T\n",
        "print(t)"
      ],
      "metadata": {
        "colab": {
          "base_uri": "https://localhost:8080/"
        },
        "id": "e_URZsuMwA03",
        "outputId": "550aad04-696e-4186-a657-89f529d6d0e2"
      },
      "execution_count": 79,
      "outputs": [
        {
          "output_type": "stream",
          "name": "stdout",
          "text": [
            "[[1. 1. 1. 1. 1. 1. 1. 1. 1. 1.]\n",
            " [1. 1. 1. 1. 1. 1. 1. 1. 1. 1.]\n",
            " [1. 1. 1. 1. 1. 1. 1. 1. 1. 1.]\n",
            " [1. 1. 1. 0. 1. 1. 1. 1. 1. 1.]\n",
            " [1. 1. 1. 1. 0. 1. 1. 1. 1. 1.]]\n"
          ]
        }
      ]
    },
    {
      "cell_type": "markdown",
      "source": [
        "3) Matriz com as dimensões (9, 6) - alterar a linha 7 e linha 8, preencher com número -1. Exibir o formato e tamanho da matriz."
      ],
      "metadata": {
        "id": "FdhzgSKQuOkT"
      }
    },
    {
      "cell_type": "code",
      "source": [
        "x3 = np.ones([9,6]) # L X C\n",
        "x3[7:,] = -1\n",
        "\n",
        "\n",
        "dimens = x3.shape\n",
        "print('A Matriz''\\n',x3,'\\n'\n",
        "'possui dimensão',dimens)\n"
      ],
      "metadata": {
        "colab": {
          "base_uri": "https://localhost:8080/"
        },
        "id": "bZENZTxysjrm",
        "outputId": "0d0e67fb-662a-401b-cde8-e58af1ff4c4d"
      },
      "execution_count": 76,
      "outputs": [
        {
          "output_type": "stream",
          "name": "stdout",
          "text": [
            "A Matriz\n",
            " [[ 1.  1.  1.  1.  1.  1.]\n",
            " [ 1.  1.  1.  1.  1.  1.]\n",
            " [ 1.  1.  1.  1.  1.  1.]\n",
            " [ 1.  1.  1.  1.  1.  1.]\n",
            " [ 1.  1.  1.  1.  1.  1.]\n",
            " [ 1.  1.  1.  1.  1.  1.]\n",
            " [ 1.  1.  1.  1.  1.  1.]\n",
            " [-1. -1. -1. -1. -1. -1.]\n",
            " [-1. -1. -1. -1. -1. -1.]] \n",
            "possui dimensão (9, 6)\n"
          ]
        }
      ]
    },
    {
      "cell_type": "code",
      "source": [
        ""
      ],
      "metadata": {
        "id": "2kyU3f1ZvAAd"
      },
      "execution_count": null,
      "outputs": []
    }
  ]
}