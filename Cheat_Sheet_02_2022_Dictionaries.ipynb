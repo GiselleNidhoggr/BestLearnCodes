{
  "nbformat": 4,
  "nbformat_minor": 0,
  "metadata": {
    "colab": {
      "name": "Cheat_Sheet_02_2022_Dictionaries.ipynb",
      "provenance": [],
      "toc_visible": true,
      "authorship_tag": "ABX9TyOVv2i/MBFqiZTuMfcVzmXQ",
      "include_colab_link": true
    },
    "kernelspec": {
      "name": "python3",
      "display_name": "Python 3"
    },
    "language_info": {
      "name": "python"
    }
  },
  "cells": [
    {
      "cell_type": "markdown",
      "metadata": {
        "id": "view-in-github",
        "colab_type": "text"
      },
      "source": [
        "<a href=\"https://colab.research.google.com/github/GiselleNidhoggr/BestLearnCodes/blob/main/Cheat_Sheet_02_2022_Dictionaries.ipynb\" target=\"_parent\"><img src=\"https://colab.research.google.com/assets/colab-badge.svg\" alt=\"Open In Colab\"/></a>"
      ]
    },
    {
      "cell_type": "markdown",
      "source": [
        "#All About Dicts"
      ],
      "metadata": {
        "id": "E07nPL4DqKM7"
      }
    },
    {
      "cell_type": "markdown",
      "source": [
        "\n",
        "<font style=\"font-size: 40px\" color='#AF7AC5'><center><h1> Dictionaries in Python 🐱‍🏍 </h1></center></font>\n",
        "<center><div>\n",
        "<image src='https://encrypted-tbn0.gstatic.com/images?q=tbn:ANd9GcSHsh5yVrEF4CCBs2CNlyVS-WDRXciamaSBO3BlIosCTdvU92PbLSVdU-Cnlpf0RdC9p6g&usqp=CAU' alt=\"cat-reading-a-dictionary\">\n",
        "</div></center>"
      ],
      "metadata": {
        "id": "_7hZ2geHPDUv"
      }
    },
    {
      "cell_type": "code",
      "execution_count": 1,
      "metadata": {
        "id": "iAecNPpfnYH7",
        "colab": {
          "base_uri": "https://localhost:8080/"
        },
        "outputId": "d4bf022c-662c-4cce-ace6-5398d8c6d3b3"
      },
      "outputs": [
        {
          "output_type": "execute_result",
          "data": {
            "text/plain": [
              "dict"
            ]
          },
          "metadata": {},
          "execution_count": 1
        }
      ],
      "source": [
        "x={}\n",
        "type(x) #first dict on this notebook!:)"
      ]
    },
    {
      "cell_type": "code",
      "source": [
        "file_counts={'jpg':9, 'csv':107, 'txt':80, 'py':25, }\n",
        "print(file_counts)"
      ],
      "metadata": {
        "colab": {
          "base_uri": "https://localhost:8080/"
        },
        "id": "pFKSlMjYShwX",
        "outputId": "6c87c673-0e91-45c9-e263-660825457833"
      },
      "execution_count": 2,
      "outputs": [
        {
          "output_type": "stream",
          "name": "stdout",
          "text": [
            "{'jpg': 9, 'csv': 107, 'txt': 80, 'py': 25}\n"
          ]
        }
      ]
    },
    {
      "cell_type": "code",
      "source": [
        "'txt' in file_counts"
      ],
      "metadata": {
        "colab": {
          "base_uri": "https://localhost:8080/"
        },
        "id": "c3oR3tgJfujY",
        "outputId": "6a8dac8f-4ac7-48a8-d834-e4159972a790"
      },
      "execution_count": 3,
      "outputs": [
        {
          "output_type": "execute_result",
          "data": {
            "text/plain": [
              "True"
            ]
          },
          "metadata": {},
          "execution_count": 3
        }
      ]
    },
    {
      "cell_type": "code",
      "source": [
        "file_counts['txt']"
      ],
      "metadata": {
        "colab": {
          "base_uri": "https://localhost:8080/"
        },
        "id": "adT-Pp8af_dH",
        "outputId": "46359ed1-2224-40c0-adda-da4910029429"
      },
      "execution_count": 4,
      "outputs": [
        {
          "output_type": "execute_result",
          "data": {
            "text/plain": [
              "80"
            ]
          },
          "metadata": {},
          "execution_count": 4
        }
      ]
    },
    {
      "cell_type": "code",
      "source": [
        "file_counts['cfg']=8\n",
        "print(file_counts)"
      ],
      "metadata": {
        "colab": {
          "base_uri": "https://localhost:8080/"
        },
        "id": "30jTYYW_gI5j",
        "outputId": "f94a2edc-1efc-4859-9bb0-af474a8f9789"
      },
      "execution_count": 5,
      "outputs": [
        {
          "output_type": "stream",
          "name": "stdout",
          "text": [
            "{'jpg': 9, 'csv': 107, 'txt': 80, 'py': 25, 'cfg': 8}\n"
          ]
        }
      ]
    },
    {
      "cell_type": "code",
      "source": [
        "file_counts['jpg']=10\n",
        "print(file_counts)"
      ],
      "metadata": {
        "colab": {
          "base_uri": "https://localhost:8080/"
        },
        "id": "m1OeG0dMgq2f",
        "outputId": "47373ba2-4177-4077-ba29-e4e4086529b1"
      },
      "execution_count": 6,
      "outputs": [
        {
          "output_type": "stream",
          "name": "stdout",
          "text": [
            "{'jpg': 10, 'csv': 107, 'txt': 80, 'py': 25, 'cfg': 8}\n"
          ]
        }
      ]
    },
    {
      "cell_type": "code",
      "source": [
        "del file_counts['jpg']\n",
        "print(file_counts)"
      ],
      "metadata": {
        "colab": {
          "base_uri": "https://localhost:8080/"
        },
        "id": "ol3X1KTGgxXQ",
        "outputId": "2dd023e1-fa6f-47d8-d821-a46dd0fde71a"
      },
      "execution_count": 7,
      "outputs": [
        {
          "output_type": "stream",
          "name": "stdout",
          "text": [
            "{'csv': 107, 'txt': 80, 'py': 25, 'cfg': 8}\n"
          ]
        }
      ]
    },
    {
      "cell_type": "markdown",
      "source": [
        "**Question**\n",
        "\n",
        "The \"toc\" dictionary represents the table of contents for a book. \n",
        "\n",
        "Fill in the blanks to do the following: \t\n",
        "1) Add an entry for Epilogue on page 39. \t\n",
        "2) Change the page number for Chapter 3 to 24. \t3) Display the new dictionary contents. \t\n",
        "4) Display True if there is Chapter 5, False if there isn't."
      ],
      "metadata": {
        "id": "NL_dimcahJv7"
      }
    },
    {
      "cell_type": "code",
      "source": [
        "toc = {\"Introduction\":1, \"Chapter 1\":4, \"Chapter 2\":11, \"Chapter 3\":25, \"Chapter 4\":30}\n",
        "toc['Epilogue']=39 # Epilogue starts on page 39\n",
        "toc['Chapter 3']=24 # Chapter 3 now starts on page 24\n",
        "print(toc) # What are the current contents of the dictionary?\n",
        "'chapter 5' in toc # Is there a Chapter 5?"
      ],
      "metadata": {
        "colab": {
          "base_uri": "https://localhost:8080/"
        },
        "id": "bYo7NbJ2hWAc",
        "outputId": "3b4834d2-522b-4731-d4ca-76233507a22d"
      },
      "execution_count": 8,
      "outputs": [
        {
          "output_type": "stream",
          "name": "stdout",
          "text": [
            "{'Introduction': 1, 'Chapter 1': 4, 'Chapter 2': 11, 'Chapter 3': 24, 'Chapter 4': 30, 'Epilogue': 39}\n"
          ]
        },
        {
          "output_type": "execute_result",
          "data": {
            "text/plain": [
              "False"
            ]
          },
          "metadata": {},
          "execution_count": 8
        }
      ]
    },
    {
      "cell_type": "code",
      "source": [
        "toc = {\"Introduction\":1, \"Chapter 1\":4, \"Chapter 2\":11, \"Chapter 3\":25, \"Chapter 4\":30}\n",
        "toc[\"Epilogue\"]=39 # Epilogue starts on page 39\n",
        "toc[\"Chapter 3\"]=24 # Chapter 3 now starts on page 24\n",
        "print(toc) # What are the current contents of the dictionary?\n",
        "print(\"Chapter 5\" in toc) # Is there a Chapter 5?"
      ],
      "metadata": {
        "id": "_iws0za7hEOi",
        "colab": {
          "base_uri": "https://localhost:8080/"
        },
        "outputId": "5dd7f403-76bf-434f-efae-7adb91c39759"
      },
      "execution_count": 9,
      "outputs": [
        {
          "output_type": "stream",
          "name": "stdout",
          "text": [
            "{'Introduction': 1, 'Chapter 1': 4, 'Chapter 2': 11, 'Chapter 3': 24, 'Chapter 4': 30, 'Epilogue': 39}\n",
            "False\n"
          ]
        }
      ]
    },
    {
      "cell_type": "code",
      "source": [
        "print(file_counts)"
      ],
      "metadata": {
        "colab": {
          "base_uri": "https://localhost:8080/"
        },
        "id": "U7e8lma8Ql2_",
        "outputId": "15e32c2d-1612-46d3-b4b2-5f04d89a4ba2"
      },
      "execution_count": 10,
      "outputs": [
        {
          "output_type": "stream",
          "name": "stdout",
          "text": [
            "{'csv': 107, 'txt': 80, 'py': 25, 'cfg': 8}\n"
          ]
        }
      ]
    },
    {
      "cell_type": "code",
      "source": [
        "for extension in file_counts:\n",
        "    print(extension)"
      ],
      "metadata": {
        "colab": {
          "base_uri": "https://localhost:8080/"
        },
        "id": "7BTKqZ4yQoJA",
        "outputId": "ae007e48-499e-4b78-8263-5c3976caceff"
      },
      "execution_count": 12,
      "outputs": [
        {
          "output_type": "stream",
          "name": "stdout",
          "text": [
            "csv\n",
            "txt\n",
            "py\n",
            "cfg\n"
          ]
        }
      ]
    },
    {
      "cell_type": "code",
      "source": [
        "for extension, amount in file_counts.items():\n",
        "    print('There are {} files with the .{} extension '.format(amount,extension))\n"
      ],
      "metadata": {
        "colab": {
          "base_uri": "https://localhost:8080/"
        },
        "id": "Zm21_YznQvFo",
        "outputId": "49452a48-24c0-4955-9e81-299edc2925c9"
      },
      "execution_count": 13,
      "outputs": [
        {
          "output_type": "stream",
          "name": "stdout",
          "text": [
            "There are 107 files with the .csv extension \n",
            "There are 80 files with the .txt extension \n",
            "There are 25 files with the .py extension \n",
            "There are 8 files with the .cfg extension \n"
          ]
        }
      ]
    },
    {
      "cell_type": "code",
      "source": [
        "file_counts.keys()"
      ],
      "metadata": {
        "colab": {
          "base_uri": "https://localhost:8080/"
        },
        "id": "MEUSYeJ0RsAf",
        "outputId": "b50d664f-2305-48d2-9f0e-0d126ddbb817"
      },
      "execution_count": 14,
      "outputs": [
        {
          "output_type": "execute_result",
          "data": {
            "text/plain": [
              "dict_keys(['csv', 'txt', 'py', 'cfg'])"
            ]
          },
          "metadata": {},
          "execution_count": 14
        }
      ]
    },
    {
      "cell_type": "code",
      "source": [
        "file_counts.values()\n",
        "fc_list=[file_counts.values()]\n",
        "print(fc_list)\n",
        "print(type(fc_list))"
      ],
      "metadata": {
        "colab": {
          "base_uri": "https://localhost:8080/"
        },
        "id": "m0gY2TPESzWa",
        "outputId": "cf1e5b1f-b438-42c3-e902-34bab70bf630"
      },
      "execution_count": 18,
      "outputs": [
        {
          "output_type": "stream",
          "name": "stdout",
          "text": [
            "[dict_values([107, 80, 25, 8])]\n",
            "<class 'list'>\n"
          ]
        }
      ]
    },
    {
      "cell_type": "code",
      "source": [
        "for value in file_counts.values():\n",
        "    print(value)"
      ],
      "metadata": {
        "colab": {
          "base_uri": "https://localhost:8080/"
        },
        "id": "ZndkdmQGS6Kp",
        "outputId": "c5a034f5-2f68-4c96-8465-38ff7d14bab5"
      },
      "execution_count": 16,
      "outputs": [
        {
          "output_type": "stream",
          "name": "stdout",
          "text": [
            "107\n",
            "80\n",
            "25\n",
            "8\n"
          ]
        }
      ]
    },
    {
      "cell_type": "markdown",
      "source": [
        "**Question**\n",
        "\n",
        "Complete the code to iterate through the keys and values of the cool_beasts dictionary. Remember that the items method returns a tuple of key, value for each element in the dictionary."
      ],
      "metadata": {
        "id": "l9fJ2p6JTo1Y"
      }
    },
    {
      "cell_type": "code",
      "source": [
        "cool_beasts = {\"octopuses\":\"tentacles\", \"dolphins\":\"fins\", \"rhinos\":\"horns\"}\n",
        "for beast,arms in cool_beasts.items():\n",
        "    print(\"{} have {}\".format(beast,arms))"
      ],
      "metadata": {
        "colab": {
          "base_uri": "https://localhost:8080/"
        },
        "id": "wkJ5A62rT2C6",
        "outputId": "3dac873e-1c47-47e5-d27a-06503579ad29"
      },
      "execution_count": 20,
      "outputs": [
        {
          "output_type": "stream",
          "name": "stdout",
          "text": [
            "octopuses have tentacles\n",
            "dolphins have fins\n",
            "rhinos have horns\n"
          ]
        }
      ]
    },
    {
      "cell_type": "code",
      "source": [
        "def count_letters(text):\n",
        "    result={}\n",
        "    for letter in text:\n",
        "        if letter not in result:\n",
        "            result[letter]=0\n",
        "        result[letter]+=1\n",
        "    return result\n",
        "\n",
        "count_letters('texto pequeno    ')\n"
      ],
      "metadata": {
        "colab": {
          "base_uri": "https://localhost:8080/"
        },
        "id": "ZxpqI2pqTMUB",
        "outputId": "32b02a28-79ef-4191-d2a3-c681d44dadc5"
      },
      "execution_count": 37,
      "outputs": [
        {
          "output_type": "execute_result",
          "data": {
            "text/plain": [
              "{' ': 5, 'e': 3, 'n': 1, 'o': 2, 'p': 1, 'q': 1, 't': 2, 'u': 1, 'x': 1}"
            ]
          },
          "metadata": {},
          "execution_count": 37
        }
      ]
    },
    {
      "cell_type": "markdown",
      "source": [
        "**Question**\n",
        "\n",
        "In Python, a dictionary can only hold a single value for a given key. To workaround this, our single value can be a list containing multiple values. Here we have a dictionary called \"wardrobe\" with items of clothing and their colors. Fill in the blanks to print a line for each item of clothing with each color, for example: \"red shirt\", \"blue shirt\", and so on."
      ],
      "metadata": {
        "id": "LqxTMc-0pAEy"
      }
    },
    {
      "cell_type": "code",
      "source": [
        "wardrobe = {\"shirt\":[\"red\",\"blue\",\"white\"], \"jeans\":[\"blue\",\"black\"]}\n",
        "for i, j in wardrobe.items():\n",
        "\tfor j1 in j:\n",
        "\t\tprint(\"{} {}\".format(j1, i))"
      ],
      "metadata": {
        "colab": {
          "base_uri": "https://localhost:8080/"
        },
        "id": "KFUwMWb4V51l",
        "outputId": "3b263fe2-53f1-4a4f-da95-0c7dcb136b77"
      },
      "execution_count": 38,
      "outputs": [
        {
          "output_type": "stream",
          "name": "stdout",
          "text": [
            "red shirt\n",
            "blue shirt\n",
            "white shirt\n",
            "blue jeans\n",
            "black jeans\n"
          ]
        }
      ]
    },
    {
      "cell_type": "markdown",
      "source": [
        "\n",
        "#Dictionary Methods Cheat Sheet\n",
        "\n",
        "\n",
        "---\n",
        "\n",
        "\n",
        "Definition\n",
        "\n",
        "x = {key1:value1, key2:value2} \n",
        "\n",
        "\n",
        "---\n",
        "\n",
        "\n",
        "\n",
        "**Operations**\n",
        "\n",
        "- len(dictionary) - Returns the number of items in the dictionary\n",
        "\n",
        "- for key in dictionary - Iterates over each key in the dictionary\n",
        "\n",
        "- for key, value in dictionary.items() - Iterates over each key,value pair in the dictionary\n",
        "\n",
        "- if key in dictionary - Checks whether the key is in the dictionary\n",
        "\n",
        "- dictionary[key] - Accesses the item with key key of the dictionary\n",
        "\n",
        "- dictionary[key] = value - Sets the value associated with key\n",
        "\n",
        "- del dictionary[key] - Removes the item with key key from the dictionary\n",
        "\n",
        "\n",
        "**Methods**\n",
        "\n",
        "- dict.get(key, default) - Returns the element corresponding to key, or default if it's not present\n",
        "\n",
        "- dict.keys() - Returns a sequence containing the keys in the dictionary\n",
        "\n",
        "- dict.values() - Returns a sequence containing the values in the dictionary\n",
        "\n",
        "- dict.update(other_dictionary) - Updates the dictionary with the items coming from the other dictionary. Existing entries will be replaced; new entries will be added.\n",
        "\n",
        "- dict.clear() - Removes all the items of the dictionary"
      ],
      "metadata": {
        "id": "6G81auBdpovY"
      }
    },
    {
      "cell_type": "markdown",
      "source": [
        "#Exercise"
      ],
      "metadata": {
        "id": "I008-0Faq0Ai"
      }
    },
    {
      "cell_type": "code",
      "source": [
        ""
      ],
      "metadata": {
        "id": "r8owTuwapEhr"
      },
      "execution_count": null,
      "outputs": []
    }
  ]
}