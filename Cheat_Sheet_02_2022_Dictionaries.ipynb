{
  "nbformat": 4,
  "nbformat_minor": 0,
  "metadata": {
    "colab": {
      "name": "Cheat_Sheet_02_2022_Dictionaries.ipynb",
      "provenance": [],
      "authorship_tag": "ABX9TyO9fJ1yq7DNOHJOIN3D/T74",
      "include_colab_link": true
    },
    "kernelspec": {
      "name": "python3",
      "display_name": "Python 3"
    },
    "language_info": {
      "name": "python"
    }
  },
  "cells": [
    {
      "cell_type": "markdown",
      "metadata": {
        "id": "view-in-github",
        "colab_type": "text"
      },
      "source": [
        "<a href=\"https://colab.research.google.com/github/GiselleNidhoggr/BestLearnCodes/blob/main/Cheat_Sheet_02_2022_Dictionaries.ipynb\" target=\"_parent\"><img src=\"https://colab.research.google.com/assets/colab-badge.svg\" alt=\"Open In Colab\"/></a>"
      ]
    },
    {
      "cell_type": "markdown",
      "source": [
        "#All About Dicts"
      ],
      "metadata": {
        "id": "E07nPL4DqKM7"
      }
    },
    {
      "cell_type": "markdown",
      "source": [
        "\n",
        "<font style=\"font-size: 40px\" color='#AF7AC5'><center><h1> Dictionaries in Python 🐱‍🏍 </h1></center></font>\n",
        "<center><div>\n",
        "<image src='https://encrypted-tbn0.gstatic.com/images?q=tbn:ANd9GcSHsh5yVrEF4CCBs2CNlyVS-WDRXciamaSBO3BlIosCTdvU92PbLSVdU-Cnlpf0RdC9p6g&usqp=CAU' alt=\"cat-reading-a-dictionary\">\n",
        "</div></center>"
      ],
      "metadata": {
        "id": "_7hZ2geHPDUv"
      }
    },
    {
      "cell_type": "code",
      "execution_count": null,
      "metadata": {
        "id": "iAecNPpfnYH7",
        "colab": {
          "base_uri": "https://localhost:8080/"
        },
        "outputId": "d4bf022c-662c-4cce-ace6-5398d8c6d3b3"
      },
      "outputs": [
        {
          "output_type": "execute_result",
          "data": {
            "text/plain": [
              "dict"
            ]
          },
          "metadata": {},
          "execution_count": 1
        }
      ],
      "source": [
        "x={}\n",
        "type(x) #first dict on this notebook!:)"
      ]
    },
    {
      "cell_type": "code",
      "source": [
        "file_counts={'jpg':9, 'csv':107, 'txt':80, 'py':25, }\n",
        "print(file_counts)"
      ],
      "metadata": {
        "colab": {
          "base_uri": "https://localhost:8080/"
        },
        "id": "pFKSlMjYShwX",
        "outputId": "3d299b8d-64a6-4f5f-a0f7-d1e94e5e2341"
      },
      "execution_count": 1,
      "outputs": [
        {
          "output_type": "stream",
          "name": "stdout",
          "text": [
            "{'jpg': 9, 'csv': 107, 'txt': 80, 'py': 25}\n"
          ]
        }
      ]
    },
    {
      "cell_type": "code",
      "source": [
        "file_counts.keys()"
      ],
      "metadata": {
        "colab": {
          "base_uri": "https://localhost:8080/"
        },
        "id": "lM6UgDFNdVP8",
        "outputId": "d37dac1c-b16d-49a2-9ebf-439d04000e56"
      },
      "execution_count": 2,
      "outputs": [
        {
          "output_type": "execute_result",
          "data": {
            "text/plain": [
              "dict_keys(['jpg', 'csv', 'txt', 'py'])"
            ]
          },
          "metadata": {},
          "execution_count": 2
        }
      ]
    },
    {
      "cell_type": "code",
      "source": [
        "'txt' in file_counts"
      ],
      "metadata": {
        "colab": {
          "base_uri": "https://localhost:8080/"
        },
        "id": "c3oR3tgJfujY",
        "outputId": "6a8dac8f-4ac7-48a8-d834-e4159972a790"
      },
      "execution_count": null,
      "outputs": [
        {
          "output_type": "execute_result",
          "data": {
            "text/plain": [
              "True"
            ]
          },
          "metadata": {},
          "execution_count": 3
        }
      ]
    },
    {
      "cell_type": "code",
      "source": [
        "file_counts['txt']"
      ],
      "metadata": {
        "colab": {
          "base_uri": "https://localhost:8080/"
        },
        "id": "adT-Pp8af_dH",
        "outputId": "46359ed1-2224-40c0-adda-da4910029429"
      },
      "execution_count": null,
      "outputs": [
        {
          "output_type": "execute_result",
          "data": {
            "text/plain": [
              "80"
            ]
          },
          "metadata": {},
          "execution_count": 4
        }
      ]
    },
    {
      "cell_type": "code",
      "source": [
        "file_counts['cfg']=8\n",
        "print(file_counts)"
      ],
      "metadata": {
        "colab": {
          "base_uri": "https://localhost:8080/"
        },
        "id": "30jTYYW_gI5j",
        "outputId": "f94a2edc-1efc-4859-9bb0-af474a8f9789"
      },
      "execution_count": null,
      "outputs": [
        {
          "output_type": "stream",
          "name": "stdout",
          "text": [
            "{'jpg': 9, 'csv': 107, 'txt': 80, 'py': 25, 'cfg': 8}\n"
          ]
        }
      ]
    },
    {
      "cell_type": "code",
      "source": [
        "file_counts['jpg']=10\n",
        "print(file_counts)"
      ],
      "metadata": {
        "colab": {
          "base_uri": "https://localhost:8080/"
        },
        "id": "m1OeG0dMgq2f",
        "outputId": "47373ba2-4177-4077-ba29-e4e4086529b1"
      },
      "execution_count": null,
      "outputs": [
        {
          "output_type": "stream",
          "name": "stdout",
          "text": [
            "{'jpg': 10, 'csv': 107, 'txt': 80, 'py': 25, 'cfg': 8}\n"
          ]
        }
      ]
    },
    {
      "cell_type": "code",
      "source": [
        "del file_counts['jpg']\n",
        "print(file_counts)"
      ],
      "metadata": {
        "colab": {
          "base_uri": "https://localhost:8080/"
        },
        "id": "ol3X1KTGgxXQ",
        "outputId": "2dd023e1-fa6f-47d8-d821-a46dd0fde71a"
      },
      "execution_count": null,
      "outputs": [
        {
          "output_type": "stream",
          "name": "stdout",
          "text": [
            "{'csv': 107, 'txt': 80, 'py': 25, 'cfg': 8}\n"
          ]
        }
      ]
    },
    {
      "cell_type": "markdown",
      "source": [
        "**Question**\n",
        "\n",
        "The \"toc\" dictionary represents the table of contents for a book. \n",
        "\n",
        "Fill in the blanks to do the following: \t\n",
        "1) Add an entry for Epilogue on page 39. \t\n",
        "2) Change the page number for Chapter 3 to 24. \t3) Display the new dictionary contents. \t\n",
        "4) Display True if there is Chapter 5, False if there isn't."
      ],
      "metadata": {
        "id": "NL_dimcahJv7"
      }
    },
    {
      "cell_type": "code",
      "source": [
        "toc = {\"Introduction\":1, \"Chapter 1\":4, \"Chapter 2\":11, \"Chapter 3\":25, \"Chapter 4\":30}\n",
        "toc['Epilogue']=39 # Epilogue starts on page 39\n",
        "toc['Chapter 3']=24 # Chapter 3 now starts on page 24\n",
        "print(toc) # What are the current contents of the dictionary?\n",
        "'chapter 5' in toc # Is there a Chapter 5?"
      ],
      "metadata": {
        "colab": {
          "base_uri": "https://localhost:8080/"
        },
        "id": "bYo7NbJ2hWAc",
        "outputId": "3b4834d2-522b-4731-d4ca-76233507a22d"
      },
      "execution_count": null,
      "outputs": [
        {
          "output_type": "stream",
          "name": "stdout",
          "text": [
            "{'Introduction': 1, 'Chapter 1': 4, 'Chapter 2': 11, 'Chapter 3': 24, 'Chapter 4': 30, 'Epilogue': 39}\n"
          ]
        },
        {
          "output_type": "execute_result",
          "data": {
            "text/plain": [
              "False"
            ]
          },
          "metadata": {},
          "execution_count": 8
        }
      ]
    },
    {
      "cell_type": "code",
      "source": [
        "toc = {\"Introduction\":1, \"Chapter 1\":4, \"Chapter 2\":11, \"Chapter 3\":25, \"Chapter 4\":30}\n",
        "toc[\"Epilogue\"]=39 # Epilogue starts on page 39\n",
        "toc[\"Chapter 3\"]=24 # Chapter 3 now starts on page 24\n",
        "print(toc) # What are the current contents of the dictionary?\n",
        "print(\"Chapter 5\" in toc) # Is there a Chapter 5?"
      ],
      "metadata": {
        "id": "_iws0za7hEOi",
        "colab": {
          "base_uri": "https://localhost:8080/"
        },
        "outputId": "5dd7f403-76bf-434f-efae-7adb91c39759"
      },
      "execution_count": null,
      "outputs": [
        {
          "output_type": "stream",
          "name": "stdout",
          "text": [
            "{'Introduction': 1, 'Chapter 1': 4, 'Chapter 2': 11, 'Chapter 3': 24, 'Chapter 4': 30, 'Epilogue': 39}\n",
            "False\n"
          ]
        }
      ]
    },
    {
      "cell_type": "code",
      "source": [
        "print(file_counts)"
      ],
      "metadata": {
        "colab": {
          "base_uri": "https://localhost:8080/"
        },
        "id": "U7e8lma8Ql2_",
        "outputId": "15e32c2d-1612-46d3-b4b2-5f04d89a4ba2"
      },
      "execution_count": null,
      "outputs": [
        {
          "output_type": "stream",
          "name": "stdout",
          "text": [
            "{'csv': 107, 'txt': 80, 'py': 25, 'cfg': 8}\n"
          ]
        }
      ]
    },
    {
      "cell_type": "code",
      "source": [
        "for extension in file_counts:\n",
        "    print(extension)"
      ],
      "metadata": {
        "colab": {
          "base_uri": "https://localhost:8080/"
        },
        "id": "7BTKqZ4yQoJA",
        "outputId": "ae007e48-499e-4b78-8263-5c3976caceff"
      },
      "execution_count": null,
      "outputs": [
        {
          "output_type": "stream",
          "name": "stdout",
          "text": [
            "csv\n",
            "txt\n",
            "py\n",
            "cfg\n"
          ]
        }
      ]
    },
    {
      "cell_type": "code",
      "source": [
        "for extension, amount in file_counts.items():\n",
        "    print('There are {} files with the .{} extension '.format(amount,extension))\n"
      ],
      "metadata": {
        "colab": {
          "base_uri": "https://localhost:8080/"
        },
        "id": "Zm21_YznQvFo",
        "outputId": "49452a48-24c0-4955-9e81-299edc2925c9"
      },
      "execution_count": null,
      "outputs": [
        {
          "output_type": "stream",
          "name": "stdout",
          "text": [
            "There are 107 files with the .csv extension \n",
            "There are 80 files with the .txt extension \n",
            "There are 25 files with the .py extension \n",
            "There are 8 files with the .cfg extension \n"
          ]
        }
      ]
    },
    {
      "cell_type": "code",
      "source": [
        "file_counts.keys()"
      ],
      "metadata": {
        "colab": {
          "base_uri": "https://localhost:8080/"
        },
        "id": "MEUSYeJ0RsAf",
        "outputId": "b50d664f-2305-48d2-9f0e-0d126ddbb817"
      },
      "execution_count": null,
      "outputs": [
        {
          "output_type": "execute_result",
          "data": {
            "text/plain": [
              "dict_keys(['csv', 'txt', 'py', 'cfg'])"
            ]
          },
          "metadata": {},
          "execution_count": 14
        }
      ]
    },
    {
      "cell_type": "code",
      "source": [
        "file_counts.values()\n",
        "fc_list=[file_counts.values()]\n",
        "print(fc_list)\n",
        "print(type(fc_list))"
      ],
      "metadata": {
        "colab": {
          "base_uri": "https://localhost:8080/"
        },
        "id": "m0gY2TPESzWa",
        "outputId": "cf1e5b1f-b438-42c3-e902-34bab70bf630"
      },
      "execution_count": null,
      "outputs": [
        {
          "output_type": "stream",
          "name": "stdout",
          "text": [
            "[dict_values([107, 80, 25, 8])]\n",
            "<class 'list'>\n"
          ]
        }
      ]
    },
    {
      "cell_type": "code",
      "source": [
        "for value in file_counts.values():\n",
        "    print(value)"
      ],
      "metadata": {
        "colab": {
          "base_uri": "https://localhost:8080/"
        },
        "id": "ZndkdmQGS6Kp",
        "outputId": "c5a034f5-2f68-4c96-8465-38ff7d14bab5"
      },
      "execution_count": null,
      "outputs": [
        {
          "output_type": "stream",
          "name": "stdout",
          "text": [
            "107\n",
            "80\n",
            "25\n",
            "8\n"
          ]
        }
      ]
    },
    {
      "cell_type": "markdown",
      "source": [
        "**Question**\n",
        "\n",
        "Complete the code to iterate through the keys and values of the cool_beasts dictionary. Remember that the items method returns a tuple of key, value for each element in the dictionary."
      ],
      "metadata": {
        "id": "l9fJ2p6JTo1Y"
      }
    },
    {
      "cell_type": "code",
      "source": [
        "cool_beasts = {\"octopuses\":\"tentacles\", \"dolphins\":\"fins\", \"rhinos\":\"horns\"}\n",
        "for beast,arms in cool_beasts.items():\n",
        "    print(\"{} have {}\".format(beast,arms))"
      ],
      "metadata": {
        "colab": {
          "base_uri": "https://localhost:8080/"
        },
        "id": "wkJ5A62rT2C6",
        "outputId": "3dac873e-1c47-47e5-d27a-06503579ad29"
      },
      "execution_count": null,
      "outputs": [
        {
          "output_type": "stream",
          "name": "stdout",
          "text": [
            "octopuses have tentacles\n",
            "dolphins have fins\n",
            "rhinos have horns\n"
          ]
        }
      ]
    },
    {
      "cell_type": "code",
      "source": [
        "def count_letters(text):\n",
        "    result={}\n",
        "    for letter in text:\n",
        "        if letter not in result:\n",
        "            result[letter]=0\n",
        "        result[letter]+=1\n",
        "    return result\n",
        "\n",
        "count_letters('texto pequeno    ')\n"
      ],
      "metadata": {
        "colab": {
          "base_uri": "https://localhost:8080/"
        },
        "id": "ZxpqI2pqTMUB",
        "outputId": "32b02a28-79ef-4191-d2a3-c681d44dadc5"
      },
      "execution_count": null,
      "outputs": [
        {
          "output_type": "execute_result",
          "data": {
            "text/plain": [
              "{' ': 5, 'e': 3, 'n': 1, 'o': 2, 'p': 1, 'q': 1, 't': 2, 'u': 1, 'x': 1}"
            ]
          },
          "metadata": {},
          "execution_count": 37
        }
      ]
    },
    {
      "cell_type": "markdown",
      "source": [
        "**Question**\n",
        "\n",
        "In Python, a dictionary can only hold a single value for a given key. To workaround this, our single value can be a list containing multiple values. Here we have a dictionary called \"wardrobe\" with items of clothing and their colors. Fill in the blanks to print a line for each item of clothing with each color, for example: \"red shirt\", \"blue shirt\", and so on."
      ],
      "metadata": {
        "id": "LqxTMc-0pAEy"
      }
    },
    {
      "cell_type": "code",
      "source": [
        "wardrobe = {\"shirt\":[\"red\",\"blue\",\"white\"], \"jeans\":[\"blue\",\"black\"]}\n",
        "for i, j in wardrobe.items():\n",
        "\tfor j1 in j:\n",
        "\t\tprint(\"{} {}\".format(j1, i))"
      ],
      "metadata": {
        "colab": {
          "base_uri": "https://localhost:8080/"
        },
        "id": "KFUwMWb4V51l",
        "outputId": "3b263fe2-53f1-4a4f-da95-0c7dcb136b77"
      },
      "execution_count": null,
      "outputs": [
        {
          "output_type": "stream",
          "name": "stdout",
          "text": [
            "red shirt\n",
            "blue shirt\n",
            "white shirt\n",
            "blue jeans\n",
            "black jeans\n"
          ]
        }
      ]
    },
    {
      "cell_type": "markdown",
      "source": [
        "\n",
        "#Dictionary Methods Cheat Sheet\n",
        "\n",
        "\n",
        "---\n",
        "\n",
        "\n",
        "Definition\n",
        "\n",
        "x = {key1:value1, key2:value2} \n",
        "\n",
        "\n",
        "---\n",
        "\n",
        "\n",
        "\n",
        "**Operations**\n",
        "\n",
        "- len(dictionary) - Returns the number of items in the dictionary\n",
        "\n",
        "- for key in dictionary - Iterates over each key in the dictionary\n",
        "\n",
        "- for key, value in dictionary.items() - Iterates over each key,value pair in the dictionary\n",
        "\n",
        "- if key in dictionary - Checks whether the key is in the dictionary\n",
        "\n",
        "- dictionary[key] - Accesses the item with key key of the dictionary\n",
        "\n",
        "- dictionary[key] = value - Sets the value associated with key\n",
        "\n",
        "- del dictionary[key] - Removes the item with key key from the dictionary\n",
        "\n",
        "\n",
        "**Methods**\n",
        "\n",
        "- dict.get(key, default) - Returns the element corresponding to key, or default if it's not present\n",
        "\n",
        "- dict.keys() - Returns a sequence containing the keys in the dictionary\n",
        "\n",
        "- dict.values() - Returns a sequence containing the values in the dictionary\n",
        "\n",
        "- dict.update(other_dictionary) - Updates the dictionary with the items coming from the other dictionary. Existing entries will be replaced; new entries will be added.\n",
        "\n",
        "- dict.clear() - Removes all the items of the dictionary"
      ],
      "metadata": {
        "id": "6G81auBdpovY"
      }
    },
    {
      "cell_type": "markdown",
      "source": [
        "#Exercise"
      ],
      "metadata": {
        "id": "I008-0Faq0Ai"
      }
    },
    {
      "cell_type": "code",
      "source": [
        "colors = [\"red\", \"white\", \"blue\"]\n",
        "colors.insert(2, \"yellow\")\n",
        "print(colors)"
      ],
      "metadata": {
        "id": "r8owTuwapEhr",
        "colab": {
          "base_uri": "https://localhost:8080/"
        },
        "outputId": "23f0c324-a6d1-4243-b4c8-8df520f6167a"
      },
      "execution_count": 4,
      "outputs": [
        {
          "output_type": "stream",
          "name": "stdout",
          "text": [
            "['red', 'white', 'yellow', 'blue']\n"
          ]
        }
      ]
    },
    {
      "cell_type": "code",
      "source": [
        "animal='Hippopotamus'\n",
        "print(animal[3:6]) #pop\n",
        "print(animal[-5]) #t\n",
        "print(animal[10:]) #us"
      ],
      "metadata": {
        "colab": {
          "base_uri": "https://localhost:8080/"
        },
        "id": "fpPhtEvbd5cv",
        "outputId": "41d4c527-4384-49e9-9267-5495628fa083"
      },
      "execution_count": 9,
      "outputs": [
        {
          "output_type": "stream",
          "name": "stdout",
          "text": [
            "pop\n",
            "t\n",
            "us\n"
          ]
        }
      ]
    },
    {
      "cell_type": "code",
      "source": [
        "animal='Hippopotamus'\n",
        "print(animal[0:1])"
      ],
      "metadata": {
        "colab": {
          "base_uri": "https://localhost:8080/"
        },
        "id": "0jNbWEAoef6e",
        "outputId": "bdd40b77-ed54-4a45-d645-60e096ecbebf"
      },
      "execution_count": 8,
      "outputs": [
        {
          "output_type": "stream",
          "name": "stdout",
          "text": [
            "H\n"
          ]
        }
      ]
    },
    {
      "cell_type": "markdown",
      "source": [
        "The format_address function separates out parts of the address string into new strings: house_number and street_name, and returns: \"house number X on street named Y\". \n",
        "\n",
        "The format of the input string is: numeric house number, followed by the street name which may contain numbers, but never by themselves, and could be several words long. \n",
        "\n",
        "For example, \"123 Main Street\", \"1001 1st Ave\", or \"55 North Center Drive\". Fill in the gaps to complete this function."
      ],
      "metadata": {
        "id": "6aSlyoB2USKQ"
      }
    },
    {
      "cell_type": "code",
      "source": [
        "def format_address(address_string):\n",
        "  # Declare variables\n",
        "  house_number = 0\n",
        "  street_name = []\n",
        "  # Separate the address string into parts\n",
        "  address = address_string.split()\n",
        "  # Traverse through the address parts\n",
        "  for item in address:\n",
        "    if item.isnumeric():\n",
        "      house_number = item\n",
        "    else:\n",
        "      street_name.append(item)\n",
        "    # Determine if the address part is the\n",
        "    # house number or part of the street name\n",
        "\n",
        "  # Does anything else need to be done \n",
        "  # before returning the result?\n",
        "  \n",
        "  # Return the formatted string  \n",
        "  return \"house number {} on street named {}\".format(house_number, \" \".join(street_name))\n",
        "\n",
        "print(format_address(\"123 Main Street\"))\n",
        "# Should print: \"house number 123 on street named Main Street\"\n",
        "\n",
        "print(format_address(\"1001 1st Ave\"))\n",
        "# Should print: \"house number 1001 on street named 1st Ave\"\n",
        "\n",
        "print(format_address(\"55 North Center Drive\"))\n",
        "# Should print \"house number 55 on street named North Center Drive\""
      ],
      "metadata": {
        "colab": {
          "base_uri": "https://localhost:8080/"
        },
        "id": "Pr8zC4-kei5j",
        "outputId": "17cbbfab-3f7a-43ba-f917-edac835fd224"
      },
      "execution_count": 5,
      "outputs": [
        {
          "output_type": "stream",
          "name": "stdout",
          "text": [
            "house number 123 on street named Main Street\n",
            "house number 1001 on street named 1st Ave\n",
            "house number 55 on street named North Center Drive\n"
          ]
        }
      ]
    },
    {
      "cell_type": "markdown",
      "source": [
        "Question 2\n",
        "\n",
        "The highlight_word function changes the given word in a sentence to its upper-case version. For example, highlight_word(\"Have a nice day\", \"nice\") returns \"Have a NICE day\". Can you write this function in just one line?"
      ],
      "metadata": {
        "id": "_bgkYOYqYiYK"
      }
    },
    {
      "cell_type": "code",
      "source": [
        "def highlight_word(sentence, word):\n",
        "\treturn sentence.replace(word, word.upper()) \n",
        "\n",
        "print(highlight_word(\"Have a nice day\", \"nice\"))\n",
        "print(highlight_word(\"Shhh, don't be so loud!\", \"loud\"))\n",
        "print(highlight_word(\"Automating with Python is fun\", \"fun\"))"
      ],
      "metadata": {
        "colab": {
          "base_uri": "https://localhost:8080/"
        },
        "id": "3MBlDg5jXGL7",
        "outputId": "14eec7b1-13d0-4697-e9f6-a9cda3197ef2"
      },
      "execution_count": 6,
      "outputs": [
        {
          "output_type": "stream",
          "name": "stdout",
          "text": [
            "Have a NICE day\n",
            "Shhh, don't be so LOUD!\n",
            "Automating with Python is FUN\n"
          ]
        }
      ]
    },
    {
      "cell_type": "markdown",
      "source": [
        "A professor with two assistants, Jamie and Drew, wants an attendance list of the students, in the order that they arrived in the classroom. \n",
        "\n",
        "Drew was the first one to note which students arrived, and then Jamie took over. \n",
        "\n",
        "After the class, they each entered their lists into the computer and emailed them to the professor, who needs to combine them into one, in the order of each student's arrival. \n",
        "\n",
        "Jamie emailed a follow-up, saying that her list is in reverse order. \n",
        "\n",
        "Complete the steps to combine them into one list as follows: **the contents of Drew's list, followed by Jamie's list in reverse order**, to get an accurate list of the students as they arrived."
      ],
      "metadata": {
        "id": "QYN5eq3tXF5M"
      }
    },
    {
      "cell_type": "code",
      "source": [
        "def combine_lists(list1, list2):\n",
        "  # Generate a new list containing the elements of list2\n",
        "  list3=list2+list1\n",
        "  # Followed by the elements of list1 in reverse order\n",
        "  \n",
        "\t\n",
        "Jamies_list = [\"Alice\", \"Cindy\", \"Bobby\", \"Jan\", \"Peter\"]\n",
        "Drews_list = [\"Mike\", \"Carol\", \"Greg\", \"Marcia\"]\n",
        "\n",
        "print(combine_lists(Jamies_list, Drews_list))"
      ],
      "metadata": {
        "colab": {
          "base_uri": "https://localhost:8080/"
        },
        "id": "_rT0Bgi6Y2-J",
        "outputId": "b3918064-9b27-4f94-b6b9-0fc11cb55f4a"
      },
      "execution_count": 7,
      "outputs": [
        {
          "output_type": "stream",
          "name": "stdout",
          "text": [
            "None\n"
          ]
        }
      ]
    },
    {
      "cell_type": "code",
      "source": [
        "def combine_lists(Jamies_list, Drews_list):\n",
        "  # Generate a new list containing the elements of list2\n",
        "  # Followed by the elements of list1 in reverse order\n",
        "    list3=Drews_list.reverse()\n",
        "    list4=Jamies_list\n",
        "\t\n",
        "Jamies_list = [\"Alice\", \"Cindy\", \"Bobby\", \"Jan\", \"Peter\"]\n",
        "Drews_list = [\"Mike\", \"Carol\", \"Greg\", \"Marcia\"]\n",
        "\n",
        "print(Jamies_list+Drews_list)"
      ],
      "metadata": {
        "colab": {
          "base_uri": "https://localhost:8080/"
        },
        "id": "lxlR1HevZ-8r",
        "outputId": "4b00e596-9de8-43de-8ad4-1373956d0935"
      },
      "execution_count": 19,
      "outputs": [
        {
          "output_type": "stream",
          "name": "stdout",
          "text": [
            "['Alice', 'Cindy', 'Bobby', 'Jan', 'Peter', 'Mike', 'Carol', 'Greg', 'Marcia']\n"
          ]
        }
      ]
    },
    {
      "cell_type": "markdown",
      "source": [
        "Use a list comprehension to create a list of squared numbers (n*n). \n",
        "\n",
        "The function receives the variables start and end, and returns a list of squares of consecutive numbers between start and end inclusively.\n",
        "\n",
        "\n",
        "For example, squares(2, 3) should return [4, 9]."
      ],
      "metadata": {
        "id": "M6h2uRP2cyQ1"
      }
    },
    {
      "cell_type": "code",
      "source": [
        "def squares(start, end):\n",
        "    return [i**2 for i in range(start, end+1)]\n",
        "\n",
        "print(squares(2, 3)) # Should be [4, 9]\n",
        "print(squares(1, 5)) # Should be [1, 4, 9, 16, 25]\n",
        "print(squares(0, 10)) # Should be [0, 1, 4, 9, 16, 25, 36, 49, 64, 81, 100]"
      ],
      "metadata": {
        "colab": {
          "base_uri": "https://localhost:8080/"
        },
        "id": "pLYkCjzPaseb",
        "outputId": "8741e98d-3fb7-4bdb-df7d-76910e0dacc2"
      },
      "execution_count": 23,
      "outputs": [
        {
          "output_type": "stream",
          "name": "stdout",
          "text": [
            "[4, 9]\n",
            "[1, 4, 9, 16, 25]\n",
            "[0, 1, 4, 9, 16, 25, 36, 49, 64, 81, 100]\n"
          ]
        }
      ]
    },
    {
      "cell_type": "markdown",
      "source": [
        "Complete the code to iterate through the keys and values of the car_prices dictionary, printing out some information about each one."
      ],
      "metadata": {
        "id": "n1Aof_R6e3cd"
      }
    },
    {
      "cell_type": "code",
      "source": [
        "def car_listing(car_prices):\n",
        "  result = \"\"\n",
        "  for key in car_prices:\n",
        "    result += f\"{key} costs {car_prices[key]} dollars\" + \"\\n\"\n",
        "  return result\n",
        "\n",
        "print(car_listing({\"Kia Soul\":19000, \"Lamborghini Diablo\":55000, \"Ford Fiesta\":13000, \"Toyota Prius\":24000}))"
      ],
      "metadata": {
        "colab": {
          "base_uri": "https://localhost:8080/"
        },
        "id": "H68TLZMSeCB1",
        "outputId": "8687ed52-448e-44d7-a97d-77fc1568ac85"
      },
      "execution_count": 31,
      "outputs": [
        {
          "output_type": "stream",
          "name": "stdout",
          "text": [
            "Kia Soul costs 19000 dollars\n",
            "Lamborghini Diablo costs 55000 dollars\n",
            "Ford Fiesta costs 13000 dollars\n",
            "Toyota Prius costs 24000 dollars\n",
            "\n"
          ]
        }
      ]
    },
    {
      "cell_type": "code",
      "source": [
        "a_dict = {'apple':'red', 'grass':'green', 'sky':'blue'}\n",
        "for key in a_dict:\n",
        "    #print(key) # for the keys\n",
        "    print(a_dict[key]) # for the values"
      ],
      "metadata": {
        "colab": {
          "base_uri": "https://localhost:8080/"
        },
        "id": "14te0I7ZflSG",
        "outputId": "206c1af2-1c87-4734-f422-62a100c473c6"
      },
      "execution_count": 28,
      "outputs": [
        {
          "output_type": "stream",
          "name": "stdout",
          "text": [
            "red\n",
            "green\n",
            "blue\n"
          ]
        }
      ]
    },
    {
      "cell_type": "markdown",
      "source": [
        "Taylor and Rory are hosting a party. They sent out invitations, and each one collected responses into dictionaries, with names of their friends and how many guests each friend is bringing. \n",
        "\n",
        "Each dictionary is a partial list, but Rory's list has more current information about the number of guests. \n",
        "\n",
        "Fill in the blanks to combine both dictionaries into one, with each friend listed only once, and the number of guests from Rory's dictionary taking precedence, if a name is included in both dictionaries. \n",
        "\n",
        "Then print the resulting dictionary."
      ],
      "metadata": {
        "id": "SyTdxrR2hi4_"
      }
    },
    {
      "cell_type": "code",
      "source": [
        "def combine_guests(guests1, guests2):\n",
        "    # Combine both dictionaries into one, with each key listed \n",
        "    # only once, and the value from guests1 taking precedence\n",
        "    combined=guests2.update(guests1)\n",
        "    return guests2\n",
        "    print(guests2)\n",
        "Rorys_guests = { \"Adam\":2, \"Brenda\":3, \"David\":1, \"Jose\":3, \"Charlotte\":2, \"Terry\":1, \"Robert\":4}\n",
        "Taylors_guests = { \"David\":4, \"Nancy\":1, \"Robert\":2, \"Adam\":1, \"Samantha\":3, \"Chris\":5}\n",
        "\n",
        "print(combine_guests(Rorys_guests, Taylors_guests))\n"
      ],
      "metadata": {
        "colab": {
          "base_uri": "https://localhost:8080/"
        },
        "collapsed": true,
        "id": "jasfyr-Cflty",
        "outputId": "019fa143-14ee-4cfa-9830-c588655229de"
      },
      "execution_count": 40,
      "outputs": [
        {
          "output_type": "stream",
          "name": "stdout",
          "text": [
            "{'David': 1, 'Nancy': 1, 'Robert': 4, 'Adam': 2, 'Samantha': 3, 'Chris': 5, 'Brenda': 3, 'Jose': 3, 'Charlotte': 2, 'Terry': 1}\n"
          ]
        }
      ]
    },
    {
      "cell_type": "markdown",
      "source": [
        "Use a dictionary to count the frequency of letters in the input string. Only letters should be counted, not blank spaces, numbers, or punctuation. \n",
        "\n",
        "Upper case should be considered the same as lower case. For example, count_letters(\"This is a sentence.\") should return:\n",
        "\n",
        "```{'t': 2, 'h': 1, 'i': 2, 's': 3, 'a': 1, 'e': 3, 'n': 2, 'c': 1}```"
      ],
      "metadata": {
        "id": "mB6NnCwxq9yt"
      }
    },
    {
      "cell_type": "code",
      "source": [
        "def count_letters(text):\n",
        "  result = {}\n",
        "  text = text.lower()\n",
        "  # Go through each letter in the text\n",
        "  for letter in text:\n",
        "   \n",
        "    # Check if the letter needs to be counted or not\n",
        "    if letter.isalpha() :\n",
        "      # Add or increment the value in the dictionary\n",
        "      count = text.count(letter)\n",
        "      result[letter] = count\n",
        "  return result\n",
        "\n",
        "print(count_letters(\"AaBbCc\"))\n",
        "# Should be {'a': 2, 'b': 2, 'c': 2}\n",
        "\n",
        "print(count_letters(\"Math is fun! 2+2=4\"))\n",
        "# Should be {'m': 1, 'a': 1, 't': 1, 'h': 1, 'i': 1, 's': 1, 'f': 1, 'u': 1, 'n': 1}\n",
        "\n",
        "print(count_letters(\"This is a sentence.\"))\n",
        "# Should be {'t': 2, 'h': 1, 'i': 2, 's': 3, 'a': 1, 'e': 3, 'n': 2, 'c': 1}"
      ],
      "metadata": {
        "colab": {
          "base_uri": "https://localhost:8080/"
        },
        "id": "oSO4WXlGtjl_",
        "outputId": "23a147f4-050f-4bbe-eac7-cbc1a5ed03a4"
      },
      "execution_count": 49,
      "outputs": [
        {
          "output_type": "stream",
          "name": "stdout",
          "text": [
            "{'a': 2, 'b': 2, 'c': 2}\n",
            "{'m': 1, 'a': 1, 't': 1, 'h': 1, 'i': 1, 's': 1, 'f': 1, 'u': 1, 'n': 1}\n",
            "{'t': 2, 'h': 1, 'i': 2, 's': 3, 'a': 1, 'e': 3, 'n': 2, 'c': 1}\n"
          ]
        }
      ]
    },
    {
      "cell_type": "code",
      "source": [
        ""
      ],
      "metadata": {
        "id": "OaiRcIYdvCWX"
      },
      "execution_count": null,
      "outputs": []
    }
  ]
}