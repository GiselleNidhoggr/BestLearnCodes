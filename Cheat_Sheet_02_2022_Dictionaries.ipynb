{
  "nbformat": 4,
  "nbformat_minor": 0,
  "metadata": {
    "colab": {
      "name": "Cheat_Sheet_02_2022_Dictionaries.ipynb",
      "provenance": [],
      "authorship_tag": "ABX9TyOOWtPdexSVuVaXf0FYkl+Y",
      "include_colab_link": true
    },
    "kernelspec": {
      "name": "python3",
      "display_name": "Python 3"
    },
    "language_info": {
      "name": "python"
    }
  },
  "cells": [
    {
      "cell_type": "markdown",
      "metadata": {
        "id": "view-in-github",
        "colab_type": "text"
      },
      "source": [
        "<a href=\"https://colab.research.google.com/github/GiselleNidhoggr/BestLearnCodes/blob/main/Cheat_Sheet_02_2022_Dictionaries.ipynb\" target=\"_parent\"><img src=\"https://colab.research.google.com/assets/colab-badge.svg\" alt=\"Open In Colab\"/></a>"
      ]
    },
    {
      "cell_type": "markdown",
      "source": [
        "<font style=\"font-size: 40px\" color='#AF7AC5'><center><h1> Dictionaries in Python 🐱‍🏍 </h1></center></font>\n",
        "<center><div>\n",
        "<image src='https://encrypted-tbn0.gstatic.com/images?q=tbn:ANd9GcSHsh5yVrEF4CCBs2CNlyVS-WDRXciamaSBO3BlIosCTdvU92PbLSVdU-Cnlpf0RdC9p6g&usqp=CAU' alt=\"cat-reading-a-dictionary\">\n",
        "</div></center>"
      ],
      "metadata": {
        "id": "_7hZ2geHPDUv"
      }
    },
    {
      "cell_type": "code",
      "execution_count": 2,
      "metadata": {
        "id": "iAecNPpfnYH7",
        "colab": {
          "base_uri": "https://localhost:8080/"
        },
        "outputId": "879872c0-bafa-40a2-e995-5b118e73e9da"
      },
      "outputs": [
        {
          "output_type": "execute_result",
          "data": {
            "text/plain": [
              "dict"
            ]
          },
          "metadata": {},
          "execution_count": 2
        }
      ],
      "source": [
        "x={}\n",
        "type(x) #first dict on this notebook!:)"
      ]
    },
    {
      "cell_type": "code",
      "source": [
        "file_counts={'jpg':9, 'csv':107, 'txt':80, 'py':25, }\n",
        "print(file_counts)"
      ],
      "metadata": {
        "colab": {
          "base_uri": "https://localhost:8080/"
        },
        "id": "pFKSlMjYShwX",
        "outputId": "c30eeeeb-f706-4ebb-d6e1-1fb2b88828f3"
      },
      "execution_count": 5,
      "outputs": [
        {
          "output_type": "stream",
          "name": "stdout",
          "text": [
            "{'jpg': 9, 'csv': 107, 'txt': 80, 'py': 25}\n"
          ]
        }
      ]
    },
    {
      "cell_type": "code",
      "source": [
        "'txt' in file_counts"
      ],
      "metadata": {
        "colab": {
          "base_uri": "https://localhost:8080/"
        },
        "id": "c3oR3tgJfujY",
        "outputId": "9b06b690-6260-4c21-a907-d73e875b80ef"
      },
      "execution_count": 6,
      "outputs": [
        {
          "output_type": "execute_result",
          "data": {
            "text/plain": [
              "True"
            ]
          },
          "metadata": {},
          "execution_count": 6
        }
      ]
    },
    {
      "cell_type": "code",
      "source": [
        "file_counts['txt']"
      ],
      "metadata": {
        "colab": {
          "base_uri": "https://localhost:8080/"
        },
        "id": "adT-Pp8af_dH",
        "outputId": "d8880174-5fbe-45ce-bfb3-8aabdca1fadb"
      },
      "execution_count": 8,
      "outputs": [
        {
          "output_type": "execute_result",
          "data": {
            "text/plain": [
              "80"
            ]
          },
          "metadata": {},
          "execution_count": 8
        }
      ]
    },
    {
      "cell_type": "code",
      "source": [
        "file_counts['cfg']=8\n",
        "print(file_counts)"
      ],
      "metadata": {
        "colab": {
          "base_uri": "https://localhost:8080/"
        },
        "id": "30jTYYW_gI5j",
        "outputId": "0c5cfacf-29e2-4ee9-8bc7-7ec90647ad3b"
      },
      "execution_count": 12,
      "outputs": [
        {
          "output_type": "stream",
          "name": "stdout",
          "text": [
            "{'csv': 107, 'txt': 80, 'py': 25, 'cfg': 8}\n"
          ]
        }
      ]
    },
    {
      "cell_type": "code",
      "source": [
        "file_counts['jpg']=10\n",
        "print(file_counts)"
      ],
      "metadata": {
        "colab": {
          "base_uri": "https://localhost:8080/"
        },
        "id": "m1OeG0dMgq2f",
        "outputId": "7fd33117-eba6-458d-b7ab-caf5b1fb1fa2"
      },
      "execution_count": 10,
      "outputs": [
        {
          "output_type": "stream",
          "name": "stdout",
          "text": [
            "{'jpg': 10, 'csv': 107, 'txt': 80, 'py': 25, 'cfg': 8}\n"
          ]
        }
      ]
    },
    {
      "cell_type": "code",
      "source": [
        "del file_counts['jpg']\n",
        "print(file_counts)"
      ],
      "metadata": {
        "colab": {
          "base_uri": "https://localhost:8080/"
        },
        "id": "ol3X1KTGgxXQ",
        "outputId": "a8aa3d96-747b-432e-f4f7-77d8de11f7b3"
      },
      "execution_count": 11,
      "outputs": [
        {
          "output_type": "stream",
          "name": "stdout",
          "text": [
            "{'csv': 107, 'txt': 80, 'py': 25, 'cfg': 8}\n"
          ]
        }
      ]
    },
    {
      "cell_type": "markdown",
      "source": [
        "**Question**\n",
        "\n",
        "The \"toc\" dictionary represents the table of contents for a book. \n",
        "\n",
        "Fill in the blanks to do the following: \t\n",
        "1) Add an entry for Epilogue on page 39. \t\n",
        "2) Change the page number for Chapter 3 to 24. \t3) Display the new dictionary contents. \t\n",
        "4) Display True if there is Chapter 5, False if there isn't."
      ],
      "metadata": {
        "id": "NL_dimcahJv7"
      }
    },
    {
      "cell_type": "code",
      "source": [
        "toc = {\"Introduction\":1, \"Chapter 1\":4, \"Chapter 2\":11, \"Chapter 3\":25, \"Chapter 4\":30}\n",
        "toc['Epilogue']=39 # Epilogue starts on page 39\n",
        "toc['Chapter 3']=24 # Chapter 3 now starts on page 24\n",
        "print(toc) # What are the current contents of the dictionary?\n",
        "'chapter 5' in toc # Is there a Chapter 5?"
      ],
      "metadata": {
        "colab": {
          "base_uri": "https://localhost:8080/"
        },
        "id": "bYo7NbJ2hWAc",
        "outputId": "686e1edd-23a8-48c9-b81d-3264d7ec13f5"
      },
      "execution_count": 13,
      "outputs": [
        {
          "output_type": "stream",
          "name": "stdout",
          "text": [
            "{'Introduction': 1, 'Chapter 1': 4, 'Chapter 2': 11, 'Chapter 3': 24, 'Chapter 4': 30, 'Epilogue': 39}\n"
          ]
        },
        {
          "output_type": "execute_result",
          "data": {
            "text/plain": [
              "False"
            ]
          },
          "metadata": {},
          "execution_count": 13
        }
      ]
    },
    {
      "cell_type": "code",
      "source": [
        "toc = {\"Introduction\":1, \"Chapter 1\":4, \"Chapter 2\":11, \"Chapter 3\":25, \"Chapter 4\":30}\n",
        "toc[\"Epilogue\"]=39 # Epilogue starts on page 39\n",
        "toc[\"Chapter 3\"]=24 # Chapter 3 now starts on page 24\n",
        "print(toc) # What are the current contents of the dictionary?\n",
        "print(\"Chapter 5\" in toc) # Is there a Chapter 5?"
      ],
      "metadata": {
        "id": "_iws0za7hEOi"
      },
      "execution_count": null,
      "outputs": []
    }
  ]
}