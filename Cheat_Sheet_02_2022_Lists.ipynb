{
  "nbformat": 4,
  "nbformat_minor": 0,
  "metadata": {
    "colab": {
      "name": "Cheat_Sheet_02_2022_Lists.ipynb",
      "provenance": [],
      "authorship_tag": "ABX9TyPh7BDTlhWPUlPmwT0ka5oP",
      "include_colab_link": true
    },
    "kernelspec": {
      "name": "python3",
      "display_name": "Python 3"
    },
    "language_info": {
      "name": "python"
    }
  },
  "cells": [
    {
      "cell_type": "markdown",
      "metadata": {
        "id": "view-in-github",
        "colab_type": "text"
      },
      "source": [
        "<a href=\"https://colab.research.google.com/github/GiselleNidhoggr/BestLearnCodes/blob/main/Cheat_Sheet_02_2022_Lists.ipynb\" target=\"_parent\"><img src=\"https://colab.research.google.com/assets/colab-badge.svg\" alt=\"Open In Colab\"/></a>"
      ]
    },
    {
      "cell_type": "markdown",
      "source": [
        "#All about Lists"
      ],
      "metadata": {
        "id": "ZZ_ESgCUzpFX"
      }
    },
    {
      "cell_type": "markdown",
      "source": [
        "## Lists and other stuff\n",
        "\n"
      ],
      "metadata": {
        "id": "qYeSdc7Ds0m8"
      }
    },
    {
      "cell_type": "markdown",
      "source": [
        "Insert itens in a specific position on a list"
      ],
      "metadata": {
        "id": "vq8BfO4_ykRh"
      }
    },
    {
      "cell_type": "code",
      "source": [
        "import random\n",
        "randomlist = random.sample(range(10, 30), 5)\n",
        "print(randomlist)"
      ],
      "metadata": {
        "colab": {
          "base_uri": "https://localhost:8080/"
        },
        "id": "lH0BFPImriCz",
        "outputId": "225c7b07-0dcc-457a-adb3-6a92ec1f6cfb"
      },
      "execution_count": 1,
      "outputs": [
        {
          "output_type": "stream",
          "name": "stdout",
          "text": [
            "[20, 25, 12, 22, 28]\n"
          ]
        }
      ]
    },
    {
      "cell_type": "code",
      "source": [
        "#To insert 5 to the 3rd position in randomlist\n",
        "randomlist.insert(2,5)\n",
        "print(randomlist)"
      ],
      "metadata": {
        "colab": {
          "base_uri": "https://localhost:8080/"
        },
        "id": "LW-4JE__rryJ",
        "outputId": "6fa30dcb-eabd-46c5-924c-3e4db7d4071c"
      },
      "execution_count": 2,
      "outputs": [
        {
          "output_type": "stream",
          "name": "stdout",
          "text": [
            "[20, 25, 5, 12, 22, 28]\n"
          ]
        }
      ]
    },
    {
      "cell_type": "code",
      "source": [
        "print(randomlist.index(5))"
      ],
      "metadata": {
        "colab": {
          "base_uri": "https://localhost:8080/"
        },
        "id": "yxf9fnRSsUgg",
        "outputId": "1e11c241-2f14-4668-843b-a8cef8fd1e5d"
      },
      "execution_count": 3,
      "outputs": [
        {
          "output_type": "stream",
          "name": "stdout",
          "text": [
            "2\n"
          ]
        }
      ]
    },
    {
      "cell_type": "code",
      "source": [
        "#Remember, lists starts from position 0\n",
        "print(randomlist.index(12))"
      ],
      "metadata": {
        "colab": {
          "base_uri": "https://localhost:8080/"
        },
        "id": "eX8insR7srJY",
        "outputId": "e49e86ff-21de-4a36-fd1e-f3cf4c47153b"
      },
      "execution_count": 4,
      "outputs": [
        {
          "output_type": "stream",
          "name": "stdout",
          "text": [
            "3\n"
          ]
        }
      ]
    },
    {
      "cell_type": "markdown",
      "source": [
        "Print a (basic) sum (in PYTHON!)"
      ],
      "metadata": {
        "id": "tf6ezJuMysT6"
      }
    },
    {
      "cell_type": "code",
      "source": [
        "a=2\n",
        "b=8\n",
        "print(a+b)"
      ],
      "metadata": {
        "colab": {
          "base_uri": "https://localhost:8080/"
        },
        "id": "i86y9_p-yxd0",
        "outputId": "62072216-14eb-4dc3-f12a-ad08bf39d439"
      },
      "execution_count": 5,
      "outputs": [
        {
          "output_type": "stream",
          "name": "stdout",
          "text": [
            "10\n"
          ]
        }
      ]
    },
    {
      "cell_type": "code",
      "source": [
        "print(type(a))\n",
        "print(type(b))\n",
        "print(type(a+b))\n",
        "#Note that the numbers are integers"
      ],
      "metadata": {
        "colab": {
          "base_uri": "https://localhost:8080/"
        },
        "id": "EtAB6EoVy1RJ",
        "outputId": "b78ab361-1978-4643-b162-a175f7880c5f"
      },
      "execution_count": 6,
      "outputs": [
        {
          "output_type": "stream",
          "name": "stdout",
          "text": [
            "<class 'int'>\n",
            "<class 'int'>\n",
            "<class 'int'>\n"
          ]
        }
      ]
    },
    {
      "cell_type": "markdown",
      "source": [
        "When a code must to work using +="
      ],
      "metadata": {
        "id": "MGVPD5gX4XM9"
      }
    },
    {
      "cell_type": "code",
      "source": [
        "y=10\n",
        "#x=y+=10\n",
        "y+=10\n",
        "#print(x) > get an error\n",
        "print(y)"
      ],
      "metadata": {
        "colab": {
          "base_uri": "https://localhost:8080/"
        },
        "id": "6IaMHbmTzcQC",
        "outputId": "9036ec97-b2ad-48e2-a24c-2094138bc52d"
      },
      "execution_count": 7,
      "outputs": [
        {
          "output_type": "stream",
          "name": "stdout",
          "text": [
            "20\n"
          ]
        }
      ]
    },
    {
      "cell_type": "code",
      "source": [
        "r = 5\n",
        "r += 10"
      ],
      "metadata": {
        "id": "D7YofjSK4kc0"
      },
      "execution_count": 8,
      "outputs": []
    },
    {
      "cell_type": "markdown",
      "source": [
        "Checking an output using 'in range':"
      ],
      "metadata": {
        "id": "3j_RkNQR5v0z"
      }
    },
    {
      "cell_type": "code",
      "source": [
        "for i in range(5):\n",
        "    print(i,end=\"\")\n",
        "    if i==1:\n",
        "        continue\n",
        "else:\n",
        "    print('end')"
      ],
      "metadata": {
        "colab": {
          "base_uri": "https://localhost:8080/"
        },
        "id": "K9bvSXR552jP",
        "outputId": "b5ef7972-715f-4614-bc0c-0f0dbe378c2a"
      },
      "execution_count": 9,
      "outputs": [
        {
          "output_type": "stream",
          "name": "stdout",
          "text": [
            "01234end\n"
          ]
        }
      ]
    },
    {
      "cell_type": "markdown",
      "source": [
        "Use of a dictionary"
      ],
      "metadata": {
        "id": "ZXLZ96IsAhBw"
      }
    },
    {
      "cell_type": "code",
      "source": [
        "dict1={1:1,1:2,1:3,1:'value'}\n",
        "print(dict1)"
      ],
      "metadata": {
        "colab": {
          "base_uri": "https://localhost:8080/"
        },
        "id": "PU-UosFR6I8q",
        "outputId": "1de30dfc-035a-46c7-ac48-99489e7d0a7a"
      },
      "execution_count": 10,
      "outputs": [
        {
          "output_type": "stream",
          "name": "stdout",
          "text": [
            "{1: 'value'}\n"
          ]
        }
      ]
    },
    {
      "cell_type": "code",
      "source": [
        "dict1={1:1,1:2,1:3,1:'value',2:5,'otro':'xxx'}\n",
        "print(dict1)"
      ],
      "metadata": {
        "colab": {
          "base_uri": "https://localhost:8080/"
        },
        "id": "CRS61PI6CbKD",
        "outputId": "0f977e66-41a4-4126-fe8a-56823a4a3915"
      },
      "execution_count": 11,
      "outputs": [
        {
          "output_type": "stream",
          "name": "stdout",
          "text": [
            "{1: 'value', 2: 5, 'otro': 'xxx'}\n"
          ]
        }
      ]
    },
    {
      "cell_type": "markdown",
      "source": [
        "Playing with lists"
      ],
      "metadata": {
        "id": "i0s658AJZ70Y"
      }
    },
    {
      "cell_type": "code",
      "source": [
        "list=[10,20,30]\n",
        "i=list[1]\n",
        "for i in list:\n",
        "    i+=1\n",
        "    print(i,end=\" \")"
      ],
      "metadata": {
        "colab": {
          "base_uri": "https://localhost:8080/"
        },
        "id": "jgtcM9KnMske",
        "outputId": "7302b24c-3fe1-465a-fbf2-49c947eb7d20"
      },
      "execution_count": 12,
      "outputs": [
        {
          "output_type": "stream",
          "name": "stdout",
          "text": [
            "11 21 31 "
          ]
        }
      ]
    },
    {
      "cell_type": "markdown",
      "source": [
        "## Google - Python List and Tuples"
      ],
      "metadata": {
        "id": "VOabVFiI1Bep"
      }
    },
    {
      "cell_type": "markdown",
      "source": [
        "Question\n",
        "\n",
        "Using the \"split\" string method from the preceding lesson, complete the get_word function to return the {n}th word from a passed sentence. For example, get_word(\"This is a lesson about lists\", 4) should return \"lesson\", which is the 4th word in this sentence. Hint: remember that list indexes start at 0, not 1. "
      ],
      "metadata": {
        "id": "T7uPdAhDHUGk"
      }
    },
    {
      "cell_type": "code",
      "source": [
        "def get_word(sentence, n):\n",
        "\t# Only proceed if n is positive \n",
        "\tif n > 0:\n",
        "\t\twords = sentence.split()\n",
        "\t\t# Only proceed if n is not more than the number of words \n",
        "\t\tif n <= len(words):\n",
        "\t\t\treturn(words[n-1])\n",
        "\treturn(\"\")\n",
        "\n",
        "print(get_word(\"This is a lesson about lists\", 4)) # Should print: lesson\n",
        "print(get_word(\"This is a lesson about lists\", -4)) # Nothing\n",
        "print(get_word(\"Now we are cooking!\", 1)) # Should print: Now\n",
        "print(get_word(\"Now we are cooking!\", 5)) # Nothing\n",
        "\n"
      ],
      "metadata": {
        "colab": {
          "base_uri": "https://localhost:8080/"
        },
        "id": "vwTbVBzLHS6Z",
        "outputId": "db0a7b5d-6f37-47d6-e295-7ebedf7e991f"
      },
      "execution_count": 13,
      "outputs": [
        {
          "output_type": "stream",
          "name": "stdout",
          "text": [
            "lesson\n",
            "\n",
            "Now\n",
            "\n"
          ]
        }
      ]
    },
    {
      "cell_type": "code",
      "source": [
        "import random\n",
        "randomlist1 = random.sample(range(1, 41), 10) #((intervalo inicial, intervalo final), quantidade de números)\n",
        "print(randomlist1)"
      ],
      "metadata": {
        "colab": {
          "base_uri": "https://localhost:8080/"
        },
        "id": "rxplT4DQ1I-k",
        "outputId": "681a1d7e-7fd0-4a95-faed-fd32779db5b6"
      },
      "execution_count": 14,
      "outputs": [
        {
          "output_type": "stream",
          "name": "stdout",
          "text": [
            "[38, 26, 24, 33, 31, 32, 40, 3, 2, 5]\n"
          ]
        }
      ]
    },
    {
      "cell_type": "code",
      "source": [
        "print(len(randomlist1))\n",
        "print(randomlist1[8])"
      ],
      "metadata": {
        "colab": {
          "base_uri": "https://localhost:8080/"
        },
        "id": "aHuhAd_2GbQq",
        "outputId": "454e8a01-a637-4c0c-ba56-a3004c9a17d1"
      },
      "execution_count": 15,
      "outputs": [
        {
          "output_type": "stream",
          "name": "stdout",
          "text": [
            "10\n",
            "2\n"
          ]
        }
      ]
    },
    {
      "cell_type": "code",
      "source": [
        "randomlist1.append(28)\n",
        "print(randomlist1)"
      ],
      "metadata": {
        "colab": {
          "base_uri": "https://localhost:8080/"
        },
        "id": "4anu29VSPNNG",
        "outputId": "9f52dbba-b7b6-437a-ead1-ba385b37772a"
      },
      "execution_count": 16,
      "outputs": [
        {
          "output_type": "stream",
          "name": "stdout",
          "text": [
            "[38, 26, 24, 33, 31, 32, 40, 3, 2, 5, 28]\n"
          ]
        }
      ]
    },
    {
      "cell_type": "code",
      "source": [
        "randomlist1.insert(3,'oito')\n",
        "print(randomlist1)"
      ],
      "metadata": {
        "colab": {
          "base_uri": "https://localhost:8080/"
        },
        "id": "2IjpF4YrPmJm",
        "outputId": "74e88ecb-b4db-4629-a1c6-f4675f7e0d6d"
      },
      "execution_count": 17,
      "outputs": [
        {
          "output_type": "stream",
          "name": "stdout",
          "text": [
            "[38, 26, 24, 'oito', 33, 31, 32, 40, 3, 2, 5, 28]\n"
          ]
        }
      ]
    },
    {
      "cell_type": "code",
      "source": [
        "randomlist1.insert(80,'ultimo')\n",
        "print(randomlist1)"
      ],
      "metadata": {
        "colab": {
          "base_uri": "https://localhost:8080/"
        },
        "id": "YaEdNJgYPm4t",
        "outputId": "c82912cd-3ca1-40a4-8d4e-10d44d9ed597"
      },
      "execution_count": 18,
      "outputs": [
        {
          "output_type": "stream",
          "name": "stdout",
          "text": [
            "[38, 26, 24, 'oito', 33, 31, 32, 40, 3, 2, 5, 28, 'ultimo']\n"
          ]
        }
      ]
    },
    {
      "cell_type": "code",
      "source": [
        "randomlist1.remove(24)\n",
        "print(randomlist1)"
      ],
      "metadata": {
        "colab": {
          "base_uri": "https://localhost:8080/"
        },
        "id": "VDKptiu9QJEu",
        "outputId": "563043e1-c452-4ecf-e9e6-ac672b5e3bae"
      },
      "execution_count": 20,
      "outputs": [
        {
          "output_type": "stream",
          "name": "stdout",
          "text": [
            "[38, 26, 'oito', 33, 31, 32, 40, 3, 2, 5, 28, 'ultimo']\n"
          ]
        }
      ]
    },
    {
      "cell_type": "code",
      "source": [
        "randomlist1.pop(2)\n",
        "print(randomlist1)"
      ],
      "metadata": {
        "colab": {
          "base_uri": "https://localhost:8080/"
        },
        "id": "7j_P3z5GQn5a",
        "outputId": "f29af869-55e1-498c-e189-4e0c1942946c"
      },
      "execution_count": 21,
      "outputs": [
        {
          "output_type": "stream",
          "name": "stdout",
          "text": [
            "[38, 26, 33, 31, 32, 40, 3, 2, 5, 28, 'ultimo']\n"
          ]
        }
      ]
    },
    {
      "cell_type": "code",
      "source": [
        "randomlist1[2]='vintcioito'\n",
        "print(randomlist1)"
      ],
      "metadata": {
        "colab": {
          "base_uri": "https://localhost:8080/"
        },
        "id": "3gGAAwoDQ1wi",
        "outputId": "ac6c22a7-a430-4d10-ca6a-ca9664beef19"
      },
      "execution_count": 22,
      "outputs": [
        {
          "output_type": "stream",
          "name": "stdout",
          "text": [
            "[38, 26, 'vintcioito', 31, 32, 40, 3, 2, 5, 28, 'ultimo']\n"
          ]
        }
      ]
    },
    {
      "cell_type": "markdown",
      "source": [
        "Question\n",
        "\n",
        "The skip_elements function returns a list containing every other element from an input list, starting with the first element. Complete this function to do that, using the for loop to iterate through the input list."
      ],
      "metadata": {
        "id": "fck_We6URR-6"
      }
    },
    {
      "cell_type": "code",
      "source": [
        "def skip_elements(elements):\n",
        "  # Initialize variables\n",
        "  new_list = []\n",
        "  i = 0\n",
        "\n",
        "  # Iterate through the list by value and not index\n",
        "  for element in elements:\n",
        "      # Does this element belong in the resulting list? Check on index\n",
        "      if i % 2 == 0:\n",
        "          # Add this element to the resulting list\n",
        "          new_list.append(element)\n",
        "      # Increment index\n",
        "      i += 1\n",
        "\n",
        "  return new_list\n",
        "\n",
        "print(skip_elements([\"a\", \"b\", \"c\", \"d\", \"e\", \"f\", \"g\"])) # Should be ['a', 'c', 'e', 'g']\n",
        "print(skip_elements(['Orange', 'Pineapple', 'Strawberry', 'Kiwi', 'Peach'])) # Should be \n",
        "['Orange', 'Strawberry', 'Peach']\n",
        "print(skip_elements([])) # Should be []\n",
        "\n",
        "\n"
      ],
      "metadata": {
        "colab": {
          "base_uri": "https://localhost:8080/"
        },
        "id": "z0ZngM_5RRRa",
        "outputId": "004ce667-db55-4ef7-f028-c673870446b5"
      },
      "execution_count": 23,
      "outputs": [
        {
          "output_type": "stream",
          "name": "stdout",
          "text": [
            "['a', 'c', 'e', 'g']\n",
            "['Orange', 'Strawberry', 'Peach']\n",
            "[]\n"
          ]
        }
      ]
    },
    {
      "cell_type": "markdown",
      "source": [
        "Question\n",
        "\n",
        "Let's use tuples to store information about a file: its name, its type and its size in bytes. Fill in the gaps in this code to return the size in kilobytes (a kilobyte is 1024 bytes) up to 2 decimal places. "
      ],
      "metadata": {
        "id": "OQ7wi-doX19l"
      }
    },
    {
      "cell_type": "code",
      "source": [
        "def file_size(file_info):\n",
        "\tname, type_file, size= file_info\n",
        "\treturn(\"{:.2f}\".format(size / 1024))\n",
        "\n",
        "print(file_size(('Class Assignment', 'docx', 17875))) # Should print 17.46\n",
        "print(file_size(('Notes', 'txt', 496))) # Should print 0.48\n",
        "print(file_size(('Program', 'py', 1239))) # Should print 1.21\n",
        "\n",
        "\n",
        "\n"
      ],
      "metadata": {
        "colab": {
          "base_uri": "https://localhost:8080/"
        },
        "id": "l4ceRCEwTCPb",
        "outputId": "c7f1dcf7-dabe-4047-88ec-67e939dc5830"
      },
      "execution_count": 24,
      "outputs": [
        {
          "output_type": "stream",
          "name": "stdout",
          "text": [
            "17.46\n",
            "0.48\n",
            "1.21\n"
          ]
        }
      ]
    },
    {
      "cell_type": "code",
      "source": [
        "fruits=['Orange', 'Pineapple', 'Strawberry', 'Kiwi', 'Peach']\n",
        "chars=0\n",
        "for fruit in fruits:\n",
        "    chars+=len(fruit)\n",
        "\n",
        "print('Total characters: {}, average lenght: {}'.format(chars,chars/len(fruits)))\n"
      ],
      "metadata": {
        "id": "Wqg90Oe-YRwa",
        "colab": {
          "base_uri": "https://localhost:8080/"
        },
        "outputId": "0002b83c-fad0-4eb2-bcdf-a86922d9d10d"
      },
      "execution_count": 25,
      "outputs": [
        {
          "output_type": "stream",
          "name": "stdout",
          "text": [
            "Total characters: 34, average lenght: 6.8\n"
          ]
        }
      ]
    },
    {
      "cell_type": "code",
      "source": [
        "winners=['a','b','c']\n",
        "\n",
        "for index, person  in enumerate(winners):\n",
        "    print('{} - {} '.format(index+1,person))\n"
      ],
      "metadata": {
        "colab": {
          "base_uri": "https://localhost:8080/"
        },
        "id": "ErtukDSKoSi8",
        "outputId": "b8cca81e-d00a-48e5-f703-6dbfe542f3eb"
      },
      "execution_count": 26,
      "outputs": [
        {
          "output_type": "stream",
          "name": "stdout",
          "text": [
            "1 - a \n",
            "2 - b \n",
            "3 - c \n"
          ]
        }
      ]
    },
    {
      "cell_type": "markdown",
      "source": [
        "Question\n",
        "\n",
        "Complete the skip_elements function to return **every other** element from the list, this time using the enumerate function to check if an element is on an **even** position or an **odd** position."
      ],
      "metadata": {
        "id": "y-Sv7naVrTTs"
      }
    },
    {
      "cell_type": "code",
      "source": [
        "def skip_elements(elements):\n",
        "    element=[]\n",
        "    for index, elements in enumerate(elements):\n",
        "        if index % 2 == 0:\n",
        "            element.append(elements)\n",
        "          \n",
        "    return element\n",
        "\n",
        "print(skip_elements([\"a\", \"b\", \"c\", \"d\", \"e\", \"f\", \"g\"])) # Should be ['a', 'c', 'e', 'g']\n",
        "print(skip_elements(['Orange', 'Pineapple', 'Strawberry', 'Kiwi', 'Peach'])) # Should be ['Orange', 'Strawberry', 'Peach']"
      ],
      "metadata": {
        "colab": {
          "base_uri": "https://localhost:8080/"
        },
        "id": "crH_ukYIr6_y",
        "outputId": "32c8293b-c4a7-4e99-f07b-89fd992ce144"
      },
      "execution_count": 27,
      "outputs": [
        {
          "output_type": "stream",
          "name": "stdout",
          "text": [
            "['a', 'c', 'e', 'g']\n",
            "['Orange', 'Strawberry', 'Peach']\n"
          ]
        }
      ]
    },
    {
      "cell_type": "code",
      "source": [
        "# Separate the name of the name and email address\n",
        "def full_emails(people):\n",
        "      result = []\n",
        "      for email, name in people:\n",
        "           result.append(\"{} <{}>\".format(name,email))\n",
        "      return result\n",
        "\n",
        "print(full_emails([(\"Alex@qq.com\", \"Alex\"),(\"Nancy@163.com\", \"Nancy\")]))"
      ],
      "metadata": {
        "colab": {
          "base_uri": "https://localhost:8080/"
        },
        "id": "RzF7COFOwFdK",
        "outputId": "9025d5d2-b4ea-414f-8578-b448a352250b"
      },
      "execution_count": 28,
      "outputs": [
        {
          "output_type": "stream",
          "name": "stdout",
          "text": [
            "['Alex <Alex@qq.com>', 'Nancy <Nancy@163.com>']\n"
          ]
        }
      ]
    },
    {
      "cell_type": "code",
      "source": [
        "# Separate the name of the name and email address\n",
        "def full_emails(people):\n",
        "      result = []\n",
        "      for name, email in people:\n",
        "           result.append(\"<{}> {}\".format(email,name))\n",
        "      return result\n",
        "\n",
        "print(full_emails([(\"Alex\",\"Alex@qq.com\"),(\"Nancy\",\"Nancy@163.com\")]))"
      ],
      "metadata": {
        "colab": {
          "base_uri": "https://localhost:8080/"
        },
        "id": "ZvzyvGDgIqlX",
        "outputId": "a93d3079-de64-426a-ed98-e15bfb1b7b2a"
      },
      "execution_count": 29,
      "outputs": [
        {
          "output_type": "stream",
          "name": "stdout",
          "text": [
            "['<Alex@qq.com> Alex', '<Nancy@163.com> Nancy']\n"
          ]
        }
      ]
    },
    {
      "cell_type": "code",
      "source": [
        "multiples=[]\n",
        "for x in range(1,11):\n",
        "    multiples.append(x*7)\n",
        "\n",
        "print(multiples)\n"
      ],
      "metadata": {
        "colab": {
          "base_uri": "https://localhost:8080/"
        },
        "id": "Y8vaI91WOFnJ",
        "outputId": "9b02d463-71a4-4060-b7a9-41891d3e38e4"
      },
      "execution_count": 30,
      "outputs": [
        {
          "output_type": "stream",
          "name": "stdout",
          "text": [
            "[7, 14, 21, 28, 35, 42, 49, 56, 63, 70]\n"
          ]
        }
      ]
    },
    {
      "cell_type": "code",
      "source": [
        "multiples2=[x*7 for x in range (1,11)]\n",
        "print(multiples2)"
      ],
      "metadata": {
        "colab": {
          "base_uri": "https://localhost:8080/"
        },
        "id": "pfkhJt1bO-Z9",
        "outputId": "1d4a032a-034f-427c-ef71-718209cbce10"
      },
      "execution_count": 31,
      "outputs": [
        {
          "output_type": "stream",
          "name": "stdout",
          "text": [
            "[7, 14, 21, 28, 35, 42, 49, 56, 63, 70]\n"
          ]
        }
      ]
    },
    {
      "cell_type": "code",
      "source": [
        "languages=['python','perl','ruby','go','java','c']\n",
        "lenght=[len(language) for language in languages]\n",
        "print(lenght)"
      ],
      "metadata": {
        "colab": {
          "base_uri": "https://localhost:8080/"
        },
        "id": "yED4dQXDPeb_",
        "outputId": "0838d0b6-5751-4cdb-d5e1-4f31731f8c88"
      },
      "execution_count": 32,
      "outputs": [
        {
          "output_type": "stream",
          "name": "stdout",
          "text": [
            "[6, 4, 4, 2, 4, 1]\n"
          ]
        }
      ]
    },
    {
      "cell_type": "code",
      "source": [
        "languages=['python','perl','ruby','go','java','c']\n",
        "lenght=[]\n",
        "for language in languages:\n",
        "    lenght=len(language)\n",
        "    print(lenght)\n",
        "\n",
        "type(lenght)\n"
      ],
      "metadata": {
        "colab": {
          "base_uri": "https://localhost:8080/"
        },
        "id": "1wgh_aIsQRQt",
        "outputId": "b85092e3-e057-40b5-a803-d8a14c1daf8a"
      },
      "execution_count": 33,
      "outputs": [
        {
          "output_type": "stream",
          "name": "stdout",
          "text": [
            "6\n",
            "4\n",
            "4\n",
            "2\n",
            "4\n",
            "1\n"
          ]
        },
        {
          "output_type": "execute_result",
          "data": {
            "text/plain": [
              "int"
            ]
          },
          "metadata": {},
          "execution_count": 33
        }
      ]
    },
    {
      "cell_type": "code",
      "source": [
        "z=[x for x in range(1,101) if x%3==0 ]\n",
        "print(z)"
      ],
      "metadata": {
        "colab": {
          "base_uri": "https://localhost:8080/"
        },
        "id": "k3kqK8XPQ1cD",
        "outputId": "93b91cb7-359f-4e70-d08e-e722671adddc"
      },
      "execution_count": 34,
      "outputs": [
        {
          "output_type": "stream",
          "name": "stdout",
          "text": [
            "[3, 6, 9, 12, 15, 18, 21, 24, 27, 30, 33, 36, 39, 42, 45, 48, 51, 54, 57, 60, 63, 66, 69, 72, 75, 78, 81, 84, 87, 90, 93, 96, 99]\n"
          ]
        }
      ]
    },
    {
      "cell_type": "markdown",
      "source": [
        "Question\n",
        "\n",
        "The odd_numbers function returns a list of odd numbers between 1 and n, inclusively. Fill in the blanks in the function, using list comprehension. Hint: remember that list and range counters start at 0 and end at the limit minus 1."
      ],
      "metadata": {
        "id": "kPIne67bTtqB"
      }
    },
    {
      "cell_type": "code",
      "source": [
        "def odd_numbers(n):\n",
        "    return [x for x in range(0,n+1) if x%2!=0]\n",
        "\n",
        "\n",
        "print(odd_numbers(5))  # Should print [1, 3, 5]\n",
        "print(odd_numbers(10)) # Should print [1, 3, 5, 7, 9]\n",
        "print(odd_numbers(11)) # Should print [1, 3, 5, 7, 9, 11]\n",
        "print(odd_numbers(1))  # Should print [1]\n",
        "print(odd_numbers(-1)) # Should print []"
      ],
      "metadata": {
        "colab": {
          "base_uri": "https://localhost:8080/"
        },
        "id": "7dXSg93DTlol",
        "outputId": "45de7764-1421-4b5f-8a89-3b1883e2f770"
      },
      "execution_count": 35,
      "outputs": [
        {
          "output_type": "stream",
          "name": "stdout",
          "text": [
            "[1, 3, 5]\n",
            "[1, 3, 5, 7, 9]\n",
            "[1, 3, 5, 7, 9, 11]\n",
            "[1]\n",
            "[]\n"
          ]
        }
      ]
    },
    {
      "cell_type": "code",
      "source": [
        "w=[ x for x in range(1,101) if x % 10 == 0 ]\n",
        "\n",
        "print(w)"
      ],
      "metadata": {
        "colab": {
          "base_uri": "https://localhost:8080/"
        },
        "id": "NboBcREOUCWT",
        "outputId": "c8ffc4c7-be94-4016-990a-4558600480ff"
      },
      "execution_count": 36,
      "outputs": [
        {
          "output_type": "stream",
          "name": "stdout",
          "text": [
            "[10, 20, 30, 40, 50, 60, 70, 80, 90, 100]\n"
          ]
        }
      ]
    },
    {
      "cell_type": "markdown",
      "source": [
        "**Lists and Tuples Operations Cheat Sheet**\n",
        "\n",
        "Lists and tuples are both sequences, so they share a number of sequence operations. But, because lists are mutable, there are also a number of methods specific just to lists. This cheat sheet gives you a run down of the common operations first, and the list-specific operations second.\n",
        "\n",
        "\n",
        "---\n",
        "\n",
        "\n",
        ">Common sequence operations\n",
        "\n",
        "- len(sequence) Returns the length of the sequence\n",
        "\n",
        "- for element in sequence Iterates over each element in the sequence\n",
        "\n",
        "- if element in sequence Checks whether the element is part of the sequence\n",
        "\n",
        "- sequence[i] Accesses the element at index i of the sequence, starting at zero\n",
        "\n",
        "- sequence[i:j] Accesses a slice starting at index i, ending at index j-1. If i is omitted, it's 0 by default. If j is omitted, it's len(sequence) by default.\n",
        "\n",
        "- for index, element in enumerate(sequence) Iterates over both the indexes and the elements in the sequence at the same time\n",
        "\n",
        "- Check out the official documentation for sequence operations.\n",
        "---\n",
        "\n",
        "> List-specific operations and methods\n",
        "\n",
        "- list[i] = x Replaces the element at index i with x\n",
        "\n",
        "- list.append(x) Inserts x at the end of the list\n",
        "\n",
        "- list.insert(i, x) Inserts x at index i\n",
        "\n",
        "- list.pop(i) Returns the element a index i, also removing it from the list. If i is omitted, the last element is returned and removed.\n",
        "\n",
        "- list.remove(x) Removes the first occurrence of x in the list\n",
        "\n",
        "- list.sort() Sorts the items in the list\n",
        "\n",
        "- list.reverse() Reverses the order of items of the list\n",
        "\n",
        "- list.clear() Removes all the items of the list\n",
        "\n",
        "- list.copy() Creates a copy of the list\n",
        "\n",
        "- list.extend(other_list) Appends all the elements of other_list at the end of list\n",
        "---\n",
        "> Most of these methods come from the fact that lists are mutable sequences. For more info, see the official documentation for mutable sequences and the list specific documentation.\n",
        "\n",
        "List comprehension\n",
        "- [expression for variable in sequence] Creates a new list based on the given sequence. Each element is the result of the given expression.\n",
        "\n",
        "- [expression for variable in sequence if condition] Creates a new list based on the given sequence. Each element is the result of the given expression; elements only get added if the condition is true.\n",
        "\n",
        "\n",
        "\n"
      ],
      "metadata": {
        "id": "pMS0tRgrWWs3"
      }
    },
    {
      "cell_type": "code",
      "source": [
        "#20Brigida22 clave afip"
      ],
      "metadata": {
        "id": "NwBy7ZfjWImV"
      },
      "execution_count": 37,
      "outputs": []
    },
    {
      "cell_type": "markdown",
      "source": [
        "Question 1\n",
        "\n",
        "Given a list of filenames, we want to **rename** all the files with extension hpp to the extension h. To do this, we would like to generate a new list called newfilenames, consisting of the new filenames. Fill in the blanks in the code using any of the methods you’ve learned thus far, like a for loop or a list comprehension."
      ],
      "metadata": {
        "id": "vUqZzWTzPnVW"
      }
    },
    {
      "cell_type": "code",
      "source": [
        "filenames = [\"program.c\", \"stdio.hpp\", \"sample.hpp\", \"a.out\", \"math.hpp\", \"hpp.out\"]\n",
        "# Generate newfilenames as a list containing the new filenames\n",
        "newfilenames=[]\n",
        "for filename in filenames:\n",
        "    if filename.endswith('hpp'):\n",
        "        filename=filename.replace('hpp','h')\n",
        "        newfilenames.append(filename)\n",
        "    else:\n",
        "        newfilenames.append(filename)\n",
        "\n",
        "print(newfilenames) \n",
        "# Should be [\"program.c\", \"stdio.h\", \"sample.h\", \"a.out\", \"math.h\", \"hpp.out\""
      ],
      "metadata": {
        "colab": {
          "base_uri": "https://localhost:8080/"
        },
        "id": "PDKRD3_WQdsw",
        "outputId": "407f40ea-9522-4b92-c1a4-69c129ac6871"
      },
      "execution_count": 38,
      "outputs": [
        {
          "output_type": "stream",
          "name": "stdout",
          "text": [
            "['program.c', 'stdio.h', 'sample.h', 'a.out', 'math.h', 'hpp.out']\n"
          ]
        }
      ]
    },
    {
      "cell_type": "code",
      "source": [
        "filenames2 = [\"program.c\", \"stdio.hpp\", \"sample.hpp\", \"a.out\", \"math.hpp\", \"hpp.out\"]\n",
        "newfilenames2=[]\n",
        "for filename2 in filenames2:\n",
        "        filename2=filename2.replace('hpp','h')\n",
        "        newfilenames2.append(filename2)\n",
        "\n",
        "print(newfilenames2) \n",
        "# Should be [\"program.c\", \"stdio.h\", \"sample.h\", \"a.out\", \"math.h\", \"hpp.out\""
      ],
      "metadata": {
        "colab": {
          "base_uri": "https://localhost:8080/"
        },
        "id": "qd1qkibzcBye",
        "outputId": "47c8d277-a363-4c8d-d394-0ae0d1b4da2c"
      },
      "execution_count": 39,
      "outputs": [
        {
          "output_type": "stream",
          "name": "stdout",
          "text": [
            "['program.c', 'stdio.h', 'sample.h', 'a.out', 'math.h', 'h.out']\n"
          ]
        }
      ]
    },
    {
      "cell_type": "code",
      "source": [
        "filenames = [\"program.c\", \"stdio.hpp\", \"sample.hpp\", \"a.out\", \"math.hpp\", \"hpp.out\"]\n",
        "newfilenames = [filename.replace(\"hpp\",\"h\") if filename.endswith(\"hpp\") else filename for filename in filenames ]\n",
        "print(newfilenames) \n"
      ],
      "metadata": {
        "colab": {
          "base_uri": "https://localhost:8080/"
        },
        "id": "zdtX5CiVXlgQ",
        "outputId": "30270b60-c020-477f-a2f5-42e6dcbaefab"
      },
      "execution_count": 40,
      "outputs": [
        {
          "output_type": "stream",
          "name": "stdout",
          "text": [
            "['program.c', 'stdio.h', 'sample.h', 'a.out', 'math.h', 'hpp.out']\n"
          ]
        }
      ]
    },
    {
      "cell_type": "markdown",
      "source": [
        "Question 2\n",
        "\n",
        "Let's create a function that turns text into pig latin: a simple text transformation that modifies each word moving the first character to the end and appending \"ay\" to the end. For example, python ends up as ythonpay."
      ],
      "metadata": {
        "id": "6gZ9Zn2EP3tz"
      }
    },
    {
      "cell_type": "code",
      "source": [
        "def pig_latin(text):\n",
        "    say = \"\"\n",
        "    words = text.split()\n",
        "    for word in words:\n",
        "    # Create the pig latin word and add it to the list\n",
        "        say+=word[1:]+word[0]+'ay '\n",
        "\n",
        "    # Turn the list back into a phrase\n",
        "    return say.strip()\n",
        "\n",
        "print(pig_latin(\"hello how are you\")) # Should be \"ellohay owhay reaay ouyay\"\n",
        "print(pig_latin(\"programming in python is fun\")) # Should be \"rogrammingpay niay ythonpay siay unfay\""
      ],
      "metadata": {
        "colab": {
          "base_uri": "https://localhost:8080/"
        },
        "id": "NWjLrEuidKTN",
        "outputId": "354a0ab5-713d-4d09-fd41-0f631f0d71b0"
      },
      "execution_count": 41,
      "outputs": [
        {
          "output_type": "stream",
          "name": "stdout",
          "text": [
            "ellohay owhay reaay ouyay\n",
            "rogrammingpay niay ythonpay siay unfay\n"
          ]
        }
      ]
    },
    {
      "cell_type": "code",
      "source": [
        "def pig_latin(text):\n",
        "  say = \"\"\n",
        "  # Separate the text into words\n",
        "  words = text.split()\n",
        "  for word in words:\n",
        "    # Create the pig latin word and add it to the list\n",
        "    say+=word[1:]+word[0:1]+\"ay\"+\" \"\n",
        "    # Turn the list back into a phrase\n",
        "  return say.strip()\n",
        "\t\t\n",
        "print(pig_latin(\"hello how are you\")) # Should be \"ellohay owhay reaay ouyay\"\n",
        "print(pig_latin(\"programming in python is fun\")) # Should be \"rogrammingpay niay ythonpay siay unfay\""
      ],
      "metadata": {
        "colab": {
          "base_uri": "https://localhost:8080/"
        },
        "id": "ZWENVwLpP5w8",
        "outputId": "fa49190e-7c49-48b4-cbad-e3af01ddaf5e"
      },
      "execution_count": 42,
      "outputs": [
        {
          "output_type": "stream",
          "name": "stdout",
          "text": [
            "ellohay owhay reaay ouyay\n",
            "rogrammingpay niay ythonpay siay unfay\n"
          ]
        }
      ]
    },
    {
      "cell_type": "markdown",
      "source": [
        "Question 3\n",
        "\n",
        "The permissions of a file in a Linux system are split into three sets of three permissions: read, write, and execute for the owner, group, and others. \n",
        "\n",
        "Each of the three values can be expressed as an octal number summing each permission, with:\n",
        "\n",
        "4 read\n",
        "2 write\n",
        "1 execute \n",
        "\n",
        "Or\n",
        "\n",
        "r, w, and x or - when the permission is not granted.\n",
        "\n",
        "\n",
        "For example: \n",
        "\n",
        "- 640 is read/write for the owner, read for the group, and no permissions for the others; converted to a string, it would be: \"rw-r-----\"\n",
        "\n",
        "\n",
        "- 755 is read/write/execute for the owner, and read/execute for group and others; converted to a string, it would be: \"rwxr-xr-x\"\n",
        "\n",
        "\n",
        "Fill in the blanks to make the code convert a permission in octal format into a string format."
      ],
      "metadata": {
        "id": "AjSY_-zeP6VB"
      }
    },
    {
      "cell_type": "code",
      "source": [
        ""
      ],
      "metadata": {
        "id": "TXGHEVyMP-Kv"
      },
      "execution_count": 42,
      "outputs": []
    },
    {
      "cell_type": "markdown",
      "source": [
        "4.\n",
        "Question 4\n",
        "Tuples and lists are very similar types of sequences. What is the main thing that makes a tuple different from a list?\n",
        "\n",
        "A tuple is immutable"
      ],
      "metadata": {
        "id": "PKrU0FomQCe5"
      }
    },
    {
      "cell_type": "markdown",
      "source": [
        "5.\n",
        "Question 5\n",
        "The group_list function accepts a group name and a list of members, and returns a string with the format: group_name: member1, member2, … For example, group_list(\"g\", [\"a\",\"b\",\"c\"]) returns \"g: a, b, c\". Fill in the gaps in this function to do that."
      ],
      "metadata": {
        "id": "tLJhvVGzQHRr"
      }
    },
    {
      "cell_type": "code",
      "source": [
        "def group_list(group, users):\n",
        "   members = \", \".join(users)\n",
        "   return \"{} : {}\".format(group, members)\n",
        "\n",
        "print(group_list(\"Marketing\", [\"Mike\", \"Karen\", \"Jake\", \"Tasha\"])) # Should be \"Marketing: Mike, Karen, Jake, Tasha\"\n",
        "print(group_list(\"Engineering\", [\"Kim\", \"Jay\", \"Tom\"])) # Should be \"Engineering: Kim, Jay, Tom\"\n",
        "print(group_list(\"Users\", \"\")) # Should be \"Users:\""
      ],
      "metadata": {
        "colab": {
          "base_uri": "https://localhost:8080/"
        },
        "id": "bl_pDyCQQEc8",
        "outputId": "870b41f3-83d9-4f0f-dcb2-c7cd46834007"
      },
      "execution_count": 43,
      "outputs": [
        {
          "output_type": "stream",
          "name": "stdout",
          "text": [
            "Marketing : Mike, Karen, Jake, Tasha\n",
            "Engineering : Kim, Jay, Tom\n",
            "Users : \n"
          ]
        }
      ]
    },
    {
      "cell_type": "markdown",
      "source": [
        ""
      ],
      "metadata": {
        "id": "Bq_FrfMdQKTj"
      }
    },
    {
      "cell_type": "markdown",
      "source": [
        "6.\n",
        "Question 6\n",
        "The guest_list function reads in a list of tuples with the name, age, and profession of each party guest, and prints the sentence \"Guest is X years old and works as __.\" for each one. For example, guest_list(('Ken', 30, \"Chef\"), (\"Pat\", 35, 'Lawyer'), ('Amanda', 25, \"Engineer\")) should print out: Ken is 30 years old and works as Chef. Pat is 35 years old and works as Lawyer. Amanda is 25 years old and works as Engineer. Fill in the gaps in this function to do that. "
      ],
      "metadata": {
        "id": "yABvMS_9QKWm"
      }
    },
    {
      "cell_type": "code",
      "source": [
        "def guest_list(guests):\n",
        "\tfor sentence in guests:\n",
        "\t\tname, age, profession = sentence\n",
        "\t\tprint(\"{} is {} years old and works as {}\".format(name,age,profession))\n",
        "guest_list([('Ken', 30, \"Chef\"), (\"Pat\", 35, 'Lawyer'), ('Amanda', 25, \"Engineer\")])\n",
        "\n",
        "#Click Run to submit code\n",
        "\"\"\"\n",
        "Output should match:\n",
        "Ken is 30 years old and works as Chef\n",
        "Pat is 35 years old and works as Lawyer\n",
        "Amanda is 25 years old and works as Engineer\n",
        "\"\"\""
      ],
      "metadata": {
        "colab": {
          "base_uri": "https://localhost:8080/",
          "height": 91
        },
        "id": "KnlofNhtQM8-",
        "outputId": "8ef1b5f1-0d86-4eb7-d4fb-572f3614bbd2"
      },
      "execution_count": 44,
      "outputs": [
        {
          "output_type": "stream",
          "name": "stdout",
          "text": [
            "Ken is 30 years old and works as Chef\n",
            "Pat is 35 years old and works as Lawyer\n",
            "Amanda is 25 years old and works as Engineer\n"
          ]
        },
        {
          "output_type": "execute_result",
          "data": {
            "application/vnd.google.colaboratory.intrinsic+json": {
              "type": "string"
            },
            "text/plain": [
              "'\\nOutput should match:\\nKen is 30 years old and works as Chef\\nPat is 35 years old and works as Lawyer\\nAmanda is 25 years old and works as Engineer\\n'"
            ]
          },
          "metadata": {},
          "execution_count": 44
        }
      ]
    },
    {
      "cell_type": "code",
      "source": [
        ""
      ],
      "metadata": {
        "id": "fZlR6hozl_jY"
      },
      "execution_count": 44,
      "outputs": []
    }
  ]
}