{
  "nbformat": 4,
  "nbformat_minor": 0,
  "metadata": {
    "colab": {
      "name": "Giselle -  Introdução a Python - AULA 2.ipynb",
      "provenance": [],
      "include_colab_link": true
    },
    "kernelspec": {
      "name": "python3",
      "display_name": "Python 3"
    },
    "language_info": {
      "name": "python"
    }
  },
  "cells": [
    {
      "cell_type": "markdown",
      "metadata": {
        "id": "view-in-github",
        "colab_type": "text"
      },
      "source": [
        "<a href=\"https://colab.research.google.com/github/GiselleNidhoggr/BestLearnCodes/blob/main/Giselle_Introdu%C3%A7%C3%A3o_a_Python_AULA_2.ipynb\" target=\"_parent\"><img src=\"https://colab.research.google.com/assets/colab-badge.svg\" alt=\"Open In Colab\"/></a>"
      ]
    },
    {
      "cell_type": "markdown",
      "metadata": {
        "id": "Ub4JP7xQKVHG"
      },
      "source": [
        "**Estruturas de Decisão**"
      ]
    },
    {
      "cell_type": "code",
      "metadata": {
        "colab": {
          "base_uri": "https://localhost:8080/"
        },
        "id": "ibdUJPG4KLNm",
        "outputId": "3d37c731-ba07-4f68-a837-2e59d084a5a5"
      },
      "source": [
        "#Estrutura de decisão do tipo if / elif / else\n",
        "\n",
        "idade = int(input(\"digite sua idade:\"))"
      ],
      "execution_count": 1,
      "outputs": [
        {
          "name": "stdout",
          "output_type": "stream",
          "text": [
            "digite sua idade:30\n"
          ]
        }
      ]
    },
    {
      "cell_type": "code",
      "metadata": {
        "id": "q0EXtuekLp4H",
        "colab": {
          "base_uri": "https://localhost:8080/"
        },
        "outputId": "08e76b22-0ea9-4eb6-c471-19d777e86e68"
      },
      "source": [
        "if (idade >= 18):\n",
        "   print(\"Você já pode ser motorista\")\n",
        "   a = 15\n",
        "   b = 3\n",
        "   c = a + b"
      ],
      "execution_count": 2,
      "outputs": [
        {
          "output_type": "stream",
          "name": "stdout",
          "text": [
            "Você já pode ser motorista\n"
          ]
        }
      ]
    },
    {
      "cell_type": "code",
      "metadata": {
        "colab": {
          "base_uri": "https://localhost:8080/"
        },
        "id": "SSS3S9qmLVm3",
        "outputId": "3e4a2c1f-7ca6-4716-ff1a-314adaea6aaf"
      },
      "source": [
        "if (idade >= 18):\n",
        "   print(\"Você já pode ser motorista!\")\n",
        "else:\n",
        "   print(\"Você ainda não pode ser motorista!\")"
      ],
      "execution_count": 3,
      "outputs": [
        {
          "output_type": "stream",
          "name": "stdout",
          "text": [
            "Você já pode ser motorista!\n"
          ]
        }
      ]
    },
    {
      "cell_type": "code",
      "metadata": {
        "colab": {
          "base_uri": "https://localhost:8080/"
        },
        "id": "10OFTPGFM1Ln",
        "outputId": "bf879360-f655-4e0b-c407-67b1acf39404"
      },
      "source": [
        "#Calcula Faixa IRPF\n",
        "\n",
        "salario = 3000\n",
        "\n",
        "if (salario <= 1903.98):\n",
        "   print(\"Faixa 1: Até R$ 1.903,98: isento\")\n",
        "elif (salario >= 1903.99 and  salario <= 2826.65):\n",
        "   print(\"Faixa2: De R$ 1.903,99 até R$ 2.826,65: 7,5%\")\n",
        "elif (salario >= 2826.66 and  salario <= 3751.05):\n",
        "   print(\"Faixa 3: De R$ 2.826,66 até R$ 3.751,05: 15%\")\n",
        "elif (salario >= 3751.06 and  salario <= 4664.68):\n",
        "   print(\"Faixa 4: De R$ 3.751,06 até R$ 4.664,68: 22,5%\")\n",
        "else:\n",
        "   print(\"Faixa 5: Acima de R$ 4.664,68: 27,5%\")"
      ],
      "execution_count": 4,
      "outputs": [
        {
          "output_type": "stream",
          "name": "stdout",
          "text": [
            "Faixa 3: De R$ 2.826,66 até R$ 3.751,05: 15%\n"
          ]
        }
      ]
    },
    {
      "cell_type": "markdown",
      "metadata": {
        "id": "fnq14nIAQUMm"
      },
      "source": [
        "**4.5 Exercícios**"
      ]
    },
    {
      "cell_type": "markdown",
      "metadata": {
        "id": "f78_LtPWQrDI"
      },
      "source": [
        "*Escreva um programa que decide se um número é par ou ímpar*"
      ]
    },
    {
      "cell_type": "code",
      "metadata": {
        "colab": {
          "base_uri": "https://localhost:8080/"
        },
        "id": "3vpUsILDQmoM",
        "outputId": "720de62f-9c13-40b9-8b8e-72e0b1cdf0e8"
      },
      "source": [
        "#digite seu codigo aqui\n",
        "\n",
        "numero = input(\"Digite um número:\")\n",
        "resto = int(numero) % 2\n",
        "\n",
        "if resto == 0:\n",
        "   print(\"O número\", numero, \"é par.\")\n",
        "else:\n",
        "   print(\"O número\", numero, \"é ímpar.\")"
      ],
      "execution_count": 5,
      "outputs": [
        {
          "output_type": "stream",
          "name": "stdout",
          "text": [
            "Digite um número:20\n",
            "O número 20 é par.\n"
          ]
        }
      ]
    },
    {
      "cell_type": "markdown",
      "metadata": {
        "id": "x2phmwycQt_z"
      },
      "source": [
        "*Escreva um programa que classifique um atleta em uma categoria etária, de acordo com a tabela a seguir:*"
      ]
    },
    {
      "cell_type": "markdown",
      "metadata": {
        "id": "VgA1ED64RuE-"
      },
      "source": [
        "![image.png](data:image/png;base64,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)"
      ]
    },
    {
      "cell_type": "code",
      "metadata": {
        "id": "w_gdanIQQxh2",
        "colab": {
          "base_uri": "https://localhost:8080/"
        },
        "outputId": "470e46d8-7498-4965-b76a-e267e1376439"
      },
      "source": [
        "#digite seu codigo aqui\n",
        "\n",
        "idade = int(input(\"Digite a idade do atleta:\"))\n",
        "\n",
        "if (idade >= 5 and idade <= 10):\n",
        "   print(\"Categoria Infantil\")\n",
        "elif (idade > 10 and idade <= 17):\n",
        "  print(\"Categoria Júnior\")\n",
        "elif (idade > 17 and idade <= 30):\n",
        "  print(\"Categoria Profissional\")\n",
        "elif (idade > 30):\n",
        "  print(\"Categoria Sênior\")\n",
        "else:\n",
        "  print(\"Categoria não identificada\")"
      ],
      "execution_count": 6,
      "outputs": [
        {
          "output_type": "stream",
          "name": "stdout",
          "text": [
            "Digite a idade do atleta:26\n",
            "Categoria Profissional\n"
          ]
        }
      ]
    },
    {
      "cell_type": "markdown",
      "metadata": {
        "id": "dqpK0KopSa06"
      },
      "source": [
        "**Estruturas de Repetição**"
      ]
    },
    {
      "cell_type": "code",
      "metadata": {
        "colab": {
          "base_uri": "https://localhost:8080/"
        },
        "id": "64k2m8eCSeb2",
        "outputId": "9133cf75-944b-47fc-8442-fb872e6f3cc0"
      },
      "source": [
        "#Laço de repetição - while (equanto satisfaz a condição)\n",
        "\n",
        "#condição inicial\n",
        "n = 1\n",
        "\n",
        "while n <= 10:\n",
        "   print(\"Estamos no looping, iteração número:\", n)\n",
        "   n = n + 1 #incrementa a variável"
      ],
      "execution_count": 7,
      "outputs": [
        {
          "output_type": "stream",
          "name": "stdout",
          "text": [
            "Estamos no looping, iteração número: 1\n",
            "Estamos no looping, iteração número: 2\n",
            "Estamos no looping, iteração número: 3\n",
            "Estamos no looping, iteração número: 4\n",
            "Estamos no looping, iteração número: 5\n",
            "Estamos no looping, iteração número: 6\n",
            "Estamos no looping, iteração número: 7\n",
            "Estamos no looping, iteração número: 8\n",
            "Estamos no looping, iteração número: 9\n",
            "Estamos no looping, iteração número: 10\n"
          ]
        }
      ]
    },
    {
      "cell_type": "code",
      "metadata": {
        "colab": {
          "base_uri": "https://localhost:8080/"
        },
        "id": "pJRFYi3dT0Gp",
        "outputId": "0e8b8524-4802-49cc-dfce-860408ec15f2"
      },
      "source": [
        "n2 = 0\n",
        "\n",
        "while n2 <= 10 :\n",
        "   print(\"Estamos no looping, iteração número:\", n2)\n",
        "   n2 = n2 + 1 #incrementa a variável\n",
        "   resposta = input(\"Deseja continuar s/n?:\")\n",
        "   if (resposta.lower() == \"n\"):\n",
        "      n2 = 999\n"
      ],
      "execution_count": 8,
      "outputs": [
        {
          "name": "stdout",
          "output_type": "stream",
          "text": [
            "Estamos no looping, iteração número: 0\n",
            "Deseja continuar s/n?:10\n",
            "Estamos no looping, iteração número: 1\n",
            "Deseja continuar s/n?:n\n"
          ]
        }
      ]
    },
    {
      "cell_type": "code",
      "metadata": {
        "colab": {
          "base_uri": "https://localhost:8080/"
        },
        "id": "YV4WzOcpVuSh",
        "outputId": "d67e0878-8643-46b1-9a93-3f457f42ec84"
      },
      "source": [
        "# Repetição - for (repete o bloco de instrução subordinado a ela por um número de vezes pré-determinado)\n",
        "\n",
        "for i in range(10):  # Utiliza uma variável auxiliar cujo valor inicial é zero sendo este valor aumentado em 1 unidade a cada execução do laço\n",
        "    print(\"número:\", i)\n",
        "\n"
      ],
      "execution_count": 9,
      "outputs": [
        {
          "output_type": "stream",
          "name": "stdout",
          "text": [
            "número: 0\n",
            "número: 1\n",
            "número: 2\n",
            "número: 3\n",
            "número: 4\n",
            "número: 5\n",
            "número: 6\n",
            "número: 7\n",
            "número: 8\n",
            "número: 9\n"
          ]
        }
      ]
    },
    {
      "cell_type": "markdown",
      "metadata": {
        "id": "ryjk2JXGWg7Z"
      },
      "source": [
        "**5.3 Exercícios**"
      ]
    },
    {
      "cell_type": "markdown",
      "metadata": {
        "id": "WBJeKIF2Wmxe"
      },
      "source": [
        "*Faça um algoritmo que mostre na tela todos os números ímpares de 0 a 100.*"
      ]
    },
    {
      "cell_type": "code",
      "metadata": {
        "id": "U3fEd_9_Wosi",
        "colab": {
          "base_uri": "https://localhost:8080/"
        },
        "outputId": "1cc454f7-7673-4dd4-8a22-e8bd8457ff8d"
      },
      "source": [
        "for i in range(1, 100, 2): # parâmetro com \"passo\" do algoritmo\n",
        "    print(i)\n"
      ],
      "execution_count": 10,
      "outputs": [
        {
          "output_type": "stream",
          "name": "stdout",
          "text": [
            "1\n",
            "3\n",
            "5\n",
            "7\n",
            "9\n",
            "11\n",
            "13\n",
            "15\n",
            "17\n",
            "19\n",
            "21\n",
            "23\n",
            "25\n",
            "27\n",
            "29\n",
            "31\n",
            "33\n",
            "35\n",
            "37\n",
            "39\n",
            "41\n",
            "43\n",
            "45\n",
            "47\n",
            "49\n",
            "51\n",
            "53\n",
            "55\n",
            "57\n",
            "59\n",
            "61\n",
            "63\n",
            "65\n",
            "67\n",
            "69\n",
            "71\n",
            "73\n",
            "75\n",
            "77\n",
            "79\n",
            "81\n",
            "83\n",
            "85\n",
            "87\n",
            "89\n",
            "91\n",
            "93\n",
            "95\n",
            "97\n",
            "99\n"
          ]
        }
      ]
    },
    {
      "cell_type": "markdown",
      "metadata": {
        "id": "6kWOpJmjYLz_"
      },
      "source": [
        "Escreva um algoritmo que: \n",
        "\n",
        "*   Solicite ao usuário a digitação do nome e da idade. \n",
        "*   Exiba estes dados na tela. \n",
        "\n",
        "`[Condição: deverá repetir a pergunta até que o usuário digite a palavra \"fim\" no lugar do nome ou da idade.]`"
      ]
    },
    {
      "cell_type": "code",
      "metadata": {
        "colab": {
          "base_uri": "https://localhost:8080/"
        },
        "id": "VDMVfjErbtoJ",
        "outputId": "aecbefc3-b9ca-407c-bcbf-5fdde85af21e"
      },
      "source": [
        "nome = \"\"\n",
        "\n",
        "while nome.lower() != \"fim\":\n",
        "     nome = input(\"Digite seu nome:\")\n",
        "     idade = input(\"Digite sua idade:\")\n",
        "     print(\"O nome é\", nome, \"e a idade é\", idade)"
      ],
      "execution_count": 12,
      "outputs": [
        {
          "output_type": "stream",
          "name": "stdout",
          "text": [
            "Digite seu nome:fim\n",
            "Digite sua idade:15\n",
            "O nome é fim e a idade é 15\n"
          ]
        }
      ]
    },
    {
      "cell_type": "code",
      "metadata": {
        "id": "SyeJd-ZuYNev",
        "colab": {
          "base_uri": "https://localhost:8080/"
        },
        "outputId": "691a13dd-3549-4dd3-d9f0-a2632f8d08bc"
      },
      "source": [
        "nome = \"\"\n",
        "idade = \"\"\n",
        "continua = True\n",
        "\n",
        "while continua != False:  \n",
        "     nome = input(\"Digite seu nome:\")\n",
        "     idade = input(\"Digite sua idade:\")\n",
        "     continua = (nome.lower() != \"fim\") and (idade != \"999\") \n",
        "     if continua != False:\n",
        "       print(\"O nome é\", nome, \"e a idade é\", idade)\n",
        "     "
      ],
      "execution_count": 13,
      "outputs": [
        {
          "name": "stdout",
          "output_type": "stream",
          "text": [
            "Digite seu nome:999\n",
            "Digite sua idade:85\n",
            "O nome é 999 e a idade é 85\n",
            "Digite seu nome:99\n",
            "Digite sua idade:999\n"
          ]
        }
      ]
    },
    {
      "cell_type": "markdown",
      "metadata": {
        "id": "zKoE9ZIIcKFg"
      },
      "source": [
        "**Estrutura de dados**"
      ]
    },
    {
      "cell_type": "code",
      "metadata": {
        "colab": {
          "base_uri": "https://localhost:8080/"
        },
        "id": "-xExGJY-cOaS",
        "outputId": "18c305f6-8dd1-4d3b-ea61-b7e1567daaf1"
      },
      "source": [
        "# LISTAS\n",
        "\n",
        "minha_lista = [\"maria\", 21, 3.54, \"SP\", 2900.44, 34, 'Casa', 56.7] #permite tipos de dados diferentes\n",
        "\n",
        "print(minha_lista)\n",
        "\n",
        "print(type(minha_lista))\n",
        "\n"
      ],
      "execution_count": 14,
      "outputs": [
        {
          "output_type": "stream",
          "name": "stdout",
          "text": [
            "['maria', 21, 3.54, 'SP', 2900.44, 34, 'Casa', 56.7]\n",
            "<class 'list'>\n"
          ]
        }
      ]
    },
    {
      "cell_type": "code",
      "metadata": {
        "colab": {
          "base_uri": "https://localhost:8080/"
        },
        "id": "LJHkaYM8cgeK",
        "outputId": "b7fac661-796e-44f4-e955-b0fe62f1140d"
      },
      "source": [
        "# acessando o valor pelo índice, primeiro elemento inicia em [0]\n",
        "\n",
        "valor = int(minha_lista[2])\n",
        "print(valor)\n",
        "\n",
        "print(type(minha_lista[2]))\n"
      ],
      "execution_count": 15,
      "outputs": [
        {
          "output_type": "stream",
          "name": "stdout",
          "text": [
            "3\n",
            "<class 'float'>\n"
          ]
        }
      ]
    },
    {
      "cell_type": "code",
      "metadata": {
        "colab": {
          "base_uri": "https://localhost:8080/"
        },
        "id": "gDvQUNEGc2jb",
        "outputId": "5af05804-4eaa-4507-a2b9-dbf178c8fed7"
      },
      "source": [
        "# consultando quantos elementos estão presentes na lista\n",
        "\n",
        "print(len(minha_lista)) "
      ],
      "execution_count": 16,
      "outputs": [
        {
          "output_type": "stream",
          "name": "stdout",
          "text": [
            "8\n"
          ]
        }
      ]
    },
    {
      "cell_type": "code",
      "metadata": {
        "colab": {
          "base_uri": "https://localhost:8080/"
        },
        "id": "-eAo6fNbdMFQ",
        "outputId": "d68f3dbe-84a3-4015-d295-344c061dd98c"
      },
      "source": [
        "# seleção de intervalos da lista\n",
        "print(minha_lista)\n",
        "\n",
        "print(minha_lista[2:7]) # até o elemento anterior ao final"
      ],
      "execution_count": 17,
      "outputs": [
        {
          "output_type": "stream",
          "name": "stdout",
          "text": [
            "['maria', 21, 3.54, 'SP', 2900.44, 34, 'Casa', 56.7]\n",
            "[3.54, 'SP', 2900.44, 34, 'Casa']\n"
          ]
        }
      ]
    },
    {
      "cell_type": "code",
      "metadata": {
        "colab": {
          "base_uri": "https://localhost:8080/"
        },
        "id": "mRbJvez0du1W",
        "outputId": "4ed69c31-6a38-4be9-825e-4e3f0786c421"
      },
      "source": [
        "# alterando algum valor da lista\n",
        "\n",
        "print(minha_lista)\n",
        "\n",
        "salario = 4000.00\n",
        "\n",
        "minha_lista[4] = salario\n",
        "\n",
        "print(minha_lista)"
      ],
      "execution_count": 18,
      "outputs": [
        {
          "output_type": "stream",
          "name": "stdout",
          "text": [
            "['maria', 21, 3.54, 'SP', 2900.44, 34, 'Casa', 56.7]\n",
            "['maria', 21, 3.54, 'SP', 4000.0, 34, 'Casa', 56.7]\n"
          ]
        }
      ]
    },
    {
      "cell_type": "code",
      "metadata": {
        "colab": {
          "base_uri": "https://localhost:8080/"
        },
        "id": "577U_M5DeJBn",
        "outputId": "242b5031-95b0-4086-d419-42d6b26a2bcf"
      },
      "source": [
        "minha_lista[4] = minha_lista[4] + (minha_lista[4] * 0.3)\n",
        "\n",
        "print(minha_lista[4])\n",
        "\n",
        "print(minha_lista)"
      ],
      "execution_count": 19,
      "outputs": [
        {
          "output_type": "stream",
          "name": "stdout",
          "text": [
            "5200.0\n",
            "['maria', 21, 3.54, 'SP', 5200.0, 34, 'Casa', 56.7]\n"
          ]
        }
      ]
    },
    {
      "cell_type": "code",
      "metadata": {
        "colab": {
          "base_uri": "https://localhost:8080/"
        },
        "id": "aQ9ejWPNe5ph",
        "outputId": "13eceeed-3e89-4cb4-b81f-ec82c45bd2ff"
      },
      "source": [
        "# união de listas\n",
        "\n",
        "lista_mamiferos = [\"vaca\", \"gato\", \"leão\"]\n",
        "lista_aves = [\"tucano\", \"papagaio\", \"sabiá\"]\n",
        "\n",
        "lista_animais = lista_mamiferos + lista_aves \n",
        "\n",
        "print(lista_animais)"
      ],
      "execution_count": 20,
      "outputs": [
        {
          "output_type": "stream",
          "name": "stdout",
          "text": [
            "['vaca', 'gato', 'leão', 'tucano', 'papagaio', 'sabiá']\n"
          ]
        }
      ]
    },
    {
      "cell_type": "code",
      "metadata": {
        "colab": {
          "base_uri": "https://localhost:8080/"
        },
        "id": "dcCi2ikWg5MX",
        "outputId": "4dd4998e-527f-4003-dc9a-12d13f0fc723"
      },
      "source": [
        "# união de listas\n",
        "\n",
        "lista_mamiferos = [\"vaca\", \"gato\", \"leão\"]\n",
        "lista_aves = [\"tucano\", \"papagaio\", \"sabiá\"]\n",
        "lista_localizacao = [23, 35, 56]\n",
        "\n",
        "lista_animais = lista_mamiferos + lista_aves + lista_localizacao\n",
        "\n",
        "print(lista_animais)\n"
      ],
      "execution_count": 21,
      "outputs": [
        {
          "output_type": "stream",
          "name": "stdout",
          "text": [
            "['vaca', 'gato', 'leão', 'tucano', 'papagaio', 'sabiá', 23, 35, 56]\n"
          ]
        }
      ]
    },
    {
      "cell_type": "code",
      "metadata": {
        "id": "oZv3bAxXhCLt",
        "colab": {
          "base_uri": "https://localhost:8080/"
        },
        "outputId": "a6b206f6-ed47-40a8-96b7-14ff3f4e9764"
      },
      "source": [
        "# união de listas \n",
        "\n",
        "lista_mamiferos = [\"vaca\", \"gato\", \"leão\"]\n",
        "lista_aves = [\"tucano\", \"papagaio\", \"sabiá\"]\n",
        "lista_localizacao = [23, 35, 56]\n",
        "\n",
        "for i in range(len(lista_localizacao)): #número de elementos da lista\n",
        "    lista_localizacao[i] = str(lista_localizacao[i]) #converte para string elementos da lista\n",
        "\n",
        "lista_animais = lista_mamiferos + lista_aves + lista_localizacao    \n",
        "\n",
        "print(sorted(lista_animais)) #exibe ordenado\n",
        "print(lista_animais) #não modifica a ordem\n",
        "\n"
      ],
      "execution_count": 22,
      "outputs": [
        {
          "output_type": "stream",
          "name": "stdout",
          "text": [
            "['23', '35', '56', 'gato', 'leão', 'papagaio', 'sabiá', 'tucano', 'vaca']\n",
            "['vaca', 'gato', 'leão', 'tucano', 'papagaio', 'sabiá', '23', '35', '56']\n"
          ]
        }
      ]
    },
    {
      "cell_type": "code",
      "metadata": {
        "colab": {
          "base_uri": "https://localhost:8080/"
        },
        "id": "EIeYJ_0QBJNe",
        "outputId": "c7c8f0d9-531a-43ed-cf35-2ae3b8a25336"
      },
      "source": [
        "# união e ordenação de listas de tipo de dados numérico\n",
        "\n",
        "lista_1 = [23, 35, 56]\n",
        "lista_2 = [11, 22, 33.4, 23]\n",
        "\n",
        "lista_3 = lista_1 + lista_2\n",
        "\n",
        "lista_3.sort() #altera o ordem, pode-se usar reverse=True\n",
        "print(lista_3)"
      ],
      "execution_count": 23,
      "outputs": [
        {
          "output_type": "stream",
          "name": "stdout",
          "text": [
            "[11, 22, 23, 23, 33.4, 35, 56]\n"
          ]
        }
      ]
    },
    {
      "cell_type": "code",
      "metadata": {
        "colab": {
          "base_uri": "https://localhost:8080/"
        },
        "id": "5aP0ixcsNwyz",
        "outputId": "a6ba84ef-9b2e-42a2-f8ed-dd96d4a9e308"
      },
      "source": [
        "# pesquisa se existe o elemento na lista\n",
        "encontrou = 23 in lista_3\n",
        "print(encontrou)"
      ],
      "execution_count": 24,
      "outputs": [
        {
          "output_type": "stream",
          "name": "stdout",
          "text": [
            "True\n"
          ]
        }
      ]
    },
    {
      "cell_type": "code",
      "metadata": {
        "id": "kGIXvgM9W0i0",
        "colab": {
          "base_uri": "https://localhost:8080/"
        },
        "outputId": "6703fc6c-812d-4bdf-8395-695169e5a408"
      },
      "source": [
        "# inserção e exclusão - lista\n",
        "\n",
        "lista_1 = [23, 35, 56]\n",
        "\n",
        "lista_1.append(100) #insere ao final da lista\n",
        "print(lista_1)\n",
        "\n",
        "lista_1.insert(0, 12) #insere elemento na posição indicada\n",
        "print(lista_1)\n",
        "\n",
        "del(lista_1[3]) #exclusão do elemento na posição indicada\n",
        "print(lista_1)\n",
        "\n",
        "lista_1.clear()\n",
        "print(lista_1)"
      ],
      "execution_count": 25,
      "outputs": [
        {
          "output_type": "stream",
          "name": "stdout",
          "text": [
            "[23, 35, 56, 100]\n",
            "[12, 23, 35, 56, 100]\n",
            "[12, 23, 35, 100]\n",
            "[]\n"
          ]
        }
      ]
    },
    {
      "cell_type": "code",
      "metadata": {
        "colab": {
          "base_uri": "https://localhost:8080/"
        },
        "id": "Uy2eYYnGCUy1",
        "outputId": "1505e60d-ccc0-49d3-ad5b-5803a7bd2e79"
      },
      "source": [
        "# TUPLAS\n",
        "\n",
        "minha_tupla = (1, 1, 3, 5, 8, 13)\n",
        "\n",
        "print(minha_tupla)\n",
        "\n",
        "print(type(minha_tupla))"
      ],
      "execution_count": 26,
      "outputs": [
        {
          "output_type": "stream",
          "name": "stdout",
          "text": [
            "(1, 1, 3, 5, 8, 13)\n",
            "<class 'tuple'>\n"
          ]
        }
      ]
    },
    {
      "cell_type": "code",
      "metadata": {
        "colab": {
          "base_uri": "https://localhost:8080/"
        },
        "id": "vSv1JbkJEaTk",
        "outputId": "1f84dad6-85c5-4b7c-bb49-ed963b2571db"
      },
      "source": [
        "tupla_1 = (5, 8, 13.5, 21, 6, 7.9)\n",
        "tupla_2 = (21, 34)\n",
        "tupla_3 = (\"cachorro\", \"gato\")\n",
        "\n",
        "#selecionando o primeiro elemento da tupla\n",
        "print(tupla_1[0])\n",
        "\n",
        "#selecionando alguns elementos da tupla\n",
        "print(tupla_1[2:5])\n",
        "\n",
        "#criando uma tupla a partir de 3 tuplas\n",
        "nova_tupla = tupla_1 + tupla_2 + tupla_3\n",
        "\n",
        "print(\"Total de elemetos na Tupla:\", len(nova_tupla))"
      ],
      "execution_count": 27,
      "outputs": [
        {
          "output_type": "stream",
          "name": "stdout",
          "text": [
            "5\n",
            "(13.5, 21, 6)\n",
            "Total de elemetos na Tupla: 10\n"
          ]
        }
      ]
    },
    {
      "cell_type": "code",
      "metadata": {
        "colab": {
          "base_uri": "https://localhost:8080/"
        },
        "id": "R2ma_PNfHt2r",
        "outputId": "cc514f09-6cda-4190-ee80-93d0dc470818"
      },
      "source": [
        "# verifica se existe determinado elemento na tupla\n",
        "\n",
        "elementos_tupla = ('casa', 'bola', 'chaveiro')\n",
        "print('casa' in elementos_tupla)\n",
        "\n",
        "# o elemento não existe na tupla\n",
        "elemento_tupla2 = (12, 45, 78)\n",
        "print(80 in elemento_tupla2)\n"
      ],
      "execution_count": 28,
      "outputs": [
        {
          "output_type": "stream",
          "name": "stdout",
          "text": [
            "True\n",
            "False\n"
          ]
        }
      ]
    },
    {
      "cell_type": "code",
      "metadata": {
        "colab": {
          "base_uri": "https://localhost:8080/"
        },
        "id": "QBFNmEkjKBvA",
        "outputId": "8cf45ad5-6a83-4a0f-9292-ae88eb7d899c"
      },
      "source": [
        "# DICIONÁRIOS\n",
        "\n",
        "# criação de um dicionário\n",
        "dicionario_1 = {\"chave1\" : 10, \"chave2\" : 25}\n",
        "print(dicionario_1)\n",
        "\n",
        "# acessando o elemento correspondente à chave\n",
        "print(dicionario_1[\"chave1\"])\n",
        "\n",
        "# adicionando um novo elemento ao dicionário\n",
        "dicionario_1[\"chave3\"] = 100\n",
        "print(dicionario_1)"
      ],
      "execution_count": 29,
      "outputs": [
        {
          "output_type": "stream",
          "name": "stdout",
          "text": [
            "{'chave1': 10, 'chave2': 25}\n",
            "10\n",
            "{'chave1': 10, 'chave2': 25, 'chave3': 100}\n"
          ]
        }
      ]
    },
    {
      "cell_type": "code",
      "metadata": {
        "colab": {
          "base_uri": "https://localhost:8080/"
        },
        "id": "HwTS6zCRPt-i",
        "outputId": "95801b08-d659-409a-ac3a-d1c8518698c7"
      },
      "source": [
        "# obtendo as chaves do dicionário\n",
        "dicionario_x = {\"nome\" : 10, \"idade\" : 25, \"estado\" : \"SP\"}\n",
        "\n",
        "print(dicionario_x.keys())"
      ],
      "execution_count": 30,
      "outputs": [
        {
          "output_type": "stream",
          "name": "stdout",
          "text": [
            "dict_keys(['nome', 'idade', 'estado'])\n"
          ]
        }
      ]
    },
    {
      "cell_type": "code",
      "metadata": {
        "colab": {
          "base_uri": "https://localhost:8080/"
        },
        "id": "nRWiO8TTQIFW",
        "outputId": "243549ef-63aa-479e-a0b0-68ea31870a5b"
      },
      "source": [
        "veiculos = {'moto': \"harley-davidson\", 'carro': \"honda\", 'bicicleta': \"caloi\"}\n",
        "\n",
        "# Verificando se chave existe e exibindo o valor associado\n",
        "if 'moto' in veiculos:\n",
        "    print(veiculos['moto'])\n",
        "\n",
        "# Verificando se determinado valor consta em alguma das chaves\n",
        "if 'caloi' in veiculos.values():\n",
        "    print(\"Achei\")"
      ],
      "execution_count": 31,
      "outputs": [
        {
          "output_type": "stream",
          "name": "stdout",
          "text": [
            "harley-davidson\n",
            "Achei\n"
          ]
        }
      ]
    },
    {
      "cell_type": "markdown",
      "metadata": {
        "id": "wnMZapL_SP85"
      },
      "source": [
        "**6.4 Exercícios**"
      ]
    },
    {
      "cell_type": "markdown",
      "metadata": {
        "id": "hva9kRw8SX6e"
      },
      "source": [
        "*Construa duas listas e mostre as listas na tela. Depois, crie uma lista a partir da junção das duas listas anteriores e mostre o valor da posição 0.*"
      ]
    },
    {
      "cell_type": "code",
      "metadata": {
        "colab": {
          "base_uri": "https://localhost:8080/"
        },
        "id": "VGzCMUq_SagL",
        "outputId": "82cc9477-b149-40fc-bc49-6837a0530b48"
      },
      "source": [
        "lista1 = [\"a\", \"b\", \"c\"]\n",
        "lista2 = [\"d\", \"e\", \"f\"]\n",
        "\n",
        "print(lista1)\n",
        "print(lista2)\n",
        "\n",
        "lista_final = lista1 + lista2\n",
        "\n",
        "print(lista_final[0])"
      ],
      "execution_count": 32,
      "outputs": [
        {
          "output_type": "stream",
          "name": "stdout",
          "text": [
            "['a', 'b', 'c']\n",
            "['d', 'e', 'f']\n",
            "a\n"
          ]
        }
      ]
    },
    {
      "cell_type": "markdown",
      "metadata": {
        "id": "buWbDNgJTCYD"
      },
      "source": [
        "*Construa um dicionário cujas chaves sejam as palavras em inglês for, in, if, else, True, False e while e os valores sejam as traduções para o português.*"
      ]
    },
    {
      "cell_type": "code",
      "metadata": {
        "id": "4D47PmLVTD1_"
      },
      "source": [
        "dicionario = {\"for\":\"para\", \"in\":\"em\", \"if\":\"se\", \"else\":\"senão\", \"true\":\"verdadeiro\", \"false\":\"falso\", \"while\":\"enquanto\"}"
      ],
      "execution_count": 33,
      "outputs": []
    },
    {
      "cell_type": "markdown",
      "metadata": {
        "id": "0wj3eCElTeiY"
      },
      "source": [
        "**Funções**"
      ]
    },
    {
      "cell_type": "code",
      "metadata": {
        "colab": {
          "base_uri": "https://localhost:8080/"
        },
        "id": "WKlGE_M9TiD5",
        "outputId": "05b09506-e986-49d8-ebd1-c12b4a6243a3"
      },
      "source": [
        "# criar funções\n",
        "\n",
        "def minha_funcao(numero):\n",
        "   x = numero * 2\n",
        "   y = numero / 2\n",
        "   return x, y\n",
        "\n",
        "n1 = 10\n",
        "print(minha_funcao(n1))\n",
        "\n",
        "n2 = 20\n",
        "print(minha_funcao(n2))\n",
        "\n",
        "n3 = 15\n",
        "dobro, metade = minha_funcao(n3)\n",
        "\n",
        "print(dobro)\n",
        "print(metade)"
      ],
      "execution_count": 34,
      "outputs": [
        {
          "output_type": "stream",
          "name": "stdout",
          "text": [
            "(20, 5.0)\n",
            "(40, 10.0)\n",
            "30\n",
            "7.5\n"
          ]
        }
      ]
    },
    {
      "cell_type": "markdown",
      "metadata": {
        "id": "yM-eGNCKUmE7"
      },
      "source": [
        "**7.2 Exercícios**"
      ]
    },
    {
      "cell_type": "markdown",
      "metadata": {
        "id": "ipkBplEWUvTq"
      },
      "source": [
        "*Escreva uma função que recebe dois números e calcula sua média.*"
      ]
    },
    {
      "cell_type": "code",
      "metadata": {
        "colab": {
          "base_uri": "https://localhost:8080/"
        },
        "id": "LiW_zpckUxab",
        "outputId": "01f81d8b-5a85-45d6-f633-9a8ca4d8f36f"
      },
      "source": [
        "def media(x, y):\n",
        "   m = (x + y)/2\n",
        "   return(m)\n",
        "\n",
        "print(media(20,15))\n",
        "\n",
        "mediafinal = media(20,15)\n",
        "print(mediafinal)"
      ],
      "execution_count": 35,
      "outputs": [
        {
          "output_type": "stream",
          "name": "stdout",
          "text": [
            "17.5\n",
            "17.5\n"
          ]
        }
      ]
    },
    {
      "cell_type": "markdown",
      "metadata": {
        "id": "6c80bGX0VAT0"
      },
      "source": [
        "*Escreva uma função que recebe uma lista de números e calcula a sua média.*"
      ]
    },
    {
      "cell_type": "code",
      "metadata": {
        "colab": {
          "base_uri": "https://localhost:8080/"
        },
        "id": "FzVQF8CyVBht",
        "outputId": "8f5c8219-c3b8-4643-cc4a-42d9d309c677"
      },
      "source": [
        "def media(lista):\n",
        "   soma = 0\n",
        "   for num in lista:\n",
        "       soma = soma + num\n",
        "   m = soma/len(lista)\n",
        "   return(m)\n",
        "\n",
        "lista1 = [2, 2, 6, 2]\n",
        "\n",
        "print(media(lista1))"
      ],
      "execution_count": 36,
      "outputs": [
        {
          "output_type": "stream",
          "name": "stdout",
          "text": [
            "3.0\n"
          ]
        }
      ]
    },
    {
      "cell_type": "markdown",
      "metadata": {
        "id": "nyrES6JsZXa8"
      },
      "source": [
        "*Escreva uma função que recebe um número e retorna True se ele for primo ou False se ele não for primo.*"
      ]
    },
    {
      "cell_type": "code",
      "metadata": {
        "id": "uHFxW5mCZYoy",
        "colab": {
          "base_uri": "https://localhost:8080/"
        },
        "outputId": "34079186-075a-4fbe-9591-f3bbdae5f6f3"
      },
      "source": [
        "def primo(num):\n",
        "   divisores = 0\n",
        "   i = 1\n",
        "   while i <= num:   # números primos - divisíveis por 1 e por ele mesmo (o número 1 não é primo)\n",
        "      if num % i == 0 :\n",
        "         divisores = divisores + 1\n",
        "      i = i + 1\n",
        "\n",
        "   if divisores == 2:\n",
        "      return True\n",
        "   else:\n",
        "      return False\n",
        "\n",
        "\n",
        "if primo(3):\n",
        "   print('É primo!!!')"
      ],
      "execution_count": 37,
      "outputs": [
        {
          "output_type": "stream",
          "name": "stdout",
          "text": [
            "É primo!!!\n"
          ]
        }
      ]
    },
    {
      "cell_type": "markdown",
      "metadata": {
        "id": "71UP2CTpdBoE"
      },
      "source": [
        "**Classes**"
      ]
    },
    {
      "cell_type": "code",
      "metadata": {
        "colab": {
          "base_uri": "https://localhost:8080/"
        },
        "id": "Mzr0sVlMdELh",
        "outputId": "7deed024-71bf-422f-ff83-6975e3ef512d"
      },
      "source": [
        "# classe pessoa\n",
        "class Pessoa:\n",
        "    nome = \"\"\n",
        "    cargo = \"\"\n",
        "    salario = 0.0\n",
        "\n",
        "# criação do objeto \"gerente\" do tipo Pessoa\n",
        "gerente = Pessoa()\n",
        "gerente.nome = \"Patrícia\"\n",
        "gerente.cargo = \"Gerente de Compras\"\n",
        "gerente.salario = 7000\n",
        "\n",
        "\n",
        "# criação do objeto \"engenheiro\" do tipo pessoa\n",
        "engenheiro = Pessoa()\n",
        "engenheiro.nome = \"Carlos\"\n",
        "engenheiro.cargo = \"Engenheiro de Produto\"\n",
        "engenheiro.salario = 6400\n",
        "\n",
        "print(gerente.nome, \"é\", gerente.cargo, \"seu salário é\", gerente.salario)\n",
        "print(engenheiro.nome,\"é\", engenheiro.cargo, \"seu salário é\", engenheiro.salario)\n"
      ],
      "execution_count": 38,
      "outputs": [
        {
          "output_type": "stream",
          "name": "stdout",
          "text": [
            "Patrícia é Gerente de Compras seu salário é 7000\n",
            "Carlos é Engenheiro de Produto seu salário é 6400\n"
          ]
        }
      ]
    },
    {
      "cell_type": "code",
      "metadata": {
        "colab": {
          "base_uri": "https://localhost:8080/"
        },
        "id": "SPTBd2Ykdw_C",
        "outputId": "1d48c340-e008-4096-ac34-dc4e8c71acd5"
      },
      "source": [
        "# classe com método (função)\n",
        "class Pessoa:\n",
        "   nome = \"\"\n",
        "   cargo = \"\"\n",
        "   salario = 0.0\n",
        "\n",
        "   def calcula_salario(self, salario, bonus):\n",
        "       return self.salario + self.bonus\n",
        "\n",
        "\n",
        "# criação do objeto \"dev\" do tipo Pessoa\n",
        "dev = Pessoa()\n",
        "dev.nome = \"Antonio\"\n",
        "dev.cargo = \"Desenvolver FullStack\"\n",
        "dev.salario = 5200\n",
        "dev.bonus = 450\n",
        "\n",
        "salario_total = dev.calcula_salario(dev.salario, dev.bonus)\n",
        "\n",
        "print(dev.nome, \"é\", dev.cargo, \"seu salário é\", salario_total)"
      ],
      "execution_count": 39,
      "outputs": [
        {
          "output_type": "stream",
          "name": "stdout",
          "text": [
            "Antonio é Desenvolver FullStack seu salário é 5650\n"
          ]
        }
      ]
    },
    {
      "cell_type": "markdown",
      "metadata": {
        "id": "7yFY4oUJnKOs"
      },
      "source": [
        "**Bibliotecas**"
      ]
    },
    {
      "cell_type": "code",
      "source": [
        "# importar biblioteca - exemplo datetime\n",
        "\n",
        "from datetime import date\n",
        "\n",
        "dia = date.today().day\n",
        "mes = date.today().month\n",
        "ano = date.today().year\n",
        "\n",
        "print(dia, mes, ano)"
      ],
      "metadata": {
        "colab": {
          "base_uri": "https://localhost:8080/"
        },
        "id": "U_jAwy9-7go5",
        "outputId": "6715c396-d0ed-4ce7-e82e-802dfeaa8e79"
      },
      "execution_count": 40,
      "outputs": [
        {
          "output_type": "stream",
          "name": "stdout",
          "text": [
            "11 2 2022\n"
          ]
        }
      ]
    },
    {
      "cell_type": "markdown",
      "metadata": {
        "id": "jw-HniPle_dF"
      },
      "source": [
        "**8.2 Exercícios**"
      ]
    },
    {
      "cell_type": "markdown",
      "metadata": {
        "id": "1zCFggYFfENR"
      },
      "source": [
        "*Crie uma classe Animais com as propriedades nome, raça e ano de nascimento. Instancie os objetos gato e crie um método para calcular a idade dos animais.*"
      ]
    },
    {
      "cell_type": "code",
      "metadata": {
        "id": "GTnnYoogfG3W",
        "colab": {
          "base_uri": "https://localhost:8080/"
        },
        "outputId": "6734719f-06df-4f44-d886-676dbec92b77"
      },
      "source": [
        "# classe + função Animais\n",
        "\n",
        "from datetime import date   #importa módulo que fornece classes para manipulação de datas e horas\n",
        "\n",
        "class Animais:\n",
        "   nome = \"\"\n",
        "   raça = \"\"\n",
        "   ano_nascimento = 0\n",
        "\n",
        "   def calcula_idade(self, ano_nascimento):\n",
        "       idade = date.today().year - ano_nascimento\n",
        "       return idade\n",
        "\n",
        "\n",
        "# criando objeto gato\n",
        "gato = Animais()\n",
        "gato.nome = \"Mingau\"\n",
        "gato.raça = \"Persa\"\n",
        "gato.ano_nascimento = 2015\n",
        "\n",
        "idadegato = gato.calcula_idade(gato.ano_nascimento)\n",
        "\n",
        "print(gato.nome, gato.raça, idadegato)"
      ],
      "execution_count": 41,
      "outputs": [
        {
          "output_type": "stream",
          "name": "stdout",
          "text": [
            "Mingau Persa 7\n"
          ]
        }
      ]
    },
    {
      "cell_type": "code",
      "source": [
        "# criando objeto cachorro\n",
        "cachorro = Animais()\n",
        "cachorro.nome = \"Thor\"\n",
        "cachorro.raça = \"Sem Raça Definida\"\n",
        "cachorro.ano_nascimento = 2017\n",
        "\n",
        "idadecachorro = cachorro.calcula_idade(cachorro.ano_nascimento)\n",
        "\n",
        "print(cachorro.nome, cachorro.raça, idadecachorro)"
      ],
      "metadata": {
        "colab": {
          "base_uri": "https://localhost:8080/"
        },
        "id": "uVqxynvspUW0",
        "outputId": "077cf3ef-e55a-4e0e-c82b-56ec6c2a87a3"
      },
      "execution_count": 42,
      "outputs": [
        {
          "output_type": "stream",
          "name": "stdout",
          "text": [
            "Thor Sem Raça Definida 5\n"
          ]
        }
      ]
    },
    {
      "cell_type": "code",
      "source": [
        "print(Animais)"
      ],
      "metadata": {
        "colab": {
          "base_uri": "https://localhost:8080/"
        },
        "id": "CaxmqHmbp7QW",
        "outputId": "d90f9a3e-34a3-40bc-d3d1-fe51c364391f"
      },
      "execution_count": 44,
      "outputs": [
        {
          "output_type": "stream",
          "name": "stdout",
          "text": [
            "<class '__main__.Animais'>\n"
          ]
        }
      ]
    },
    {
      "cell_type": "code",
      "source": [
        "print('O gato se chama',gato.nome, 'a raça é classificiada em',gato.raça, 'e tem',idadegato,'anos.''\\n''Já o cachorro se chama',cachorro.nome,'a raça é classificiada em', cachorro.raça, 'e tem',idadecachorro,'anos.')"
      ],
      "metadata": {
        "colab": {
          "base_uri": "https://localhost:8080/"
        },
        "id": "kOz61ddmqBid",
        "outputId": "15b6ef2f-751f-47f0-bb75-88da654dc63d"
      },
      "execution_count": 50,
      "outputs": [
        {
          "output_type": "stream",
          "name": "stdout",
          "text": [
            "O gato se chama Mingau a raça é classificiada em Persa e tem 7 anos.\n",
            "Já o cachorro se chama Thor a raça é classificiada em Sem Raça Definida e tem 5 anos.\n"
          ]
        }
      ]
    }
  ]
}