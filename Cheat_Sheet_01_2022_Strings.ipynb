{
  "nbformat": 4,
  "nbformat_minor": 0,
  "metadata": {
    "colab": {
      "name": "Cheat_Sheet_01_2022_Strings.ipynb",
      "provenance": [],
      "toc_visible": true,
      "authorship_tag": "ABX9TyPCT8Rtdh6555sbonH1PjS4",
      "include_colab_link": true
    },
    "kernelspec": {
      "name": "python3",
      "display_name": "Python 3"
    },
    "language_info": {
      "name": "python"
    }
  },
  "cells": [
    {
      "cell_type": "markdown",
      "metadata": {
        "id": "view-in-github",
        "colab_type": "text"
      },
      "source": [
        "<a href=\"https://colab.research.google.com/github/GiselleNidhoggr/BestLearnCodes/blob/main/Cheat_Sheet_01_2022_Strings.ipynb\" target=\"_parent\"><img src=\"https://colab.research.google.com/assets/colab-badge.svg\" alt=\"Open In Colab\"/></a>"
      ]
    },
    {
      "cell_type": "markdown",
      "source": [
        "#All About Strings\n"
      ],
      "metadata": {
        "id": "NVcli1VWzfwm"
      }
    },
    {
      "cell_type": "markdown",
      "source": [
        "## Strings Strings..."
      ],
      "metadata": {
        "id": "8P12glv_spq8"
      }
    },
    {
      "cell_type": "markdown",
      "source": [
        "String Reference Cheat Sheet\n",
        "\n",
        "In Python, there are a lot of things you can do with strings. In this cheat sheet, you’ll find the most common string operations and string methods.\n",
        "\n",
        "\n",
        "String operations\n",
        "\n",
        "len(string) Returns the length of the string\n",
        "\n",
        "for character in string Iterates over each character in the string\n",
        "\n",
        "if substring in string Checks whether the substring is part of the string\n",
        "\n",
        "string[i] Accesses the character at index i of the string, starting at zero\n",
        "\n",
        "string[i:j] Accesses the substring starting at index i, ending at index j-1. If i is omitted, it's 0 by default. If j is omitted, it's len(string) by default."
      ],
      "metadata": {
        "id": "hcC_V_wGtFE5"
      }
    },
    {
      "cell_type": "code",
      "source": [
        "string='something here'\n",
        "print(string)"
      ],
      "metadata": {
        "colab": {
          "base_uri": "https://localhost:8080/"
        },
        "id": "s5tHHDQRsumc",
        "outputId": "a3fdc637-857b-46b1-f18b-f29bd4ff7410"
      },
      "execution_count": 9,
      "outputs": [
        {
          "output_type": "stream",
          "name": "stdout",
          "text": [
            "something here\n"
          ]
        }
      ]
    },
    {
      "cell_type": "code",
      "source": [
        "sum=string+' '+string\n",
        "print(sum)"
      ],
      "metadata": {
        "colab": {
          "base_uri": "https://localhost:8080/"
        },
        "id": "miK3ZW8pwBeP",
        "outputId": "5f63e821-aa11-499f-8d3e-760a04d0daa5"
      },
      "execution_count": null,
      "outputs": [
        {
          "output_type": "stream",
          "name": "stdout",
          "text": [
            "something here something here\n"
          ]
        }
      ]
    },
    {
      "cell_type": "code",
      "source": [
        "mul=(string+' ')*2\n",
        "print(mul)"
      ],
      "metadata": {
        "colab": {
          "base_uri": "https://localhost:8080/"
        },
        "id": "u5qb4vM562fK",
        "outputId": "6fbea299-5e31-4db3-ca30-74efa8f2dbbc"
      },
      "execution_count": 10,
      "outputs": [
        {
          "output_type": "stream",
          "name": "stdout",
          "text": [
            "something here something here \n"
          ]
        }
      ]
    },
    {
      "cell_type": "code",
      "source": [
        "len(string)"
      ],
      "metadata": {
        "colab": {
          "base_uri": "https://localhost:8080/"
        },
        "id": "TltrIht8uDRJ",
        "outputId": "bcd83f20-3e70-4ec9-eb4e-b73dec27216d"
      },
      "execution_count": null,
      "outputs": [
        {
          "output_type": "execute_result",
          "data": {
            "text/plain": [
              "14"
            ]
          },
          "metadata": {},
          "execution_count": 3
        }
      ]
    },
    {
      "cell_type": "code",
      "source": [
        "print(string[2])"
      ],
      "metadata": {
        "colab": {
          "base_uri": "https://localhost:8080/"
        },
        "id": "ooeL3K_c7Feo",
        "outputId": "28148bc1-f3a8-4409-ccac-4244447afc4c"
      },
      "execution_count": 12,
      "outputs": [
        {
          "output_type": "stream",
          "name": "stdout",
          "text": [
            "m\n"
          ]
        }
      ]
    },
    {
      "cell_type": "code",
      "source": [
        "for character in string:\n",
        "    print(character, end=' ')\n",
        "print(\"\\n\")"
      ],
      "metadata": {
        "colab": {
          "base_uri": "https://localhost:8080/"
        },
        "id": "mrR3ixxDuMwB",
        "outputId": "c6520479-e406-4f10-cffb-8f1239274512"
      },
      "execution_count": null,
      "outputs": [
        {
          "output_type": "stream",
          "name": "stdout",
          "text": [
            "s o m e t h i n g   h e r e \n",
            "\n"
          ]
        }
      ]
    },
    {
      "cell_type": "code",
      "source": [
        "substring='h'\n",
        "if substring in string:\n",
        "    print('It''s here')\n",
        "else:\n",
        "    print('Not in here')"
      ],
      "metadata": {
        "colab": {
          "base_uri": "https://localhost:8080/"
        },
        "id": "zq9oCiqlunyr",
        "outputId": "7ac2c547-8c89-48ec-9eeb-fcce5802c881"
      },
      "execution_count": null,
      "outputs": [
        {
          "output_type": "stream",
          "name": "stdout",
          "text": [
            "Its here\n"
          ]
        }
      ]
    },
    {
      "cell_type": "code",
      "source": [
        "string[5]"
      ],
      "metadata": {
        "colab": {
          "base_uri": "https://localhost:8080/",
          "height": 36
        },
        "id": "TkI7w8aAvYGx",
        "outputId": "4a4cec5b-53bc-4f7e-d0a6-5a2f8ce5c5ae"
      },
      "execution_count": null,
      "outputs": [
        {
          "output_type": "execute_result",
          "data": {
            "application/vnd.google.colaboratory.intrinsic+json": {
              "type": "string"
            },
            "text/plain": [
              "'h'"
            ]
          },
          "metadata": {},
          "execution_count": 9
        }
      ]
    },
    {
      "cell_type": "code",
      "source": [
        "string[6:9]"
      ],
      "metadata": {
        "colab": {
          "base_uri": "https://localhost:8080/",
          "height": 36
        },
        "id": "G74BnDUxvedc",
        "outputId": "ef9dfcaf-0f62-476a-f887-f63bb14598da"
      },
      "execution_count": null,
      "outputs": [
        {
          "output_type": "execute_result",
          "data": {
            "application/vnd.google.colaboratory.intrinsic+json": {
              "type": "string"
            },
            "text/plain": [
              "'ing'"
            ]
          },
          "metadata": {},
          "execution_count": 11
        }
      ]
    },
    {
      "cell_type": "code",
      "source": [
        "print(string[0:-1])\n",
        "print(string[0:14])"
      ],
      "metadata": {
        "colab": {
          "base_uri": "https://localhost:8080/"
        },
        "id": "YV_guw0Dvqxg",
        "outputId": "c5ef8238-5940-4241-898e-a9a971c6a0c1"
      },
      "execution_count": null,
      "outputs": [
        {
          "output_type": "stream",
          "name": "stdout",
          "text": [
            "something her\n",
            "something here\n"
          ]
        }
      ]
    },
    {
      "cell_type": "markdown",
      "source": [
        "**String methods**\n",
        "\n",
        "*   string.lower() / string.upper() Returns a copy of the string with all \n",
        "\n",
        "*   lower / upper case characters\n",
        "\n",
        "*   string.lstrip() / string.rstrip() / string.strip() Returns a copy of the string without left / right / left or right whitespace\n",
        "\n",
        "*   string.count(substring) Returns the number of times substring is present in the string\n",
        "\n",
        "*   string.isnumeric() Returns True if there are only numeric characters in the string. If not, returns False.\n",
        "\n",
        "*   string.isalpha() Returns True if there are only alphabetic characters in the string. If not, returns False.\n",
        "\n",
        "*   string.split() / string.split(delimiter) Returns a list of substrings that were separated by whitespace / delimiter\n",
        "\n",
        "*   string.replace(old, new) Returns a new string where all occurrences of old have been replaced by new.\n",
        "\n",
        "*   delimiter.join(list of strings) Returns a new string with all the strings joined by the delimiter "
      ],
      "metadata": {
        "id": "6QJZ1SKJtLqC"
      }
    },
    {
      "cell_type": "markdown",
      "source": [
        "**Methods**\n",
        "\n",
        "- string.lower() / string.upper() Returns a copy of the string with all lower / upper case characters"
      ],
      "metadata": {
        "id": "JJp2E8CP2Muy"
      }
    },
    {
      "cell_type": "code",
      "source": [
        "print(string.lower())\n",
        "print(string.upper())\n"
      ],
      "metadata": {
        "colab": {
          "base_uri": "https://localhost:8080/"
        },
        "id": "mLMKTENotbCg",
        "outputId": "27d815a1-793e-4e2d-c7dd-6fe0634f9b5c"
      },
      "execution_count": null,
      "outputs": [
        {
          "output_type": "stream",
          "name": "stdout",
          "text": [
            "something here\n",
            "SOMETHING HERE\n"
          ]
        }
      ]
    },
    {
      "cell_type": "markdown",
      "source": [
        "- string.lstrip() / string.rstrip() / string.strip() Returns a copy of the string without left / right / left or right whitespace"
      ],
      "metadata": {
        "id": "OazAO0mc2Q3W"
      }
    },
    {
      "cell_type": "code",
      "source": [
        "string1='  there''s some spaces in here     '\n",
        "print(string1.lstrip())\n",
        "print(string1.rstrip())\n",
        "print(string1.strip())"
      ],
      "metadata": {
        "colab": {
          "base_uri": "https://localhost:8080/"
        },
        "id": "LtPfsXXSwgqc",
        "outputId": "e86eca22-b587-4050-c4c7-106b019873eb"
      },
      "execution_count": null,
      "outputs": [
        {
          "output_type": "stream",
          "name": "stdout",
          "text": [
            "theres some spaces in here     \n",
            "  theres some spaces in here\n",
            "theres some spaces in here\n"
          ]
        }
      ]
    },
    {
      "cell_type": "markdown",
      "source": [
        "- string.count(substring) Returns the number of times substring is present in the string"
      ],
      "metadata": {
        "id": "WBc34Cih2UYT"
      }
    },
    {
      "cell_type": "code",
      "source": [
        "string.count(substring)"
      ],
      "metadata": {
        "colab": {
          "base_uri": "https://localhost:8080/"
        },
        "id": "MhVIC3FOxDHf",
        "outputId": "2362a692-1be6-4e1d-8d40-478f1db4e798"
      },
      "execution_count": null,
      "outputs": [
        {
          "output_type": "execute_result",
          "data": {
            "text/plain": [
              "2"
            ]
          },
          "metadata": {},
          "execution_count": 26
        }
      ]
    },
    {
      "cell_type": "code",
      "source": [
        "string.count('s')"
      ],
      "metadata": {
        "colab": {
          "base_uri": "https://localhost:8080/"
        },
        "id": "OsyE9KjqxH8g",
        "outputId": "754c8e2d-673f-4e79-a107-ba80c092d30d"
      },
      "execution_count": null,
      "outputs": [
        {
          "output_type": "execute_result",
          "data": {
            "text/plain": [
              "1"
            ]
          },
          "metadata": {},
          "execution_count": 28
        }
      ]
    },
    {
      "cell_type": "markdown",
      "source": [
        "- string.isnumeric() Returns True if there are only numeric characters in the string. If not, returns False."
      ],
      "metadata": {
        "id": "NuNcyT_d2abh"
      }
    },
    {
      "cell_type": "code",
      "source": [
        "string4='123' #white spaces are invalid, returns false\n",
        "print(string4)\n",
        "\n",
        "print(string4.isnumeric())"
      ],
      "metadata": {
        "colab": {
          "base_uri": "https://localhost:8080/"
        },
        "id": "6CbS7h1C3rT1",
        "outputId": "0f7a659b-1c3a-4abe-bd30-2f678fca453d"
      },
      "execution_count": 2,
      "outputs": [
        {
          "output_type": "stream",
          "name": "stdout",
          "text": [
            "123\n",
            "True\n"
          ]
        }
      ]
    },
    {
      "cell_type": "markdown",
      "source": [
        "- string.isalpha() Returns True if there are only alphabetic characters in the string. If not, returns False."
      ],
      "metadata": {
        "id": "RCW4xi482pCw"
      }
    },
    {
      "cell_type": "code",
      "source": [
        "print(string)\n",
        "print(string1)\n",
        "string2='aaa' #white spaces are invalid, returns false\n",
        "print(string2)\n",
        "\n",
        "print(string.isalpha())\n",
        "print(string1.isalpha())\n",
        "print(string2.isalpha())"
      ],
      "metadata": {
        "colab": {
          "base_uri": "https://localhost:8080/"
        },
        "id": "18jJoGv4xl8d",
        "outputId": "e5c64565-e2c3-4fb9-c55d-d99e2b55a3a2"
      },
      "execution_count": null,
      "outputs": [
        {
          "output_type": "stream",
          "name": "stdout",
          "text": [
            "something here\n",
            "  theres some spaces in here     \n",
            "aaa\n",
            "False\n",
            "False\n",
            "True\n"
          ]
        }
      ]
    },
    {
      "cell_type": "markdown",
      "source": [
        "- string.split() / string.split(delimiter) Returns a list of substrings that were separated by whitespace / delimiter"
      ],
      "metadata": {
        "id": "146_q8ZK2vvv"
      }
    },
    {
      "cell_type": "code",
      "source": [
        "string.split()"
      ],
      "metadata": {
        "colab": {
          "base_uri": "https://localhost:8080/"
        },
        "id": "hlfCZJauyWFB",
        "outputId": "031856df-d29c-4248-8326-5f0d492bbb5a"
      },
      "execution_count": null,
      "outputs": [
        {
          "output_type": "execute_result",
          "data": {
            "text/plain": [
              "['something', 'here']"
            ]
          },
          "metadata": {},
          "execution_count": 36
        }
      ]
    },
    {
      "cell_type": "code",
      "source": [
        "string3='its_here'\n",
        "string3.split(\"_\")"
      ],
      "metadata": {
        "colab": {
          "base_uri": "https://localhost:8080/"
        },
        "id": "mSC10B_FykGg",
        "outputId": "da86db91-d455-48a5-cdf6-b565c70ff676"
      },
      "execution_count": null,
      "outputs": [
        {
          "output_type": "execute_result",
          "data": {
            "text/plain": [
              "['its', 'here']"
            ]
          },
          "metadata": {},
          "execution_count": 41
        }
      ]
    },
    {
      "cell_type": "markdown",
      "source": [
        "- string.replace(old, new) Returns a new string where all occurrences of old have been replaced by new."
      ],
      "metadata": {
        "id": "pGt1U07r23sK"
      }
    },
    {
      "cell_type": "code",
      "source": [
        "string3.replace('its', 'can_be')"
      ],
      "metadata": {
        "colab": {
          "base_uri": "https://localhost:8080/",
          "height": 36
        },
        "id": "g-KUyuvHzLOh",
        "outputId": "182e1352-c00f-4940-99bd-a9a854cfaa43"
      },
      "execution_count": null,
      "outputs": [
        {
          "output_type": "execute_result",
          "data": {
            "application/vnd.google.colaboratory.intrinsic+json": {
              "type": "string"
            },
            "text/plain": [
              "'can_be_here'"
            ]
          },
          "metadata": {},
          "execution_count": 44
        }
      ]
    },
    {
      "cell_type": "markdown",
      "source": [
        "- delimiter.join(list of strings) Returns a new string with all the strings joined by the delimiter"
      ],
      "metadata": {
        "id": "jgIe--ah3ZE3"
      }
    },
    {
      "cell_type": "code",
      "source": [
        "list1 = ['it','is','an','list'] \n",
        "s = \"-\"\n",
        "  \n",
        "s = s.join(list1)\n",
        "print(s)"
      ],
      "metadata": {
        "colab": {
          "base_uri": "https://localhost:8080/"
        },
        "id": "uLepwBGTzgPo",
        "outputId": "987c15eb-9548-4a3f-fad7-d5a673d69d92"
      },
      "execution_count": null,
      "outputs": [
        {
          "output_type": "stream",
          "name": "stdout",
          "text": [
            "it-is-an-list\n"
          ]
        }
      ]
    },
    {
      "cell_type": "code",
      "source": [
        "print(\" \".join(list1))"
      ],
      "metadata": {
        "colab": {
          "base_uri": "https://localhost:8080/"
        },
        "id": "n81i6KKyzgTB",
        "outputId": "794edfec-df99-4c19-92fc-bebdcb068d5a"
      },
      "execution_count": null,
      "outputs": [
        {
          "output_type": "stream",
          "name": "stdout",
          "text": [
            "it is an list\n"
          ]
        }
      ]
    },
    {
      "cell_type": "code",
      "source": [
        "print(\" \".join(['it','is','an','list']))"
      ],
      "metadata": {
        "colab": {
          "base_uri": "https://localhost:8080/"
        },
        "id": "y9TciXD3EfU3",
        "outputId": "d10271ed-ff20-4704-d5c3-ea2defdea53e"
      },
      "execution_count": 47,
      "outputs": [
        {
          "output_type": "stream",
          "name": "stdout",
          "text": [
            "it is an list\n"
          ]
        }
      ]
    },
    {
      "cell_type": "markdown",
      "source": [
        "You can check the [documentation](https://docs.python.org/3/library/stdtypes.html#string-methods) here."
      ],
      "metadata": {
        "id": "e_sNW7FKtWtG"
      }
    },
    {
      "cell_type": "markdown",
      "source": [
        "## Strings - Exercises during the course\n",
        "\n",
        "> :)\n",
        "\n"
      ],
      "metadata": {
        "id": "YWmQ9bvw5y8I"
      }
    },
    {
      "cell_type": "code",
      "source": [
        "def double_word(word):\n",
        "    return (str(word) * 2) + str(len(word*2))\n",
        "     \n",
        "\n",
        "print(double_word(\"hello\")) # Should return hellohello10\n",
        "print(double_word(\"abc\"))   # Should return abcabc6\n",
        "print(double_word(\"\"))      # Should return 0"
      ],
      "metadata": {
        "colab": {
          "base_uri": "https://localhost:8080/"
        },
        "id": "NwGItvRA5wtR",
        "outputId": "aaf2d989-34d5-4424-9889-f245c786e797"
      },
      "execution_count": 3,
      "outputs": [
        {
          "output_type": "stream",
          "name": "stdout",
          "text": [
            "hellohello10\n",
            "abcabc6\n",
            "0\n"
          ]
        }
      ]
    },
    {
      "cell_type": "markdown",
      "source": [
        "Compare first and last string and return True if it's equal"
      ],
      "metadata": {
        "id": "GcbH9UFt7yPS"
      }
    },
    {
      "cell_type": "code",
      "source": [
        "def first_and_last(message):\n",
        "  if message[0]!=message[-1]:\n",
        "    return False\n",
        "  if message[0]==message[-1]:\n",
        "    return True\n",
        "\n",
        "print(first_and_last('aaabbb'))\n",
        "print(first_and_last('anagrama'))"
      ],
      "metadata": {
        "colab": {
          "base_uri": "https://localhost:8080/"
        },
        "id": "yVpl-plg8FyP",
        "outputId": "762150c5-4cbd-437f-bca9-dd0b6a55ef69"
      },
      "execution_count": 19,
      "outputs": [
        {
          "output_type": "stream",
          "name": "stdout",
          "text": [
            "False\n",
            "True\n"
          ]
        }
      ]
    },
    {
      "cell_type": "markdown",
      "source": [
        "Sum of sliced strings"
      ],
      "metadata": {
        "id": "gCB_O7vv-CX_"
      }
    },
    {
      "cell_type": "code",
      "source": [
        "sentence='eu estava tranquila ontem. Fiz atividades físicas, coisa que eu amo! Depois fui tomar meu bom banho. O gatinho me acompanhou como sempre, ela queria comida :)'"
      ],
      "metadata": {
        "id": "-wD1hWTa8Y9E"
      },
      "execution_count": 79,
      "outputs": []
    },
    {
      "cell_type": "code",
      "source": [
        "hidden_message=sentence[:2]+sentence[63:67]+sentence[85:90]+sentence[103:110]\n",
        "print(hidden_message)"
      ],
      "metadata": {
        "colab": {
          "base_uri": "https://localhost:8080/"
        },
        "id": "1fzdnv6H9_a9",
        "outputId": "be2b9841-41de-46df-a6e3-45abd6018ca8"
      },
      "execution_count": 80,
      "outputs": [
        {
          "output_type": "stream",
          "name": "stdout",
          "text": [
            "eu amo meu gatinho\n"
          ]
        }
      ]
    },
    {
      "cell_type": "code",
      "source": [
        "type(hidden_message)"
      ],
      "metadata": {
        "colab": {
          "base_uri": "https://localhost:8080/"
        },
        "id": "LbargvjW_S_0",
        "outputId": "116e442e-1d87-4691-8f7f-f196c0a18f93"
      },
      "execution_count": 40,
      "outputs": [
        {
          "output_type": "execute_result",
          "data": {
            "text/plain": [
              "str"
            ]
          },
          "metadata": {},
          "execution_count": 40
        }
      ]
    },
    {
      "cell_type": "code",
      "source": [
        "sentence.index('amo')"
      ],
      "metadata": {
        "colab": {
          "base_uri": "https://localhost:8080/"
        },
        "id": "lLs9h2gz__5U",
        "outputId": "df58dd39-d367-4db0-cf1a-3ddb824eea91"
      },
      "execution_count": 42,
      "outputs": [
        {
          "output_type": "execute_result",
          "data": {
            "text/plain": [
              "64"
            ]
          },
          "metadata": {},
          "execution_count": 42
        }
      ]
    },
    {
      "cell_type": "code",
      "source": [
        "sentence.index('eu') #it repeats twice"
      ],
      "metadata": {
        "colab": {
          "base_uri": "https://localhost:8080/"
        },
        "id": "iuk-WESxBeMy",
        "outputId": "b5094174-bb51-4153-e580-ae5dac613e41"
      },
      "execution_count": 44,
      "outputs": [
        {
          "output_type": "execute_result",
          "data": {
            "text/plain": [
              "0"
            ]
          },
          "metadata": {},
          "execution_count": 44
        }
      ]
    },
    {
      "cell_type": "code",
      "source": [
        "'amo' in hidden_message "
      ],
      "metadata": {
        "colab": {
          "base_uri": "https://localhost:8080/"
        },
        "id": "A_cFcM_QBuoI",
        "outputId": "3ebc2478-be51-49c9-ecde-901cfafa505d"
      },
      "execution_count": 46,
      "outputs": [
        {
          "output_type": "execute_result",
          "data": {
            "text/plain": [
              "True"
            ]
          },
          "metadata": {},
          "execution_count": 46
        }
      ]
    },
    {
      "cell_type": "markdown",
      "source": [
        "Function which returns the initials of the words contained in the phrase received, in upper case. For example: \"Universal Serial Bus\" should return \"USB\"; \"local area network\" should return \"LAN”."
      ],
      "metadata": {
        "id": "-bJe_Qd0E_X6"
      }
    },
    {
      "cell_type": "code",
      "source": [
        "def initials(phrase):\n",
        "  words = phrase.upper()\n",
        "  words = words.split()\n",
        "  result = \"\"\n",
        "  for word in words:\n",
        "    result += word[0]\n",
        "  return result\n",
        "\n",
        "print(initials(\"Universal Serial Bus\")) # Should be: USB\n",
        "print(initials(\"local area network\")) # Should be: LAN\n",
        "print(initials(\"Operating system\")) # Should be: OS"
      ],
      "metadata": {
        "colab": {
          "base_uri": "https://localhost:8080/"
        },
        "id": "vl_f5UcuCRsG",
        "outputId": "520af4f1-c65a-4bef-835a-7f567a2224ce"
      },
      "execution_count": 54,
      "outputs": [
        {
          "output_type": "stream",
          "name": "stdout",
          "text": [
            "USB\n",
            "LAN\n",
            "OS\n"
          ]
        }
      ]
    },
    {
      "cell_type": "markdown",
      "source": [
        "Function student_grade, using the format method, it returns the phrase \"X received Y% on the exam\". For example, student_grade(\"Reed\", 80) should return \"Reed received 80% on the exam\"."
      ],
      "metadata": {
        "id": "OuU4dMHyHkwu"
      }
    },
    {
      "cell_type": "code",
      "source": [
        "def student_grade(name, grade):\n",
        "\treturn\"{} received {}% on the exam\".format(name, grade)\n",
        "\t\n",
        "\n",
        "print(student_grade(\"Reed\", 80))\n",
        "print(student_grade(\"Paige\", 92))\n",
        "print(student_grade(\"Jesse\", 85))"
      ],
      "metadata": {
        "colab": {
          "base_uri": "https://localhost:8080/"
        },
        "id": "J_sYSROxGAuf",
        "outputId": "274537fd-610f-46de-99a4-df88ed535fed"
      },
      "execution_count": 57,
      "outputs": [
        {
          "output_type": "stream",
          "name": "stdout",
          "text": [
            "Reed received 80% on the exam\n",
            "Paige received 92% on the exam\n",
            "Jesse received 85% on the exam\n"
          ]
        }
      ]
    },
    {
      "cell_type": "code",
      "source": [
        "def student_grade(name, grade):\n",
        "\treturn\"{name} received {grade}% on the exam\".format(name=name, grade=grade)\n",
        "\t\n",
        "\n",
        "print(student_grade(\"Reed\", 80))\n",
        "print(student_grade(\"Paige\", 92))\n",
        "print(student_grade(\"Jesse\", 85))"
      ],
      "metadata": {
        "colab": {
          "base_uri": "https://localhost:8080/"
        },
        "id": "HGh33oOUH5yq",
        "outputId": "a37f094c-fe38-47fb-8365-2c638d2afa82"
      },
      "execution_count": 58,
      "outputs": [
        {
          "output_type": "stream",
          "name": "stdout",
          "text": [
            "Reed received 80% on the exam\n",
            "Paige received 92% on the exam\n",
            "Jesse received 85% on the exam\n"
          ]
        }
      ]
    },
    {
      "cell_type": "markdown",
      "source": [
        "Function which determines taxes of products andput two decimals on this number"
      ],
      "metadata": {
        "id": "9MVmLIc7Id-J"
      }
    },
    {
      "cell_type": "code",
      "source": [
        "price=2.5\n",
        "with_tax=price*1.09 #(9% of tax)\n",
        "print(price,with_tax)"
      ],
      "metadata": {
        "colab": {
          "base_uri": "https://localhost:8080/"
        },
        "id": "MN1ykVj2IFJI",
        "outputId": "95676963-e508-4d9e-b2a4-fa32ba12dfd1"
      },
      "execution_count": 61,
      "outputs": [
        {
          "output_type": "stream",
          "name": "stdout",
          "text": [
            "2.5 2.725\n"
          ]
        }
      ]
    },
    {
      "cell_type": "code",
      "source": [
        "print('Base price: ${:.2f}. With tax: ${:.2f}'.format(price,with_tax))"
      ],
      "metadata": {
        "colab": {
          "base_uri": "https://localhost:8080/"
        },
        "id": "e0rn9ysSI4Ke",
        "outputId": "99571db8-643e-4df3-f1cf-e159504bad74"
      },
      "execution_count": 64,
      "outputs": [
        {
          "output_type": "stream",
          "name": "stdout",
          "text": [
            "Base price: $2.50. With tax: $2.73\n"
          ]
        }
      ]
    },
    {
      "cell_type": "code",
      "source": [
        "print('Base price: {}. With tax: ${:.2f}'.format(price,with_tax))"
      ],
      "metadata": {
        "colab": {
          "base_uri": "https://localhost:8080/"
        },
        "id": "uRpPhO7RJRav",
        "outputId": "b8d5007c-a235-480e-c4d3-098be52532e3"
      },
      "execution_count": 72,
      "outputs": [
        {
          "output_type": "stream",
          "name": "stdout",
          "text": [
            "Base price: 2.5. With tax: $2.73\n"
          ]
        }
      ]
    },
    {
      "cell_type": "markdown",
      "source": [
        "Celcius to Fahrenheit function"
      ],
      "metadata": {
        "id": "bLU2SWQlL3ag"
      }
    },
    {
      "cell_type": "code",
      "source": [
        "def to_celsius(x):\n",
        "    return (x-32)*5/9\n",
        "\n",
        "for x in range(0,101,10):\n",
        "    print('{:<3} F| {:>6.2f} C'.format(x,to_celsius(x)))"
      ],
      "metadata": {
        "colab": {
          "base_uri": "https://localhost:8080/"
        },
        "id": "sdjX5FZiL2n0",
        "outputId": "dceaf577-e6b1-4892-c5b0-d69cbd206a15"
      },
      "execution_count": 98,
      "outputs": [
        {
          "output_type": "stream",
          "name": "stdout",
          "text": [
            "0   F| -17.78 C\n",
            "10  F| -12.22 C\n",
            "20  F|  -6.67 C\n",
            "30  F|  -1.11 C\n",
            "40  F|   4.44 C\n",
            "50  F|  10.00 C\n",
            "60  F|  15.56 C\n",
            "70  F|  21.11 C\n",
            "80  F|  26.67 C\n",
            "90  F|  32.22 C\n",
            "100 F|  37.78 C\n"
          ]
        }
      ]
    },
    {
      "cell_type": "code",
      "source": [
        "for y in range(2,51,5):\n",
        "    print('  {:<5.0f}=  {:>3.2f}'.format(y,y))"
      ],
      "metadata": {
        "colab": {
          "base_uri": "https://localhost:8080/"
        },
        "id": "-b4TPh_aKv9l",
        "outputId": "71af2557-4120-4ddb-c591-ea5cda436071"
      },
      "execution_count": 99,
      "outputs": [
        {
          "output_type": "stream",
          "name": "stdout",
          "text": [
            "  2    =  2.00\n",
            "  7    =  7.00\n",
            "  12   =  12.00\n",
            "  17   =  17.00\n",
            "  22   =  22.00\n",
            "  27   =  27.00\n",
            "  32   =  32.00\n",
            "  37   =  37.00\n",
            "  42   =  42.00\n",
            "  47   =  47.00\n"
          ]
        }
      ]
    },
    {
      "cell_type": "markdown",
      "source": [
        "##Strings - Assessment quiz"
      ],
      "metadata": {
        "id": "lfZGLWSrppqL"
      }
    },
    {
      "cell_type": "markdown",
      "source": [
        "The is_palindrome function checks if a string is a palindrome. A palindrome is a string that can be equally read from left to right or right to left, omitting blank spaces, and ignoring capitalization. Examples of palindromes are words like kayak and radar, and phrases like \"Never Odd or Even\". Fill in the blanks in this function to return True if the passed string is a palindrome, False if not."
      ],
      "metadata": {
        "id": "lYCXhfJ6pxQz"
      }
    },
    {
      "cell_type": "code",
      "source": [
        "def is_palindrome(input_string):\n",
        "    # We'll create two strings, to compare them\n",
        "    new_string = \"\"\n",
        "    reverse_string = \"\"\n",
        "    # Traverse through each letter of the input string\n",
        "    for letter in input_string.strip():\n",
        "        # Add any non-blank letters to the \n",
        "        # end of one string, and to the front\n",
        "        # of the other string. \n",
        "        new_string = new_string+letter.replace(\" \",\"\")\n",
        "        reverse_string = letter.replace(\" \",\"\")+reverse_string\n",
        "    # Compare the strings\n",
        "    if new_string.lower() == reverse_string.lower():\n",
        "        return True\n",
        "    return False\n",
        "\n",
        "print(is_palindrome(\"Never Odd or Even\")) # Should be True\n",
        "print(is_palindrome(\"abc\")) # Should be False\n",
        "print(is_palindrome(\"kayak\")) # Should be True"
      ],
      "metadata": {
        "colab": {
          "base_uri": "https://localhost:8080/"
        },
        "id": "lN8tf4nYNhDl",
        "outputId": "b9ce00a9-2abc-421d-948a-54c1f643270a"
      },
      "execution_count": 14,
      "outputs": [
        {
          "output_type": "stream",
          "name": "stdout",
          "text": [
            "True\n",
            "False\n",
            "True\n"
          ]
        }
      ]
    },
    {
      "cell_type": "code",
      "source": [
        "def convert_distance(miles):\n",
        "\tkm = miles * 1.6 \n",
        "\tresult = \"{} miles equals {:.1f} km\".format(miles,km)\n",
        "\treturn result\n",
        "\n",
        "print(convert_distance(12)) # Should be: 12 miles equals 19.2 km\n",
        "print(convert_distance(5.5)) # Should be: 5.5 miles equals 8.8 km\n",
        "print(convert_distance(11)) # Should be: 11 miles equals 17.6 km"
      ],
      "metadata": {
        "colab": {
          "base_uri": "https://localhost:8080/"
        },
        "id": "JSEcowCNrekv",
        "outputId": "609da3cb-14da-454c-e3e4-ba70893e9b38"
      },
      "execution_count": 15,
      "outputs": [
        {
          "output_type": "stream",
          "name": "stdout",
          "text": [
            "12 miles equals 19.2 km\n",
            "5.5 miles equals 8.8 km\n",
            "11 miles equals 17.6 km\n"
          ]
        }
      ]
    },
    {
      "cell_type": "markdown",
      "source": [
        "If we have a string variable named Weather = \"Rainfall\", which of the following will print the substring or all characters before the \"f\"?"
      ],
      "metadata": {
        "id": "3QFMCa6TtKUg"
      }
    },
    {
      "cell_type": "code",
      "source": [
        "weather='rainfall'"
      ],
      "metadata": {
        "id": "L5ONd6mTsqUt"
      },
      "execution_count": 16,
      "outputs": []
    },
    {
      "cell_type": "code",
      "source": [
        "weather.index('fall')"
      ],
      "metadata": {
        "colab": {
          "base_uri": "https://localhost:8080/"
        },
        "id": "orwFHTV6toCH",
        "outputId": "f0691b07-7eed-4850-e0af-ed0b13bee549"
      },
      "execution_count": 20,
      "outputs": [
        {
          "output_type": "execute_result",
          "data": {
            "text/plain": [
              "4"
            ]
          },
          "metadata": {},
          "execution_count": 20
        }
      ]
    },
    {
      "cell_type": "code",
      "source": [
        "weather[4:]"
      ],
      "metadata": {
        "colab": {
          "base_uri": "https://localhost:8080/",
          "height": 36
        },
        "id": "f7I14rDLtOSK",
        "outputId": "32d4b3ed-7d35-404c-e902-0fb165581632"
      },
      "execution_count": 21,
      "outputs": [
        {
          "output_type": "execute_result",
          "data": {
            "application/vnd.google.colaboratory.intrinsic+json": {
              "type": "string"
            },
            "text/plain": [
              "'fall'"
            ]
          },
          "metadata": {},
          "execution_count": 21
        }
      ]
    },
    {
      "cell_type": "markdown",
      "source": [
        "Fill in the gaps in the nametag function so that it uses the format method to return first_name and the first initial of last_name followed by a period. For example, nametag(\"Jane\", \"Smith\") should return \"Jane S.\""
      ],
      "metadata": {
        "id": "dGI4B1qkuF5n"
      }
    },
    {
      "cell_type": "code",
      "source": [
        "def nametag(first_name, last_name):\n",
        "\treturn(\"{} {}.\".format(first_name, last_name[:1]))\n",
        "\n",
        "print(nametag(\"Jane\", \"Smith\")) \n",
        "# Should display \"Jane S.\" \n",
        "print(nametag(\"Francesco\", \"Rinaldi\")) \n",
        "# Should display \"Francesco R.\" \n",
        "print(nametag(\"Jean-Luc\", \"Grand-Pierre\")) \n",
        "# Should display \"Jean-Luc G.\" "
      ],
      "metadata": {
        "colab": {
          "base_uri": "https://localhost:8080/"
        },
        "id": "FFzN-EGrtVS6",
        "outputId": "2c6a7c6a-c6b5-4660-dc3a-9790b0a200f7"
      },
      "execution_count": 28,
      "outputs": [
        {
          "output_type": "stream",
          "name": "stdout",
          "text": [
            "Jane S.\n",
            "Francesco R.\n",
            "Jean-Luc G.\n"
          ]
        }
      ]
    },
    {
      "cell_type": "markdown",
      "source": [
        "The replace_ending function replaces the old string in a sentence with the new string, but only if the sentence ends with the old string.\n",
        "\n",
        "If there is more than one occurrence of the old string in the sentence, only the one at the end is replaced, not all of them.\n",
        "\n",
        "For example, \n",
        "\n",
        "replace_ending(\"abcabc\", \"abc\", \"xyz\") should return abcxyz, not xyzxyz or xyzabc. \n",
        "\n",
        "The string comparison is case-sensitive, so replace_ending(\"abcabc\", \"ABC\", \"xyz\") should return abcabc (no changes made). "
      ],
      "metadata": {
        "id": "WXGJBOxawD_x"
      }
    },
    {
      "cell_type": "code",
      "source": [
        "def replace_ending(sentence, old, new):\n",
        "\t# Check if the old string is at the end of the sentence \n",
        "\tif sentence.endswith(old):\n",
        "\t\t# Using i as the slicing index, combine the part\n",
        "\t\t# of the sentence up to the matched string at the \n",
        "\t\t# end with the new string\n",
        "\t\ti = sentence.rfind(old)\n",
        "\t\tnew_sentence = sentence[:i]+new\n",
        "\t\treturn new_sentence\n",
        "\n",
        "\t# Return the original sentence if there is no match \n",
        "\treturn sentence\n",
        "\t\n",
        "print(replace_ending(\"It's raining cats and cats\", \"cats\", \"dogs\")) \n",
        "# Should display \"It's raining cats and dogs\"\n",
        "print(replace_ending(\"She sells seashells by the seashore\", \"seashells\", \"donuts\")) \n",
        "# Should display \"She sells seashells by the seashore\"\n",
        "print(replace_ending(\"The weather is nice in May\", \"may\", \"april\")) \n",
        "# Should display \"The weather is nice in May\"\n",
        "print(replace_ending(\"The weather is nice in May\", \"May\", \"April\")) \n",
        "# Should display \"The weather is nice in April\"\n"
      ],
      "metadata": {
        "colab": {
          "base_uri": "https://localhost:8080/"
        },
        "id": "b_PUjZebukns",
        "outputId": "b0093df1-8b8f-4bfb-b17d-fd9bdc870142"
      },
      "execution_count": 41,
      "outputs": [
        {
          "output_type": "stream",
          "name": "stdout",
          "text": [
            "It's raining cats and dogs\n",
            "She sells seashells by the seashore\n",
            "The weather is nice in May\n",
            "The weather is nice in April\n"
          ]
        }
      ]
    },
    {
      "cell_type": "markdown",
      "source": [
        "#All about Lists"
      ],
      "metadata": {
        "id": "ZZ_ESgCUzpFX"
      }
    },
    {
      "cell_type": "markdown",
      "source": [
        "## Lists and other stuff\n",
        "\n"
      ],
      "metadata": {
        "id": "qYeSdc7Ds0m8"
      }
    },
    {
      "cell_type": "markdown",
      "source": [
        "Insert itens in a specific position on a list"
      ],
      "metadata": {
        "id": "vq8BfO4_ykRh"
      }
    },
    {
      "cell_type": "code",
      "source": [
        "import random\n",
        "randomlist = random.sample(range(10, 30), 5)\n",
        "print(randomlist)"
      ],
      "metadata": {
        "colab": {
          "base_uri": "https://localhost:8080/"
        },
        "id": "lH0BFPImriCz",
        "outputId": "33b2d4db-f899-45db-8e78-2e9bd0e44a68"
      },
      "execution_count": 4,
      "outputs": [
        {
          "output_type": "stream",
          "name": "stdout",
          "text": [
            "[13, 24, 12, 25, 23]\n"
          ]
        }
      ]
    },
    {
      "cell_type": "code",
      "source": [
        "#To insert 5 to the 3rd position in randomlist\n",
        "randomlist.insert(2,5)\n",
        "print(randomlist)"
      ],
      "metadata": {
        "colab": {
          "base_uri": "https://localhost:8080/"
        },
        "id": "LW-4JE__rryJ",
        "outputId": "8b26b44b-1663-4720-879f-136b3cd2a1dd"
      },
      "execution_count": 5,
      "outputs": [
        {
          "output_type": "stream",
          "name": "stdout",
          "text": [
            "[13, 24, 5, 12, 25, 23]\n"
          ]
        }
      ]
    },
    {
      "cell_type": "code",
      "source": [
        "print(randomlist.index(5))"
      ],
      "metadata": {
        "colab": {
          "base_uri": "https://localhost:8080/"
        },
        "id": "yxf9fnRSsUgg",
        "outputId": "4fb67fff-4dbd-47b3-b8c2-de0f181b2e23"
      },
      "execution_count": 6,
      "outputs": [
        {
          "output_type": "stream",
          "name": "stdout",
          "text": [
            "2\n"
          ]
        }
      ]
    },
    {
      "cell_type": "code",
      "source": [
        "#Remember, lists starts from position 0\n",
        "print(randomlist.index(12))"
      ],
      "metadata": {
        "colab": {
          "base_uri": "https://localhost:8080/"
        },
        "id": "eX8insR7srJY",
        "outputId": "e41dcd13-9e14-4866-b576-bce7cd84bf20"
      },
      "execution_count": 7,
      "outputs": [
        {
          "output_type": "stream",
          "name": "stdout",
          "text": [
            "3\n"
          ]
        }
      ]
    },
    {
      "cell_type": "markdown",
      "source": [
        "Print a (basic) sum (in PYTHON!)"
      ],
      "metadata": {
        "id": "tf6ezJuMysT6"
      }
    },
    {
      "cell_type": "code",
      "source": [
        "a=2\n",
        "b=8\n",
        "print(a+b)"
      ],
      "metadata": {
        "colab": {
          "base_uri": "https://localhost:8080/"
        },
        "id": "i86y9_p-yxd0",
        "outputId": "7db422cc-84a1-44c1-8b4f-ca499c610425"
      },
      "execution_count": null,
      "outputs": [
        {
          "output_type": "stream",
          "name": "stdout",
          "text": [
            "10\n"
          ]
        }
      ]
    },
    {
      "cell_type": "code",
      "source": [
        "print(type(a))\n",
        "print(type(b))\n",
        "print(type(a+b))\n",
        "#Note that the numbers are integers"
      ],
      "metadata": {
        "colab": {
          "base_uri": "https://localhost:8080/"
        },
        "id": "EtAB6EoVy1RJ",
        "outputId": "7b71093e-aef7-4039-89ed-9eb2c8ca7376"
      },
      "execution_count": null,
      "outputs": [
        {
          "output_type": "stream",
          "name": "stdout",
          "text": [
            "<class 'int'>\n",
            "<class 'int'>\n",
            "<class 'int'>\n"
          ]
        }
      ]
    },
    {
      "cell_type": "markdown",
      "source": [
        "When a code must to work using +="
      ],
      "metadata": {
        "id": "MGVPD5gX4XM9"
      }
    },
    {
      "cell_type": "code",
      "source": [
        "y=10\n",
        "#x=y+=10\n",
        "y+=10\n",
        "#print(x) > get an error\n",
        "print(y)"
      ],
      "metadata": {
        "colab": {
          "base_uri": "https://localhost:8080/"
        },
        "id": "6IaMHbmTzcQC",
        "outputId": "9e6fe10f-9a8a-418d-e619-dd0f46887e62"
      },
      "execution_count": null,
      "outputs": [
        {
          "output_type": "stream",
          "name": "stdout",
          "text": [
            "20\n"
          ]
        }
      ]
    },
    {
      "cell_type": "code",
      "source": [
        "r = 5\n",
        "r += 10"
      ],
      "metadata": {
        "id": "D7YofjSK4kc0"
      },
      "execution_count": null,
      "outputs": []
    },
    {
      "cell_type": "markdown",
      "source": [
        "Checking an output using 'in range':"
      ],
      "metadata": {
        "id": "3j_RkNQR5v0z"
      }
    },
    {
      "cell_type": "code",
      "source": [
        "for i in range(5):\n",
        "    print(i,end=\"\")\n",
        "    if i==1:\n",
        "        continue\n",
        "else:\n",
        "    print('end')"
      ],
      "metadata": {
        "colab": {
          "base_uri": "https://localhost:8080/"
        },
        "id": "K9bvSXR552jP",
        "outputId": "2b01ed1a-2408-48f5-e46d-b457d1ef9cd5"
      },
      "execution_count": null,
      "outputs": [
        {
          "output_type": "stream",
          "name": "stdout",
          "text": [
            "01234end\n"
          ]
        }
      ]
    },
    {
      "cell_type": "markdown",
      "source": [
        "Use of a dictionary"
      ],
      "metadata": {
        "id": "ZXLZ96IsAhBw"
      }
    },
    {
      "cell_type": "code",
      "source": [
        "dict1={1:1,1:2,1:3,1:'value'}\n",
        "print(dict1)"
      ],
      "metadata": {
        "colab": {
          "base_uri": "https://localhost:8080/"
        },
        "id": "PU-UosFR6I8q",
        "outputId": "4c322803-db47-4ea7-92d4-2f222f91ec7b"
      },
      "execution_count": null,
      "outputs": [
        {
          "output_type": "stream",
          "name": "stdout",
          "text": [
            "{1: 'value'}\n"
          ]
        }
      ]
    },
    {
      "cell_type": "code",
      "source": [
        "dict1={1:1,1:2,1:3,1:'value',2:5,'otro':'xxx'}\n",
        "print(dict1)"
      ],
      "metadata": {
        "colab": {
          "base_uri": "https://localhost:8080/"
        },
        "id": "CRS61PI6CbKD",
        "outputId": "57ba2d9d-b5eb-4335-958f-9337a0511b17"
      },
      "execution_count": null,
      "outputs": [
        {
          "output_type": "stream",
          "name": "stdout",
          "text": [
            "{1: 'value', 2: 5, 'otro': 'xxx'}\n"
          ]
        }
      ]
    },
    {
      "cell_type": "markdown",
      "source": [
        "Playing with lists"
      ],
      "metadata": {
        "id": "i0s658AJZ70Y"
      }
    },
    {
      "cell_type": "code",
      "source": [
        "list=[10,20,30]\n",
        "i=list[1]\n",
        "for i in list:\n",
        "    i+=1\n",
        "    print(i,end=\" \")"
      ],
      "metadata": {
        "colab": {
          "base_uri": "https://localhost:8080/"
        },
        "id": "jgtcM9KnMske",
        "outputId": "32419c14-9d73-47b6-e958-6f306c2dac09"
      },
      "execution_count": null,
      "outputs": [
        {
          "output_type": "stream",
          "name": "stdout",
          "text": [
            "11 21 31 "
          ]
        }
      ]
    },
    {
      "cell_type": "code",
      "source": [
        ""
      ],
      "metadata": {
        "id": "jfY7n1wcaSDB"
      },
      "execution_count": null,
      "outputs": []
    },
    {
      "cell_type": "code",
      "source": [
        ""
      ],
      "metadata": {
        "id": "cEvV46H6zizj"
      },
      "execution_count": null,
      "outputs": []
    }
  ]
}